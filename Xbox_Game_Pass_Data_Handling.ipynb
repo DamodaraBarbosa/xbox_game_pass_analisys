{
  "nbformat": 4,
  "nbformat_minor": 0,
  "metadata": {
    "colab": {
      "provenance": [],
      "mount_file_id": "1ubSCQVPI-VPjHgnhKqAwcIyM-sm3BrL_",
      "authorship_tag": "ABX9TyOV9bhsr4tDPI+EwLe+P+s/",
      "include_colab_link": true
    },
    "kernelspec": {
      "name": "python3",
      "display_name": "Python 3"
    },
    "language_info": {
      "name": "python"
    }
  },
  "cells": [
    {
      "cell_type": "markdown",
      "metadata": {
        "id": "view-in-github",
        "colab_type": "text"
      },
      "source": [
        "<a href=\"https://colab.research.google.com/github/DamodaraBarbosa/xbox_game_pass_analisys/blob/main/Xbox_Game_Pass_Data_Handling.ipynb\" target=\"_parent\"><img src=\"https://colab.research.google.com/assets/colab-badge.svg\" alt=\"Open In Colab\"/></a>"
      ]
    },
    {
      "cell_type": "markdown",
      "source": [
        "Importando as bibliotecas"
      ],
      "metadata": {
        "id": "djDEI3qJeTa0"
      }
    },
    {
      "cell_type": "code",
      "execution_count": 1,
      "metadata": {
        "id": "6uQ3n360eN2Q"
      },
      "outputs": [],
      "source": [
        "import pandas as pd\n",
        "from numpy import NaN\n",
        "import seaborn as sns\n",
        "import matplotlib.pyplot as plt"
      ]
    },
    {
      "cell_type": "markdown",
      "source": [
        "Importando os dados "
      ],
      "metadata": {
        "id": "s5FJxg0Eehj_"
      }
    },
    {
      "cell_type": "code",
      "source": [
        "gamepass = pd.read_csv('/content/drive/MyDrive/Dados Xbox/database_gamepass (1).csv')\n",
        "gamepass.head()"
      ],
      "metadata": {
        "colab": {
          "base_uri": "https://localhost:8080/",
          "height": 438
        },
        "id": "FL8LAvgSegzq",
        "outputId": "a9fc9e28-c0a5-4156-e1bc-580f82404413"
      },
      "execution_count": 2,
      "outputs": [
        {
          "output_type": "execute_result",
          "data": {
            "text/plain": [
              "                       game     system       status release_date     added  \\\n",
              "0        PERSONA 3 PORTABLE  Xbox / PC  Coming Soon          NaN  Jan 2023   \n",
              "1          PERSONA 4 GOLDEN  Xbox / PC  Coming Soon          NaN  Jan 2023   \n",
              "2              HIGH ON LIFE  Xbox / PC  Coming Soon          NaN  Dec 2022   \n",
              "3          HELLO NEIGHBOR 2  Xbox / PC  Coming Soon          NaN  Dec 2022   \n",
              "4  WARHAMMER 40000 DARKTIDE  Xbox / PC  Coming Soon          NaN  Nov 2022   \n",
              "\n",
              "  removed                 genre       developer  publisher  esrb  ...  \\\n",
              "0     NaN          Role-Playing           Atlus       Sega     M  ...   \n",
              "1     NaN                   NaN           Atlus       Sega     M  ...   \n",
              "2     NaN  First-Person Shooter             NaN        NaN     M  ...   \n",
              "3     NaN     Strategy / Puzzle  Dynamic Pixels  TinyBuild  E10+  ...   \n",
              "4     NaN                Action        Fatshark   Fatshark    RP  ...   \n",
              "\n",
              "                              addons    ta_score gamerscore ratio gamers  \\\n",
              "0                               ['']  Unreleased          -     -      0   \n",
              "1                               ['']  Unreleased          -     -      0   \n",
              "2                                NaN  Unreleased          -     -      0   \n",
              "3                               ['']  Unreleased          -     -      0   \n",
              "4  ['Optimized for Xbox Series X/S']  Unreleased          -     -      0   \n",
              "\n",
              "  comp_%  comp_time rating metascore userscore  \n",
              "0    0.0        NaN      -       NaN       NaN  \n",
              "1    0.0        NaN      -       NaN       NaN  \n",
              "2    0.0        NaN      -       NaN       NaN  \n",
              "3    0.0        NaN      -       NaN       NaN  \n",
              "4    0.0        NaN      -       NaN       NaN  \n",
              "\n",
              "[5 rows x 21 columns]"
            ],
            "text/html": [
              "\n",
              "  <div id=\"df-20b9c420-48e8-4167-9176-45102dfd04df\">\n",
              "    <div class=\"colab-df-container\">\n",
              "      <div>\n",
              "<style scoped>\n",
              "    .dataframe tbody tr th:only-of-type {\n",
              "        vertical-align: middle;\n",
              "    }\n",
              "\n",
              "    .dataframe tbody tr th {\n",
              "        vertical-align: top;\n",
              "    }\n",
              "\n",
              "    .dataframe thead th {\n",
              "        text-align: right;\n",
              "    }\n",
              "</style>\n",
              "<table border=\"1\" class=\"dataframe\">\n",
              "  <thead>\n",
              "    <tr style=\"text-align: right;\">\n",
              "      <th></th>\n",
              "      <th>game</th>\n",
              "      <th>system</th>\n",
              "      <th>status</th>\n",
              "      <th>release_date</th>\n",
              "      <th>added</th>\n",
              "      <th>removed</th>\n",
              "      <th>genre</th>\n",
              "      <th>developer</th>\n",
              "      <th>publisher</th>\n",
              "      <th>esrb</th>\n",
              "      <th>...</th>\n",
              "      <th>addons</th>\n",
              "      <th>ta_score</th>\n",
              "      <th>gamerscore</th>\n",
              "      <th>ratio</th>\n",
              "      <th>gamers</th>\n",
              "      <th>comp_%</th>\n",
              "      <th>comp_time</th>\n",
              "      <th>rating</th>\n",
              "      <th>metascore</th>\n",
              "      <th>userscore</th>\n",
              "    </tr>\n",
              "  </thead>\n",
              "  <tbody>\n",
              "    <tr>\n",
              "      <th>0</th>\n",
              "      <td>PERSONA 3 PORTABLE</td>\n",
              "      <td>Xbox / PC</td>\n",
              "      <td>Coming Soon</td>\n",
              "      <td>NaN</td>\n",
              "      <td>Jan 2023</td>\n",
              "      <td>NaN</td>\n",
              "      <td>Role-Playing</td>\n",
              "      <td>Atlus</td>\n",
              "      <td>Sega</td>\n",
              "      <td>M</td>\n",
              "      <td>...</td>\n",
              "      <td>['']</td>\n",
              "      <td>Unreleased</td>\n",
              "      <td>-</td>\n",
              "      <td>-</td>\n",
              "      <td>0</td>\n",
              "      <td>0.0</td>\n",
              "      <td>NaN</td>\n",
              "      <td>-</td>\n",
              "      <td>NaN</td>\n",
              "      <td>NaN</td>\n",
              "    </tr>\n",
              "    <tr>\n",
              "      <th>1</th>\n",
              "      <td>PERSONA 4 GOLDEN</td>\n",
              "      <td>Xbox / PC</td>\n",
              "      <td>Coming Soon</td>\n",
              "      <td>NaN</td>\n",
              "      <td>Jan 2023</td>\n",
              "      <td>NaN</td>\n",
              "      <td>NaN</td>\n",
              "      <td>Atlus</td>\n",
              "      <td>Sega</td>\n",
              "      <td>M</td>\n",
              "      <td>...</td>\n",
              "      <td>['']</td>\n",
              "      <td>Unreleased</td>\n",
              "      <td>-</td>\n",
              "      <td>-</td>\n",
              "      <td>0</td>\n",
              "      <td>0.0</td>\n",
              "      <td>NaN</td>\n",
              "      <td>-</td>\n",
              "      <td>NaN</td>\n",
              "      <td>NaN</td>\n",
              "    </tr>\n",
              "    <tr>\n",
              "      <th>2</th>\n",
              "      <td>HIGH ON LIFE</td>\n",
              "      <td>Xbox / PC</td>\n",
              "      <td>Coming Soon</td>\n",
              "      <td>NaN</td>\n",
              "      <td>Dec 2022</td>\n",
              "      <td>NaN</td>\n",
              "      <td>First-Person Shooter</td>\n",
              "      <td>NaN</td>\n",
              "      <td>NaN</td>\n",
              "      <td>M</td>\n",
              "      <td>...</td>\n",
              "      <td>NaN</td>\n",
              "      <td>Unreleased</td>\n",
              "      <td>-</td>\n",
              "      <td>-</td>\n",
              "      <td>0</td>\n",
              "      <td>0.0</td>\n",
              "      <td>NaN</td>\n",
              "      <td>-</td>\n",
              "      <td>NaN</td>\n",
              "      <td>NaN</td>\n",
              "    </tr>\n",
              "    <tr>\n",
              "      <th>3</th>\n",
              "      <td>HELLO NEIGHBOR 2</td>\n",
              "      <td>Xbox / PC</td>\n",
              "      <td>Coming Soon</td>\n",
              "      <td>NaN</td>\n",
              "      <td>Dec 2022</td>\n",
              "      <td>NaN</td>\n",
              "      <td>Strategy / Puzzle</td>\n",
              "      <td>Dynamic Pixels</td>\n",
              "      <td>TinyBuild</td>\n",
              "      <td>E10+</td>\n",
              "      <td>...</td>\n",
              "      <td>['']</td>\n",
              "      <td>Unreleased</td>\n",
              "      <td>-</td>\n",
              "      <td>-</td>\n",
              "      <td>0</td>\n",
              "      <td>0.0</td>\n",
              "      <td>NaN</td>\n",
              "      <td>-</td>\n",
              "      <td>NaN</td>\n",
              "      <td>NaN</td>\n",
              "    </tr>\n",
              "    <tr>\n",
              "      <th>4</th>\n",
              "      <td>WARHAMMER 40000 DARKTIDE</td>\n",
              "      <td>Xbox / PC</td>\n",
              "      <td>Coming Soon</td>\n",
              "      <td>NaN</td>\n",
              "      <td>Nov 2022</td>\n",
              "      <td>NaN</td>\n",
              "      <td>Action</td>\n",
              "      <td>Fatshark</td>\n",
              "      <td>Fatshark</td>\n",
              "      <td>RP</td>\n",
              "      <td>...</td>\n",
              "      <td>['Optimized for Xbox Series X/S']</td>\n",
              "      <td>Unreleased</td>\n",
              "      <td>-</td>\n",
              "      <td>-</td>\n",
              "      <td>0</td>\n",
              "      <td>0.0</td>\n",
              "      <td>NaN</td>\n",
              "      <td>-</td>\n",
              "      <td>NaN</td>\n",
              "      <td>NaN</td>\n",
              "    </tr>\n",
              "  </tbody>\n",
              "</table>\n",
              "<p>5 rows × 21 columns</p>\n",
              "</div>\n",
              "      <button class=\"colab-df-convert\" onclick=\"convertToInteractive('df-20b9c420-48e8-4167-9176-45102dfd04df')\"\n",
              "              title=\"Convert this dataframe to an interactive table.\"\n",
              "              style=\"display:none;\">\n",
              "        \n",
              "  <svg xmlns=\"http://www.w3.org/2000/svg\" height=\"24px\"viewBox=\"0 0 24 24\"\n",
              "       width=\"24px\">\n",
              "    <path d=\"M0 0h24v24H0V0z\" fill=\"none\"/>\n",
              "    <path d=\"M18.56 5.44l.94 2.06.94-2.06 2.06-.94-2.06-.94-.94-2.06-.94 2.06-2.06.94zm-11 1L8.5 8.5l.94-2.06 2.06-.94-2.06-.94L8.5 2.5l-.94 2.06-2.06.94zm10 10l.94 2.06.94-2.06 2.06-.94-2.06-.94-.94-2.06-.94 2.06-2.06.94z\"/><path d=\"M17.41 7.96l-1.37-1.37c-.4-.4-.92-.59-1.43-.59-.52 0-1.04.2-1.43.59L10.3 9.45l-7.72 7.72c-.78.78-.78 2.05 0 2.83L4 21.41c.39.39.9.59 1.41.59.51 0 1.02-.2 1.41-.59l7.78-7.78 2.81-2.81c.8-.78.8-2.07 0-2.86zM5.41 20L4 18.59l7.72-7.72 1.47 1.35L5.41 20z\"/>\n",
              "  </svg>\n",
              "      </button>\n",
              "      \n",
              "  <style>\n",
              "    .colab-df-container {\n",
              "      display:flex;\n",
              "      flex-wrap:wrap;\n",
              "      gap: 12px;\n",
              "    }\n",
              "\n",
              "    .colab-df-convert {\n",
              "      background-color: #E8F0FE;\n",
              "      border: none;\n",
              "      border-radius: 50%;\n",
              "      cursor: pointer;\n",
              "      display: none;\n",
              "      fill: #1967D2;\n",
              "      height: 32px;\n",
              "      padding: 0 0 0 0;\n",
              "      width: 32px;\n",
              "    }\n",
              "\n",
              "    .colab-df-convert:hover {\n",
              "      background-color: #E2EBFA;\n",
              "      box-shadow: 0px 1px 2px rgba(60, 64, 67, 0.3), 0px 1px 3px 1px rgba(60, 64, 67, 0.15);\n",
              "      fill: #174EA6;\n",
              "    }\n",
              "\n",
              "    [theme=dark] .colab-df-convert {\n",
              "      background-color: #3B4455;\n",
              "      fill: #D2E3FC;\n",
              "    }\n",
              "\n",
              "    [theme=dark] .colab-df-convert:hover {\n",
              "      background-color: #434B5C;\n",
              "      box-shadow: 0px 1px 3px 1px rgba(0, 0, 0, 0.15);\n",
              "      filter: drop-shadow(0px 1px 2px rgba(0, 0, 0, 0.3));\n",
              "      fill: #FFFFFF;\n",
              "    }\n",
              "  </style>\n",
              "\n",
              "      <script>\n",
              "        const buttonEl =\n",
              "          document.querySelector('#df-20b9c420-48e8-4167-9176-45102dfd04df button.colab-df-convert');\n",
              "        buttonEl.style.display =\n",
              "          google.colab.kernel.accessAllowed ? 'block' : 'none';\n",
              "\n",
              "        async function convertToInteractive(key) {\n",
              "          const element = document.querySelector('#df-20b9c420-48e8-4167-9176-45102dfd04df');\n",
              "          const dataTable =\n",
              "            await google.colab.kernel.invokeFunction('convertToInteractive',\n",
              "                                                     [key], {});\n",
              "          if (!dataTable) return;\n",
              "\n",
              "          const docLinkHtml = 'Like what you see? Visit the ' +\n",
              "            '<a target=\"_blank\" href=https://colab.research.google.com/notebooks/data_table.ipynb>data table notebook</a>'\n",
              "            + ' to learn more about interactive tables.';\n",
              "          element.innerHTML = '';\n",
              "          dataTable['output_type'] = 'display_data';\n",
              "          await google.colab.output.renderOutput(dataTable, element);\n",
              "          const docLink = document.createElement('div');\n",
              "          docLink.innerHTML = docLinkHtml;\n",
              "          element.appendChild(docLink);\n",
              "        }\n",
              "      </script>\n",
              "    </div>\n",
              "  </div>\n",
              "  "
            ]
          },
          "metadata": {},
          "execution_count": 2
        }
      ]
    },
    {
      "cell_type": "code",
      "source": [
        "gamepass.info()"
      ],
      "metadata": {
        "colab": {
          "base_uri": "https://localhost:8080/"
        },
        "id": "UOrQd-Uge-nl",
        "outputId": "ea9603a2-66a3-4a67-ab73-1c01d7dc53e2"
      },
      "execution_count": 3,
      "outputs": [
        {
          "output_type": "stream",
          "name": "stdout",
          "text": [
            "<class 'pandas.core.frame.DataFrame'>\n",
            "RangeIndex: 1197 entries, 0 to 1196\n",
            "Data columns (total 21 columns):\n",
            " #   Column        Non-Null Count  Dtype  \n",
            "---  ------        --------------  -----  \n",
            " 0   game          1197 non-null   object \n",
            " 1   system        1196 non-null   object \n",
            " 2   status        1196 non-null   object \n",
            " 3   release_date  753 non-null    object \n",
            " 4   added         1197 non-null   object \n",
            " 5   removed       646 non-null    object \n",
            " 6   genre         1192 non-null   object \n",
            " 7   developer     733 non-null    object \n",
            " 8   publisher     733 non-null    object \n",
            " 9   esrb          678 non-null    object \n",
            " 10  esrb content  594 non-null    object \n",
            " 11  addons        733 non-null    object \n",
            " 12  ta_score      926 non-null    object \n",
            " 13  gamerscore    926 non-null    object \n",
            " 14  ratio         926 non-null    object \n",
            " 15  gamers        926 non-null    object \n",
            " 16  comp_%        926 non-null    float64\n",
            " 17  comp_time     846 non-null    object \n",
            " 18  rating        926 non-null    object \n",
            " 19  metascore     753 non-null    object \n",
            " 20  userscore     753 non-null    object \n",
            "dtypes: float64(1), object(20)\n",
            "memory usage: 196.5+ KB\n"
          ]
        }
      ]
    },
    {
      "cell_type": "markdown",
      "source": [
        "## Tratamentos dos dados"
      ],
      "metadata": {
        "id": "3BsYxh6Ifgm6"
      }
    },
    {
      "cell_type": "markdown",
      "source": [
        "Metascore"
      ],
      "metadata": {
        "id": "FWMm8I2FgKSb"
      }
    },
    {
      "cell_type": "code",
      "source": [
        "# substitui-se o valor 'tbd' por valor nulo:\n",
        "\n",
        "gamepass['metascore'].replace('tbd', NaN, inplace= True)"
      ],
      "metadata": {
        "id": "or2Sf8lXgV-Q"
      },
      "execution_count": 4,
      "outputs": []
    },
    {
      "cell_type": "code",
      "source": [
        "# convertem-se os dados de metascore para float:\n",
        "\n",
        "gamepass['metascore'] = gamepass['metascore'].astype(float)"
      ],
      "metadata": {
        "id": "op05RG9dfbAK"
      },
      "execution_count": 5,
      "outputs": []
    },
    {
      "cell_type": "markdown",
      "source": [
        "Userscore"
      ],
      "metadata": {
        "id": "4OMIirgagreb"
      }
    },
    {
      "cell_type": "code",
      "source": [
        "# substitui-se, também, os valor 'tbd' por valor nulo:\n",
        "\n",
        "gamepass['userscore'].replace('tbd', NaN, inplace= True)"
      ],
      "metadata": {
        "id": "_hupmG0HgcfN"
      },
      "execution_count": 6,
      "outputs": []
    },
    {
      "cell_type": "code",
      "source": [
        "# convertem-se os dados de userscore para float:\n",
        "\n",
        "gamepass['userscore'] = gamepass['userscore'].astype(float)"
      ],
      "metadata": {
        "id": "EQ44zLFpg23u"
      },
      "execution_count": 7,
      "outputs": []
    },
    {
      "cell_type": "markdown",
      "source": [
        "Gamers"
      ],
      "metadata": {
        "id": "ncIa4jdynrK5"
      }
    },
    {
      "cell_type": "code",
      "source": [
        "# retira-se o caractere vírgula usando o método replace():\n",
        "\n",
        "gamepass['gamers'] = gamepass['gamers'].str.replace(',', '')"
      ],
      "metadata": {
        "id": "eZuWm6F_nsUo"
      },
      "execution_count": 8,
      "outputs": []
    },
    {
      "cell_type": "code",
      "source": [
        "# convertem-se esses dados para float:\n",
        "\n",
        "gamepass['gamers'] = gamepass['gamers'].astype(float)"
      ],
      "metadata": {
        "id": "uiwaLZT_oG3H"
      },
      "execution_count": 9,
      "outputs": []
    },
    {
      "cell_type": "markdown",
      "source": [
        "Gamerscore"
      ],
      "metadata": {
        "id": "8WOwTbdU4H5F"
      }
    },
    {
      "cell_type": "code",
      "source": [
        "# substitui-se os dados com caractere '-' por valor nulo,\n",
        "# além das vírgulas que devem ser eliminadas:\n",
        "\n",
        "gamepass['gamerscore'].replace('-', NaN, inplace= True)\n",
        "gamepass['gamerscore'] = gamepass['gamerscore'].str.replace(',', '')"
      ],
      "metadata": {
        "id": "9C0rVb0p4JaY"
      },
      "execution_count": 47,
      "outputs": []
    },
    {
      "cell_type": "code",
      "source": [
        "# convertem-se os dados da coluna gamerscore para float:\n",
        "\n",
        "gamepass['gamerscore'] = gamepass['gamerscore'].astype(float)\n",
        "gamepass['gamerscore'].unique()"
      ],
      "metadata": {
        "colab": {
          "base_uri": "https://localhost:8080/"
        },
        "id": "uefwXFFg4cBB",
        "outputId": "2aee9fc2-edcb-47aa-cd86-c8387a2d8e5a"
      },
      "execution_count": 48,
      "outputs": [
        {
          "output_type": "execute_result",
          "data": {
            "text/plain": [
              "array([  nan, 1000.,  250., 1200., 1850., 3650., 1845.,  200., 1450.,\n",
              "       1500., 1260., 1695., 1285.,  400., 1180., 1560., 1060., 1755.,\n",
              "       2915., 1870., 1195., 1115., 1600., 1390., 1300., 1615., 1110.,\n",
              "       1250.,    0., 1585., 1425., 1190., 1380., 1460., 1350., 1210.,\n",
              "       1305., 1640., 1735., 1800., 1550., 2000., 1430., 1290., 1370.,\n",
              "       1150., 1090., 1545., 1490., 1400., 1750., 2750., 1315., 1215.,\n",
              "       1030., 3000., 1700., 1435., 1730., 2030., 1070., 2375., 4000.,\n",
              "       1075., 1170., 1540., 2820., 3610., 7000., 2600., 2400., 2490.,\n",
              "       3730., 4100., 2510., 1925., 1360., 1325., 1050., 3810., 1520.,\n",
              "       5220., 1790., 1100., 1620., 1710., 1340., 2250., 2985., 1470.,\n",
              "       2310., 3050., 1185., 1240., 1675., 2200., 2080., 1270., 2150.,\n",
              "       1345., 1875., 1570., 2500., 1690., 1605., 1680., 1137.,  450.,\n",
              "        600.,  500.,  300., 1375., 2430., 1960., 2300., 1860.,  520.])"
            ]
          },
          "metadata": {},
          "execution_count": 48
        }
      ]
    },
    {
      "cell_type": "markdown",
      "source": [
        "Percentual de completação dos jogos"
      ],
      "metadata": {
        "id": "JQDadC9rivA2"
      }
    },
    {
      "cell_type": "code",
      "source": [
        "# convertendo os dados de string para float:\n",
        "\n",
        "gamepass['comp_%'] = gamepass['comp_%'].astype(float)"
      ],
      "metadata": {
        "id": "xYQnH_a9hBve"
      },
      "execution_count": 10,
      "outputs": []
    },
    {
      "cell_type": "markdown",
      "source": [
        "Tempo para completar o jogo"
      ],
      "metadata": {
        "id": "9N5wUx2blV6F"
      }
    },
    {
      "cell_type": "code",
      "source": [
        "# a fonte, site True Achievements, estima um intervalo de algumas horas que os jogadores levam para completar os jogos:\n",
        "\n",
        "gamepass['comp_time'].unique()"
      ],
      "metadata": {
        "colab": {
          "base_uri": "https://localhost:8080/"
        },
        "id": "R8q_dgjBi0Ja",
        "outputId": "6e7337d3-6435-4a5b-f19f-04ba59487f8a"
      },
      "execution_count": 11,
      "outputs": [
        {
          "output_type": "execute_result",
          "data": {
            "text/plain": [
              "array([nan, '15-20 hours', '8-10 hours', '6-8 hours', '3-4 hours',\n",
              "       '20-25 hours', '80-100 hours', '2-3 hours', '60-80 hours',\n",
              "       '12-15 hours', '40-50 hours', '1000+ hours', '25-30 hours',\n",
              "       '1-2 hours', '0.5-1 hour', '150-200 hours', '120-150 hours',\n",
              "       '10-12 hours', '50-60 hours', '100-120 hours', '4-5 hours',\n",
              "       '0-0.5 hours', '30-35 hours', '200-300 hours', '300-500 hours',\n",
              "       '5-6 hours', '35-40 hours', '500-750 hours', '200+ hours'],\n",
              "      dtype=object)"
            ]
          },
          "metadata": {},
          "execution_count": 11
        }
      ]
    },
    {
      "cell_type": "code",
      "source": [
        "# substiu-se o caractere '-' por um espaço ' ':\n",
        "\n",
        "gamepass['comp_time'] = gamepass['comp_time'].str.replace('-', ' ')"
      ],
      "metadata": {
        "id": "NrMfT3A1lqyl"
      },
      "execution_count": 12,
      "outputs": []
    },
    {
      "cell_type": "code",
      "source": [
        "# retira-se o caractere '+':\n",
        "\n",
        "gamepass['comp_time'] = gamepass['comp_time'].str.replace('+', '')"
      ],
      "metadata": {
        "colab": {
          "base_uri": "https://localhost:8080/"
        },
        "id": "lm7YQJ9brUYp",
        "outputId": "3e65db05-e1af-4f2c-ada4-cd4924e01b6e"
      },
      "execution_count": 13,
      "outputs": [
        {
          "output_type": "stream",
          "name": "stderr",
          "text": [
            "/usr/local/lib/python3.7/dist-packages/ipykernel_launcher.py:3: FutureWarning: The default value of regex will change from True to False in a future version. In addition, single character regular expressions will *not* be treated as literal strings when regex=True.\n",
            "  This is separate from the ipykernel package so we can avoid doing imports until\n"
          ]
        }
      ]
    },
    {
      "cell_type": "code",
      "source": [
        "# particiona-se para que uma lista seja formada usando o método split();\n",
        "\n",
        "gamepass['comp_time'] = gamepass['comp_time'].str.split()"
      ],
      "metadata": {
        "id": "qVi0F8RJrjnn"
      },
      "execution_count": 14,
      "outputs": []
    },
    {
      "cell_type": "code",
      "source": [
        "# itera-se para estimar a média de tempo para completar o jogo para cada jogo:\n",
        "\n",
        "for index, time in enumerate(gamepass['comp_time']):\n",
        "  try:\n",
        "    if len(time) == 2:\n",
        "      gamepass.at[index, 'comp_time'] = float(time[0])\n",
        "    else:\n",
        "      gamepass.at[index, 'comp_time'] = ((float(time[0]) + float(time[1])) / 2)\n",
        "  except TypeError:\n",
        "    pass"
      ],
      "metadata": {
        "id": "F75IrJNRsKd3"
      },
      "execution_count": 15,
      "outputs": []
    },
    {
      "cell_type": "code",
      "source": [
        "gamepass['comp_time'] = gamepass['comp_time'].astype(float)"
      ],
      "metadata": {
        "id": "YXdt6uJ_xNG2"
      },
      "execution_count": 16,
      "outputs": []
    },
    {
      "cell_type": "markdown",
      "source": [
        "True Achievements Score"
      ],
      "metadata": {
        "id": "YSrrpqLj53XL"
      }
    },
    {
      "cell_type": "code",
      "source": [
        "# substitui-se os dados 'Unreleased' por dados nulos:\n",
        "\n",
        "gamepass['ta_score'].replace('Unreleased', NaN, inplace= True)"
      ],
      "metadata": {
        "id": "8H-uqXk56fUm"
      },
      "execution_count": 60,
      "outputs": []
    },
    {
      "cell_type": "code",
      "source": [
        "# elimina-se a vírgula:\n",
        "\n",
        "gamepass['ta_score'] = gamepass['ta_score'].str.replace(',', '')"
      ],
      "metadata": {
        "id": "uC3CQ6_r56zg"
      },
      "execution_count": 61,
      "outputs": []
    },
    {
      "cell_type": "code",
      "source": [
        "# convertem-se os dados para o formato float:\n",
        "\n",
        "gamepass['ta_score'] = gamepass['ta_score'].astype(float)"
      ],
      "metadata": {
        "id": "z6cjo9Bb6Ivt"
      },
      "execution_count": 62,
      "outputs": []
    },
    {
      "cell_type": "markdown",
      "source": [
        "Rating"
      ],
      "metadata": {
        "id": "egyHaQdNxoE0"
      }
    },
    {
      "cell_type": "code",
      "source": [
        "# para converter as avaliações (rating) do True Achievements:\n",
        "\n",
        "gamepass['rating'].unique()"
      ],
      "metadata": {
        "colab": {
          "base_uri": "https://localhost:8080/"
        },
        "id": "4vdo0tYhxi2j",
        "outputId": "b6d6dff6-8fec-41a0-ffcd-761cbb1bb612"
      },
      "execution_count": 17,
      "outputs": [
        {
          "output_type": "execute_result",
          "data": {
            "text/plain": [
              "array(['-', nan, '3.8', '4.1', '4.5', '4.2', '2.4', '3.7', '4.3', '4.4',\n",
              "       '3.0', '3.1', '2.8', '3.4', '2.5', '2.2', '4.0', '2.7', '3.6',\n",
              "       '4.6', '3.2', '3.3', '3.9', '3.5', '2.6', '4.8', '2.9', '2.0',\n",
              "       '4.7', '2.3'], dtype=object)"
            ]
          },
          "metadata": {},
          "execution_count": 17
        }
      ]
    },
    {
      "cell_type": "code",
      "source": [
        "# substitui-se os dados '-' por valor nulo:\n",
        "\n",
        "gamepass['rating'].replace('-', NaN, inplace= True)"
      ],
      "metadata": {
        "id": "BwooWytcyGK6"
      },
      "execution_count": 18,
      "outputs": []
    },
    {
      "cell_type": "code",
      "source": [
        "# convertem-se os dados da coluna rating para o tipo float:\n",
        "\n",
        "gamepass['rating'] = gamepass['rating'].astype(float)"
      ],
      "metadata": {
        "id": "DZU3P-wTygOD"
      },
      "execution_count": 19,
      "outputs": []
    },
    {
      "cell_type": "markdown",
      "source": [
        "Ratio"
      ],
      "metadata": {
        "id": "bbjNhlfe1GyO"
      }
    },
    {
      "cell_type": "code",
      "source": [
        "gamepass['ratio'].unique()"
      ],
      "metadata": {
        "colab": {
          "base_uri": "https://localhost:8080/"
        },
        "id": "nlHJdQSK1CVJ",
        "outputId": "0a828529-a358-4798-a166-bac169cd5019"
      },
      "execution_count": 21,
      "outputs": [
        {
          "output_type": "execute_result",
          "data": {
            "text/plain": [
              "array(['-', nan, '1.31', '2.97', '1.29', '1.22', '1.42', '1.17', '2.02',\n",
              "       '11.79', '9.01', '1.57', '5.20', '3.54', '12.63', '1.47', '6.97',\n",
              "       '4.19', '2.41', '2.22', '1.65', '6.38', '6.67', '1.86', '1.67',\n",
              "       '3.26', '2.58', '1.36', '1.77', '1.96', '3.27', '1.56', '1.25',\n",
              "       '2.13', '2.70', '17.69', '3.75', '1.53', '4.45', '3.09', '2.25',\n",
              "       '2.17', '3.22', '3.32', '5.02', '2.92', '2.86', '4.27', '3.40',\n",
              "       '11.50', '8.40', '2.57', '3.05', '5.33', '3.20', '6.28', '4.16',\n",
              "       '1.89', '4.72', '2.03', '6.07', '5.47', '4.93', '4.23', '7.42',\n",
              "       '19.87', '1.51', '1.32', '2.55', '2.24', '1.92', '4.38', '1.13',\n",
              "       '2.90', '3.28', '1.59', '1.48', '2.91', '1.60', '1.94', '3.88',\n",
              "       '9.42', '1.87', '18.32', '5.94', '2.82', '1.40', '4.77', '1.23',\n",
              "       '4.88', '1.80', '3.61', '5.96', '2.62', '11.15', '4.02', '1.84',\n",
              "       '1.62', '1.85', '3.03', '2.83', '1.27', '2.11', '3.14', '2.37',\n",
              "       '5.53', '2.38', '2.33', '1.45', '1.76', '5.27', '1.82', '3.01',\n",
              "       '3.29', '11.18', '3.38', '3.16', '7.89', '4.75', '5.56', '2.65',\n",
              "       '5.37', '5.63', '6.12', '3.90', '3.98', '2.68', '2.19', '2.93',\n",
              "       '3.62', '2.80', '3.73', '1.70', '2.61', '3.63', '3.53', '4.82',\n",
              "       '20.96', '5.25', '1.00', '3.58', '2.72', '3.19', '2.78', '4.62',\n",
              "       '11.57', '1.91', '2.09', '3.04', '5.88', '2.44', '1.99', '4.17',\n",
              "       '3.45', '3.66', '2.23', '1.46', '6.45', '5.92', '1.43', '1.97',\n",
              "       '8.52', '2.28', '3.47', '3.18', '2.18', '2.04', '2.49', '2.46',\n",
              "       '2.98', '3.13', '2.87', '2.50', '3.39', '3.80', '4.29', '3.07',\n",
              "       '2.07', '2.71', '1.26', '2.42', '1.88', '5.14', '3.00', '1.55',\n",
              "       '2.31', '1.69', '1.71', '5.08', '2.15', '1.72', '11.83', '2.81',\n",
              "       '3.93', '3.06', '3.10', '6.66', '5.71', '3.49', '3.81', '2.29',\n",
              "       '5.55', '5.31', '1.93', '2.89', '11.31', '4.42', '6.53', '4.89',\n",
              "       '2.74', '2.48', '10.48', '4.76', '1.37', '3.87', '3.08', '2.94',\n",
              "       '7.41', '3.91', '2.84', '8.13', '9.18', '8.88', '2.10', '1.75',\n",
              "       '3.23', '2.76', '10.55', '3.51', '6.74', '6.14', '4.44', '4.78',\n",
              "       '5.64', '2.12', '7.25', '1.95', '2.34', '4.03', '6.54', '4.09',\n",
              "       '4.08', '3.65', '11.59', '4.24', '1.06', '3.41', '1.05', '1.78',\n",
              "       '3.31', '1.10', '3.11', '3.43', '2.36', '3.97', '4.54', '3.89',\n",
              "       '7.37', '8.26', '2.51', '2.00', '6.89', '5.11', '1.83', '1.38',\n",
              "       '1.81', '6.73', '2.69', '2.56', '2.47', '3.52', '4.83', '3.77',\n",
              "       '5.82', '11.85', '2.85', '3.79', '10.45', '3.68', '3.56', '1.98',\n",
              "       '7.56', '5.66', '2.75', '6.21', '3.57', '2.01', '5.49', '5.99',\n",
              "       '4.90', '6.43', '3.60', '14.04', '1.20', '3.37', '4.04', '2.99',\n",
              "       '1.61', '2.35', '5.90', '1.15', '6.52', '4.53', '21.46', '8.74',\n",
              "       '9.48', '1.50', '1.49', '4.70', '9.90', '2.30', '3.76', '3.12',\n",
              "       '11.80', '4.40', '4.99', '5.00', '4.07', '2.77', '1.44', '8.27',\n",
              "       '2.16', '6.31', '2.20', '3.36', '6.75', '3.86', '4.95', '1.66',\n",
              "       '3.44', '2.45', '2.21', '2.95', '2.43', '3.64', '1.58', '4.12',\n",
              "       '16.14', '1.11', '2.73', '4.46', '5.06', '6.85', '5.45', '4.00',\n",
              "       '3.71', '2.52', '7.07', '5.89', '4.26', '2.67', '4.35', '1.14',\n",
              "       '1.24', '5.30', '4.33', '4.48', '5.73', '1.73', '5.48', '7.22',\n",
              "       '14.22', '7.14', '5.16', '3.34', '7.64', '1.02', '8.59', '3.92',\n",
              "       '3.15', '3.70', '9.28', '1.21', '1.54', '1.41', '4.86', '1.52',\n",
              "       '4.68', '7.49', '2.08', '3.24', '9.86', '3.02', '4.55', '8.62',\n",
              "       '2.27', '3.17', '1.12', '5.17', '1.90', '3.83', '5.60', '2.32',\n",
              "       '3.25', '11.46', '7.75', '5.42', '7.28', '2.66', '5.86', '1.64',\n",
              "       '4.34', '5.26', '5.58', '6.20', '4.58', '6.47', '2.06', '3.30',\n",
              "       '1.74', '2.26', '3.78', '9.21', '6.41', '5.91', '4.52', '3.48',\n",
              "       '7.58', '9.19', '3.82', '5.28', '18.30', '8.30', '4.65', '4.22',\n",
              "       '9.51', '4.37', '5.39', '4.13', '4.25', '2.14', '5.38', '3.72',\n",
              "       '4.60', '2.60', '1.68', '5.15', '7.09', '5.61', '2.05', '2.40',\n",
              "       '4.63', '6.91'], dtype=object)"
            ]
          },
          "metadata": {},
          "execution_count": 21
        }
      ]
    },
    {
      "cell_type": "code",
      "source": [
        "# substituindo o caractere '-' por um dado nulo:\n",
        "\n",
        "gamepass['ratio'].replace('-', NaN, inplace= True)"
      ],
      "metadata": {
        "id": "kg9Myg741PZA"
      },
      "execution_count": 22,
      "outputs": []
    },
    {
      "cell_type": "code",
      "source": [
        "# convertem-se os dados da coluna ratio para float:\n",
        "\n",
        "gamepass['ratio'] = gamepass['ratio'].astype(float)"
      ],
      "metadata": {
        "id": "PxWNT0df1awV"
      },
      "execution_count": 24,
      "outputs": []
    },
    {
      "cell_type": "markdown",
      "source": [
        "Convertendo as colunas com datas para tipo datetime"
      ],
      "metadata": {
        "id": "x_GtHEgx2cNz"
      }
    },
    {
      "cell_type": "code",
      "source": [
        "# para coluna release_date:\n",
        "\n",
        "gamepass['release_date'] = pd.to_datetime(gamepass['release_date'])\n",
        "gamepass['release_date'].tail()"
      ],
      "metadata": {
        "colab": {
          "base_uri": "https://localhost:8080/"
        },
        "id": "0dkqO39D1nQF",
        "outputId": "f0d49c76-8214-410f-b06c-3a693d3c0365"
      },
      "execution_count": 35,
      "outputs": [
        {
          "output_type": "execute_result",
          "data": {
            "text/plain": [
              "1192   2014-02-19\n",
              "1193   2012-06-06\n",
              "1194   2015-10-27\n",
              "1195   2015-09-25\n",
              "1196   2013-06-19\n",
              "Name: release_date, dtype: datetime64[ns]"
            ]
          },
          "metadata": {},
          "execution_count": 35
        }
      ]
    },
    {
      "cell_type": "code",
      "source": [
        "# para coluna removed:\n",
        "\n",
        "gamepass['removed'] = pd.to_datetime(gamepass['removed'])\n",
        "gamepass['removed'].tail()"
      ],
      "metadata": {
        "colab": {
          "base_uri": "https://localhost:8080/"
        },
        "id": "0bnAC4mz2pRX",
        "outputId": "b4672965-46b1-45e7-dbdf-df61c342ea51"
      },
      "execution_count": 37,
      "outputs": [
        {
          "output_type": "execute_result",
          "data": {
            "text/plain": [
              "1192   2018-03-01\n",
              "1193   2018-03-01\n",
              "1194   2018-01-01\n",
              "1195   2017-12-01\n",
              "1196   2017-08-01\n",
              "Name: removed, dtype: datetime64[ns]"
            ]
          },
          "metadata": {},
          "execution_count": 37
        }
      ]
    },
    {
      "cell_type": "code",
      "source": [
        "# para coluna added:\n",
        "\n",
        "gamepass['added'] = pd.to_datetime(gamepass['added'])\n",
        "gamepass['added'].tail()"
      ],
      "metadata": {
        "colab": {
          "base_uri": "https://localhost:8080/"
        },
        "id": "l7uiYyw83Vr6",
        "outputId": "6ff97de3-75f8-406c-e6f9-14e066262b8e"
      },
      "execution_count": 38,
      "outputs": [
        {
          "output_type": "execute_result",
          "data": {
            "text/plain": [
              "1192   2017-06-01\n",
              "1193   2017-06-01\n",
              "1194   2017-06-01\n",
              "1195   2017-06-01\n",
              "1196   2017-06-01\n",
              "Name: added, dtype: datetime64[ns]"
            ]
          },
          "metadata": {},
          "execution_count": 38
        }
      ]
    },
    {
      "cell_type": "markdown",
      "source": [
        "## Exportando o dataframe"
      ],
      "metadata": {
        "id": "97fX9rxI75sP"
      }
    },
    {
      "cell_type": "code",
      "source": [
        "gamepass.to_csv('data_gamepass.csv', index= False)"
      ],
      "metadata": {
        "id": "_B5wb6XY3ciw"
      },
      "execution_count": 64,
      "outputs": []
    }
  ]
}