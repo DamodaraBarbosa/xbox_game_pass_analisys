{
  "nbformat": 4,
  "nbformat_minor": 0,
  "metadata": {
    "colab": {
      "provenance": [],
      "mount_file_id": "1vhExFFInV2ITYs0O34-n419jmD0zl0Se",
      "authorship_tag": "ABX9TyNheWxTS2vBbwp7X2zEOZ1Y",
      "include_colab_link": true
    },
    "kernelspec": {
      "name": "python3",
      "display_name": "Python 3"
    },
    "language_info": {
      "name": "python"
    }
  },
  "cells": [
    {
      "cell_type": "markdown",
      "metadata": {
        "id": "view-in-github",
        "colab_type": "text"
      },
      "source": [
        "<a href=\"https://colab.research.google.com/github/DamodaraBarbosa/xbox_game_pass_analisys/blob/main/Statistical_Analisys_Xbox_Game_Pass.ipynb\" target=\"_parent\"><img src=\"https://colab.research.google.com/assets/colab-badge.svg\" alt=\"Open In Colab\"/></a>"
      ]
    },
    {
      "cell_type": "markdown",
      "source": [
        "Importando as bibliotecas"
      ],
      "metadata": {
        "id": "79RLPkJR_EeG"
      }
    },
    {
      "cell_type": "code",
      "execution_count": 1,
      "metadata": {
        "id": "er2RL9ag-0gi"
      },
      "outputs": [],
      "source": [
        "import pandas as pd\n",
        "import seaborn as sns\n",
        "import matplotlib.pyplot as plt\n",
        "import plotly.express as px\n",
        "import numpy as np\n",
        "from numpy import NaN"
      ]
    },
    {
      "cell_type": "markdown",
      "source": [
        "Parâmetros do matplotlib"
      ],
      "metadata": {
        "id": "nMyBtPgX5wpX"
      }
    },
    {
      "cell_type": "code",
      "source": [
        "plt.rcParams['figure.figsize'] = (18, 12)\n",
        "parametros = {'axes.labelsize': 25, 'axes.titlesize': 30}\n",
        "plt.rcParams.update(parametros)"
      ],
      "metadata": {
        "id": "-R98B1eW5um8"
      },
      "execution_count": 2,
      "outputs": []
    },
    {
      "cell_type": "markdown",
      "source": [
        "Importando o dataframe"
      ],
      "metadata": {
        "id": "ZwtnSTxkDAFH"
      }
    },
    {
      "cell_type": "code",
      "source": [
        "gamepass = pd.read_csv('/content/data_gamepass.csv')\n",
        "gamepass.head()"
      ],
      "metadata": {
        "colab": {
          "base_uri": "https://localhost:8080/",
          "height": 438
        },
        "id": "8LrEOqsT_Ck6",
        "outputId": "f65637cd-4e1a-4524-bfb1-76ef999bc1f8"
      },
      "execution_count": 3,
      "outputs": [
        {
          "output_type": "execute_result",
          "data": {
            "text/plain": [
              "                       game     system       status release_date       added  \\\n",
              "0        PERSONA 3 PORTABLE  Xbox / PC  Coming Soon          NaN  2023-01-01   \n",
              "1          PERSONA 4 GOLDEN  Xbox / PC  Coming Soon          NaN  2023-01-01   \n",
              "2              HIGH ON LIFE  Xbox / PC  Coming Soon          NaN  2022-12-01   \n",
              "3          HELLO NEIGHBOR 2  Xbox / PC  Coming Soon          NaN  2022-12-01   \n",
              "4  WARHAMMER 40000 DARKTIDE  Xbox / PC  Coming Soon          NaN  2022-11-01   \n",
              "\n",
              "  removed                 genre       developer  publisher  esrb  ...  \\\n",
              "0     NaN          Role-Playing           Atlus       Sega     M  ...   \n",
              "1     NaN                   NaN           Atlus       Sega     M  ...   \n",
              "2     NaN  First-Person Shooter             NaN        NaN     M  ...   \n",
              "3     NaN     Strategy / Puzzle  Dynamic Pixels  TinyBuild  E10+  ...   \n",
              "4     NaN                Action        Fatshark   Fatshark    RP  ...   \n",
              "\n",
              "                              addons ta_score  gamerscore  ratio  gamers  \\\n",
              "0                               ['']      NaN         NaN    NaN     0.0   \n",
              "1                               ['']      NaN         NaN    NaN     0.0   \n",
              "2                                NaN      NaN         NaN    NaN     0.0   \n",
              "3                               ['']      NaN         NaN    NaN     0.0   \n",
              "4  ['Optimized for Xbox Series X/S']      NaN         NaN    NaN     0.0   \n",
              "\n",
              "   comp_%  comp_time  rating  metascore  userscore  \n",
              "0     0.0        NaN     NaN        NaN        NaN  \n",
              "1     0.0        NaN     NaN        NaN        NaN  \n",
              "2     0.0        NaN     NaN        NaN        NaN  \n",
              "3     0.0        NaN     NaN        NaN        NaN  \n",
              "4     0.0        NaN     NaN        NaN        NaN  \n",
              "\n",
              "[5 rows x 21 columns]"
            ],
            "text/html": [
              "\n",
              "  <div id=\"df-7136711c-d409-4221-97b3-3dd1d0a8b8b1\">\n",
              "    <div class=\"colab-df-container\">\n",
              "      <div>\n",
              "<style scoped>\n",
              "    .dataframe tbody tr th:only-of-type {\n",
              "        vertical-align: middle;\n",
              "    }\n",
              "\n",
              "    .dataframe tbody tr th {\n",
              "        vertical-align: top;\n",
              "    }\n",
              "\n",
              "    .dataframe thead th {\n",
              "        text-align: right;\n",
              "    }\n",
              "</style>\n",
              "<table border=\"1\" class=\"dataframe\">\n",
              "  <thead>\n",
              "    <tr style=\"text-align: right;\">\n",
              "      <th></th>\n",
              "      <th>game</th>\n",
              "      <th>system</th>\n",
              "      <th>status</th>\n",
              "      <th>release_date</th>\n",
              "      <th>added</th>\n",
              "      <th>removed</th>\n",
              "      <th>genre</th>\n",
              "      <th>developer</th>\n",
              "      <th>publisher</th>\n",
              "      <th>esrb</th>\n",
              "      <th>...</th>\n",
              "      <th>addons</th>\n",
              "      <th>ta_score</th>\n",
              "      <th>gamerscore</th>\n",
              "      <th>ratio</th>\n",
              "      <th>gamers</th>\n",
              "      <th>comp_%</th>\n",
              "      <th>comp_time</th>\n",
              "      <th>rating</th>\n",
              "      <th>metascore</th>\n",
              "      <th>userscore</th>\n",
              "    </tr>\n",
              "  </thead>\n",
              "  <tbody>\n",
              "    <tr>\n",
              "      <th>0</th>\n",
              "      <td>PERSONA 3 PORTABLE</td>\n",
              "      <td>Xbox / PC</td>\n",
              "      <td>Coming Soon</td>\n",
              "      <td>NaN</td>\n",
              "      <td>2023-01-01</td>\n",
              "      <td>NaN</td>\n",
              "      <td>Role-Playing</td>\n",
              "      <td>Atlus</td>\n",
              "      <td>Sega</td>\n",
              "      <td>M</td>\n",
              "      <td>...</td>\n",
              "      <td>['']</td>\n",
              "      <td>NaN</td>\n",
              "      <td>NaN</td>\n",
              "      <td>NaN</td>\n",
              "      <td>0.0</td>\n",
              "      <td>0.0</td>\n",
              "      <td>NaN</td>\n",
              "      <td>NaN</td>\n",
              "      <td>NaN</td>\n",
              "      <td>NaN</td>\n",
              "    </tr>\n",
              "    <tr>\n",
              "      <th>1</th>\n",
              "      <td>PERSONA 4 GOLDEN</td>\n",
              "      <td>Xbox / PC</td>\n",
              "      <td>Coming Soon</td>\n",
              "      <td>NaN</td>\n",
              "      <td>2023-01-01</td>\n",
              "      <td>NaN</td>\n",
              "      <td>NaN</td>\n",
              "      <td>Atlus</td>\n",
              "      <td>Sega</td>\n",
              "      <td>M</td>\n",
              "      <td>...</td>\n",
              "      <td>['']</td>\n",
              "      <td>NaN</td>\n",
              "      <td>NaN</td>\n",
              "      <td>NaN</td>\n",
              "      <td>0.0</td>\n",
              "      <td>0.0</td>\n",
              "      <td>NaN</td>\n",
              "      <td>NaN</td>\n",
              "      <td>NaN</td>\n",
              "      <td>NaN</td>\n",
              "    </tr>\n",
              "    <tr>\n",
              "      <th>2</th>\n",
              "      <td>HIGH ON LIFE</td>\n",
              "      <td>Xbox / PC</td>\n",
              "      <td>Coming Soon</td>\n",
              "      <td>NaN</td>\n",
              "      <td>2022-12-01</td>\n",
              "      <td>NaN</td>\n",
              "      <td>First-Person Shooter</td>\n",
              "      <td>NaN</td>\n",
              "      <td>NaN</td>\n",
              "      <td>M</td>\n",
              "      <td>...</td>\n",
              "      <td>NaN</td>\n",
              "      <td>NaN</td>\n",
              "      <td>NaN</td>\n",
              "      <td>NaN</td>\n",
              "      <td>0.0</td>\n",
              "      <td>0.0</td>\n",
              "      <td>NaN</td>\n",
              "      <td>NaN</td>\n",
              "      <td>NaN</td>\n",
              "      <td>NaN</td>\n",
              "    </tr>\n",
              "    <tr>\n",
              "      <th>3</th>\n",
              "      <td>HELLO NEIGHBOR 2</td>\n",
              "      <td>Xbox / PC</td>\n",
              "      <td>Coming Soon</td>\n",
              "      <td>NaN</td>\n",
              "      <td>2022-12-01</td>\n",
              "      <td>NaN</td>\n",
              "      <td>Strategy / Puzzle</td>\n",
              "      <td>Dynamic Pixels</td>\n",
              "      <td>TinyBuild</td>\n",
              "      <td>E10+</td>\n",
              "      <td>...</td>\n",
              "      <td>['']</td>\n",
              "      <td>NaN</td>\n",
              "      <td>NaN</td>\n",
              "      <td>NaN</td>\n",
              "      <td>0.0</td>\n",
              "      <td>0.0</td>\n",
              "      <td>NaN</td>\n",
              "      <td>NaN</td>\n",
              "      <td>NaN</td>\n",
              "      <td>NaN</td>\n",
              "    </tr>\n",
              "    <tr>\n",
              "      <th>4</th>\n",
              "      <td>WARHAMMER 40000 DARKTIDE</td>\n",
              "      <td>Xbox / PC</td>\n",
              "      <td>Coming Soon</td>\n",
              "      <td>NaN</td>\n",
              "      <td>2022-11-01</td>\n",
              "      <td>NaN</td>\n",
              "      <td>Action</td>\n",
              "      <td>Fatshark</td>\n",
              "      <td>Fatshark</td>\n",
              "      <td>RP</td>\n",
              "      <td>...</td>\n",
              "      <td>['Optimized for Xbox Series X/S']</td>\n",
              "      <td>NaN</td>\n",
              "      <td>NaN</td>\n",
              "      <td>NaN</td>\n",
              "      <td>0.0</td>\n",
              "      <td>0.0</td>\n",
              "      <td>NaN</td>\n",
              "      <td>NaN</td>\n",
              "      <td>NaN</td>\n",
              "      <td>NaN</td>\n",
              "    </tr>\n",
              "  </tbody>\n",
              "</table>\n",
              "<p>5 rows × 21 columns</p>\n",
              "</div>\n",
              "      <button class=\"colab-df-convert\" onclick=\"convertToInteractive('df-7136711c-d409-4221-97b3-3dd1d0a8b8b1')\"\n",
              "              title=\"Convert this dataframe to an interactive table.\"\n",
              "              style=\"display:none;\">\n",
              "        \n",
              "  <svg xmlns=\"http://www.w3.org/2000/svg\" height=\"24px\"viewBox=\"0 0 24 24\"\n",
              "       width=\"24px\">\n",
              "    <path d=\"M0 0h24v24H0V0z\" fill=\"none\"/>\n",
              "    <path d=\"M18.56 5.44l.94 2.06.94-2.06 2.06-.94-2.06-.94-.94-2.06-.94 2.06-2.06.94zm-11 1L8.5 8.5l.94-2.06 2.06-.94-2.06-.94L8.5 2.5l-.94 2.06-2.06.94zm10 10l.94 2.06.94-2.06 2.06-.94-2.06-.94-.94-2.06-.94 2.06-2.06.94z\"/><path d=\"M17.41 7.96l-1.37-1.37c-.4-.4-.92-.59-1.43-.59-.52 0-1.04.2-1.43.59L10.3 9.45l-7.72 7.72c-.78.78-.78 2.05 0 2.83L4 21.41c.39.39.9.59 1.41.59.51 0 1.02-.2 1.41-.59l7.78-7.78 2.81-2.81c.8-.78.8-2.07 0-2.86zM5.41 20L4 18.59l7.72-7.72 1.47 1.35L5.41 20z\"/>\n",
              "  </svg>\n",
              "      </button>\n",
              "      \n",
              "  <style>\n",
              "    .colab-df-container {\n",
              "      display:flex;\n",
              "      flex-wrap:wrap;\n",
              "      gap: 12px;\n",
              "    }\n",
              "\n",
              "    .colab-df-convert {\n",
              "      background-color: #E8F0FE;\n",
              "      border: none;\n",
              "      border-radius: 50%;\n",
              "      cursor: pointer;\n",
              "      display: none;\n",
              "      fill: #1967D2;\n",
              "      height: 32px;\n",
              "      padding: 0 0 0 0;\n",
              "      width: 32px;\n",
              "    }\n",
              "\n",
              "    .colab-df-convert:hover {\n",
              "      background-color: #E2EBFA;\n",
              "      box-shadow: 0px 1px 2px rgba(60, 64, 67, 0.3), 0px 1px 3px 1px rgba(60, 64, 67, 0.15);\n",
              "      fill: #174EA6;\n",
              "    }\n",
              "\n",
              "    [theme=dark] .colab-df-convert {\n",
              "      background-color: #3B4455;\n",
              "      fill: #D2E3FC;\n",
              "    }\n",
              "\n",
              "    [theme=dark] .colab-df-convert:hover {\n",
              "      background-color: #434B5C;\n",
              "      box-shadow: 0px 1px 3px 1px rgba(0, 0, 0, 0.15);\n",
              "      filter: drop-shadow(0px 1px 2px rgba(0, 0, 0, 0.3));\n",
              "      fill: #FFFFFF;\n",
              "    }\n",
              "  </style>\n",
              "\n",
              "      <script>\n",
              "        const buttonEl =\n",
              "          document.querySelector('#df-7136711c-d409-4221-97b3-3dd1d0a8b8b1 button.colab-df-convert');\n",
              "        buttonEl.style.display =\n",
              "          google.colab.kernel.accessAllowed ? 'block' : 'none';\n",
              "\n",
              "        async function convertToInteractive(key) {\n",
              "          const element = document.querySelector('#df-7136711c-d409-4221-97b3-3dd1d0a8b8b1');\n",
              "          const dataTable =\n",
              "            await google.colab.kernel.invokeFunction('convertToInteractive',\n",
              "                                                     [key], {});\n",
              "          if (!dataTable) return;\n",
              "\n",
              "          const docLinkHtml = 'Like what you see? Visit the ' +\n",
              "            '<a target=\"_blank\" href=https://colab.research.google.com/notebooks/data_table.ipynb>data table notebook</a>'\n",
              "            + ' to learn more about interactive tables.';\n",
              "          element.innerHTML = '';\n",
              "          dataTable['output_type'] = 'display_data';\n",
              "          await google.colab.output.renderOutput(dataTable, element);\n",
              "          const docLink = document.createElement('div');\n",
              "          docLink.innerHTML = docLinkHtml;\n",
              "          element.appendChild(docLink);\n",
              "        }\n",
              "      </script>\n",
              "    </div>\n",
              "  </div>\n",
              "  "
            ]
          },
          "metadata": {},
          "execution_count": 3
        }
      ]
    },
    {
      "cell_type": "code",
      "source": [
        "gamepass.info()"
      ],
      "metadata": {
        "colab": {
          "base_uri": "https://localhost:8080/"
        },
        "id": "p5Q6WToT69R1",
        "outputId": "73a9d824-eae8-4c5f-e639-cd4ffece1328"
      },
      "execution_count": 4,
      "outputs": [
        {
          "output_type": "stream",
          "name": "stdout",
          "text": [
            "<class 'pandas.core.frame.DataFrame'>\n",
            "RangeIndex: 1197 entries, 0 to 1196\n",
            "Data columns (total 21 columns):\n",
            " #   Column        Non-Null Count  Dtype  \n",
            "---  ------        --------------  -----  \n",
            " 0   game          1197 non-null   object \n",
            " 1   system        1196 non-null   object \n",
            " 2   status        1196 non-null   object \n",
            " 3   release_date  753 non-null    object \n",
            " 4   added         1197 non-null   object \n",
            " 5   removed       646 non-null    object \n",
            " 6   genre         1192 non-null   object \n",
            " 7   developer     733 non-null    object \n",
            " 8   publisher     733 non-null    object \n",
            " 9   esrb          678 non-null    object \n",
            " 10  esrb content  594 non-null    object \n",
            " 11  addons        733 non-null    object \n",
            " 12  ta_score      906 non-null    float64\n",
            " 13  gamerscore    906 non-null    float64\n",
            " 14  ratio         905 non-null    float64\n",
            " 15  gamers        926 non-null    float64\n",
            " 16  comp_%        926 non-null    float64\n",
            " 17  comp_time     846 non-null    float64\n",
            " 18  rating        864 non-null    float64\n",
            " 19  metascore     745 non-null    float64\n",
            " 20  userscore     729 non-null    float64\n",
            "dtypes: float64(9), object(12)\n",
            "memory usage: 196.5+ KB\n"
          ]
        }
      ]
    },
    {
      "cell_type": "code",
      "source": [
        "gamepass.at[412, 'developer'] = ['Rare', 'Dlala Studios']"
      ],
      "metadata": {
        "id": "Yydz1JDhyyUQ"
      },
      "execution_count": 5,
      "outputs": []
    },
    {
      "cell_type": "code",
      "source": [
        "gamepass.at[429, 'developer'] = ['The Coalition', 'Splash Damage']"
      ],
      "metadata": {
        "id": "kHrFkoNYx3Lg"
      },
      "execution_count": 6,
      "outputs": []
    },
    {
      "cell_type": "markdown",
      "source": [
        "# Análise estatística dos dados"
      ],
      "metadata": {
        "id": "7jjE-jkFsGBQ"
      }
    },
    {
      "cell_type": "markdown",
      "source": [
        "## Das variáveis qualitativas"
      ],
      "metadata": {
        "id": "rBfjAAW-sLlF"
      }
    },
    {
      "cell_type": "markdown",
      "source": [
        "### Frequência das developers"
      ],
      "metadata": {
        "id": "-qeKr3C3ssdg"
      }
    },
    {
      "cell_type": "markdown",
      "source": [
        "Tratamentos da variável developer"
      ],
      "metadata": {
        "id": "Iubhfw_174nI"
      }
    },
    {
      "cell_type": "code",
      "source": [
        "for index, developers in enumerate(gamepass['developer']):\n",
        "  try:\n",
        "    if '343' in developers:\n",
        "      print(f'{index}: {developers}')\n",
        "  except TypeError:\n",
        "    pass\n",
        "\n",
        "# os dados dos index 499, 522 e 539 foram inseridos com fragia errada"
      ],
      "metadata": {
        "colab": {
          "base_uri": "https://localhost:8080/"
        },
        "id": "3Qs6wsca1TqN",
        "outputId": "a36d2759-72a1-47ee-8983-702f724baec6"
      },
      "execution_count": 7,
      "outputs": [
        {
          "output_type": "stream",
          "name": "stdout",
          "text": [
            "194: 343 Industries\n",
            "330: 343 Industries\n",
            "499: 343 IndustriesBungie\n",
            "522: Behaviour Interactive343i\n",
            "538: 343 Industries\n",
            "539: 343 IndustriesVanguard Games\n"
          ]
        }
      ]
    },
    {
      "cell_type": "code",
      "source": [
        "# os dados são corrigidos manualmente:\n",
        "\n",
        "gamepass.at[499, 'developer'] = ['343 Industries', 'Bungie']\n",
        "gamepass.at[522, 'developer'] = ['343 Industries', 'Behaviour Interactive']\n",
        "gamepass.at[539, 'developer'] = ['343 Industries', 'Vanguard Games']"
      ],
      "metadata": {
        "id": "v26ivhUbrD2R"
      },
      "execution_count": 8,
      "outputs": []
    },
    {
      "cell_type": "code",
      "source": [
        "# tratamento para uso do método split()\n",
        "\n",
        "gamepass['developer'].replace(' , ', ', ', inplace= True)\n",
        "gamepass['developer'] = gamepass['developer'].str.replace(' / ', '/')"
      ],
      "metadata": {
        "id": "AFDc1P1MDWWL"
      },
      "execution_count": 9,
      "outputs": []
    },
    {
      "cell_type": "code",
      "source": [
        "# itera-se da coluna developer e se separam os dados que são separados por ', ' ou '/'\n",
        "\n",
        "for index, developers in enumerate(gamepass['developer']):\n",
        "  try:\n",
        "    if ',' in developers and 'Inc.' not in developers and 'JW' not in developers:\n",
        "      developers = developers.split(', ')\n",
        "      gamepass.at[index, 'developer'] = developers\n",
        "    if '/' in developers:\n",
        "      developers = developers.split('/')\n",
        "      gamepass.at[index, 'developer'] = developers\n",
        "  except:\n",
        "    pass"
      ],
      "metadata": {
        "id": "Xca7v3dU8MF9"
      },
      "execution_count": 10,
      "outputs": []
    },
    {
      "cell_type": "code",
      "source": [
        "# como há jogos que não são desenvolvidos por apenas uma desenvolvedora, mas em colaboração, é preferível não usar\n",
        "# o método value_counts(), mas iterar os valores da coluna para acessar os elementos das listas, quando forem listas."
      ],
      "metadata": {
        "id": "340tGn3toe5Q"
      },
      "execution_count": 11,
      "outputs": []
    },
    {
      "cell_type": "code",
      "source": [
        "# a função garante a obtenção da frequência de cada developer, gênero de jogo ou publisher:\n",
        "\n",
        "def freq_column(column):\n",
        "  datas_dict = dict()\n",
        "\n",
        "  for datas in gamepass[column]:\n",
        "    if type(datas) == list:\n",
        "      for data in datas:\n",
        "        if data not in datas_dict.keys():\n",
        "          datas_dict[data] = 1\n",
        "        else:\n",
        "          datas_dict[data] = datas_dict[data] + 1\n",
        "    else:\n",
        "      if datas not in datas_dict.keys():\n",
        "        datas_dict[datas] = 1\n",
        "      else:\n",
        "        datas_dict[datas] += 1\n",
        "    \n",
        "  return datas_dict"
      ],
      "metadata": {
        "id": "FxKK39V-wkRM"
      },
      "execution_count": 12,
      "outputs": []
    },
    {
      "cell_type": "code",
      "source": [
        "developers_dict = freq_column('developer')"
      ],
      "metadata": {
        "id": "4leO7_N-A0eC"
      },
      "execution_count": 13,
      "outputs": []
    },
    {
      "cell_type": "code",
      "source": [
        "developers_dict.pop(NaN)"
      ],
      "metadata": {
        "colab": {
          "base_uri": "https://localhost:8080/"
        },
        "id": "wHAeLyoJ0QZJ",
        "outputId": "39383746-ca31-405c-d296-27fa89b5fb0b"
      },
      "execution_count": 14,
      "outputs": [
        {
          "output_type": "execute_result",
          "data": {
            "text/plain": [
              "469"
            ]
          },
          "metadata": {},
          "execution_count": 14
        }
      ]
    },
    {
      "cell_type": "code",
      "source": [
        "# para ordenar o dicionário:\n",
        "\n",
        "developers_sorted = {k: v for k, v in sorted(developers_dict.items(), key=lambda item: item[1], reverse= True)}"
      ],
      "metadata": {
        "id": "EDolmx7C0z7i"
      },
      "execution_count": 15,
      "outputs": []
    },
    {
      "cell_type": "code",
      "source": [
        "# convertendo as keys e os values para o tipo lista a fim de acessá-los pelo index:\n",
        "\n",
        "developers_sorted_keys = list(developers_sorted)\n",
        "developers_sorted_values = list(developers_sorted.values())"
      ],
      "metadata": {
        "id": "6TgE4z0O9V60"
      },
      "execution_count": 16,
      "outputs": []
    },
    {
      "cell_type": "code",
      "source": [
        "# definindo gráfico com as frequências de cada developer:\n",
        "\n",
        "sns.set()\n",
        "bars = plt.bar(developers_sorted_keys[:30], developers_sorted_values[:30])\n",
        "\n",
        "for bar in bars:\n",
        "  value = bar.get_height()\n",
        "  plt.text(bar.get_x() + 0.2, value + 0.1, value)\n",
        "\n",
        "plt.title('As 30 desenvolvedoras com mais jogos inseridos no Xbox Game Pass', fontsize= 18)\n",
        "plt.ylabel('Frequência')\n",
        "plt.xticks(rotation= '90')\n",
        "plt.show()"
      ],
      "metadata": {
        "colab": {
          "base_uri": "https://localhost:8080/",
          "height": 877
        },
        "id": "KlLgsUNRqxXd",
        "outputId": "ece1f034-06df-495c-ee0c-65fd95770adb"
      },
      "execution_count": 17,
      "outputs": [
        {
          "output_type": "display_data",
          "data": {
            "text/plain": [
              "<Figure size 1296x864 with 1 Axes>"
            ],
            "image/png": "[encoded data removed]"
          },
          "metadata": {}
        }
      ]
    },
    {
      "cell_type": "markdown",
      "source": [
        "## Frequências dos gêneros dos jogos"
      ],
      "metadata": {
        "id": "p9MO7ZnaDv5X"
      }
    },
    {
      "cell_type": "code",
      "source": [
        "# alguns tratamentos nos dados da coluna genre,\n",
        "# particiona-se os dados usando o método split():\n",
        "\n",
        "gamepass['genre'] = gamepass['genre'].str.replace(' / ', '/')"
      ],
      "metadata": {
        "id": "tAwlty-HEOVA"
      },
      "execution_count": 18,
      "outputs": []
    },
    {
      "cell_type": "code",
      "source": [
        "# para separar os dados dos gêneros dos jogos:\n",
        "\n",
        "gamepass['genre'] = gamepass['genre'].str.split('/')"
      ],
      "metadata": {
        "id": "-5515tdPEXr3"
      },
      "execution_count": 19,
      "outputs": []
    },
    {
      "cell_type": "code",
      "source": [
        "# utiliza-se a função freq_column() para obtenção da frequência de cada gênero dos jogos:\n",
        "\n",
        "genre_dict = freq_column('genre')"
      ],
      "metadata": {
        "id": "QQeD0faSr0vF"
      },
      "execution_count": 20,
      "outputs": []
    },
    {
      "cell_type": "code",
      "source": [
        "# elimina-se as ocorrências em que os jogos não apresentaram gênero:\n",
        "\n",
        "genre_dict.pop(NaN)"
      ],
      "metadata": {
        "colab": {
          "base_uri": "https://localhost:8080/"
        },
        "id": "tUuhOutUD72p",
        "outputId": "0ccea4dd-73ea-446b-c360-795119276a3e"
      },
      "execution_count": 21,
      "outputs": [
        {
          "output_type": "execute_result",
          "data": {
            "text/plain": [
              "5"
            ]
          },
          "metadata": {},
          "execution_count": 21
        }
      ]
    },
    {
      "cell_type": "code",
      "source": [
        "# para ordenar o dicionário:\n",
        "\n",
        "genre_sorted = {k: v for k, v in sorted(genre_dict.items(), key=lambda item: item[1])}"
      ],
      "metadata": {
        "id": "ird_2-tGFtiu"
      },
      "execution_count": 22,
      "outputs": []
    },
    {
      "cell_type": "code",
      "source": [
        "# converte-se as keys e values para o tipo lista a fim de acessá-los pelo index:\n",
        "\n",
        "genre_sorted_keys = list(genre_sorted.keys())\n",
        "genre_sorted_values = list(genre_sorted.values())"
      ],
      "metadata": {
        "id": "ODt8vBqNFK2o"
      },
      "execution_count": 23,
      "outputs": []
    },
    {
      "cell_type": "code",
      "source": [
        "bars = plt.barh(y= genre_sorted_keys, width= genre_sorted_values)\n",
        "\n",
        "for index, bar in enumerate(bars):\n",
        "  value = bar.get_width()\n",
        "  plt.text(value + 0.2, index - 0.4, value)\n",
        "\n",
        "plt.title('Frequência dos gêneros de jogos no Xbox Game Pass', fontsize= 18)\n",
        "plt.savefig('Gênero dos jogos no Xbox Game Pass.png', format= 'png')\n",
        "plt.show()"
      ],
      "metadata": {
        "colab": {
          "base_uri": "https://localhost:8080/",
          "height": 723
        },
        "id": "w-f47R-qFc3R",
        "outputId": "5abf62b9-1bc6-4ae9-ca74-890517e9ec60"
      },
      "execution_count": 24,
      "outputs": [
        {
          "output_type": "display_data",
          "data": {
            "text/plain": [
              "<Figure size 1296x864 with 1 Axes>"
            ],
            "image/png": "[encoded data removed]"
          },
          "metadata": {}
        }
      ]
    },
    {
      "cell_type": "markdown",
      "source": [
        "## Frequência das publishers"
      ],
      "metadata": {
        "id": "umDuUFtpGrq1"
      }
    },
    {
      "cell_type": "code",
      "source": [
        "# alguns tratamentos para determinar a frequência das publishers:\n",
        "\n",
        "for index, publishers in enumerate(gamepass['publisher']):\n",
        "  try:\n",
        "    if ',' in publishers:\n",
        "      publishers = publishers.split(', ')\n",
        "      gamepass.at[index, 'publisher'] = publishers\n",
        "  except TypeError:\n",
        "    pass"
      ],
      "metadata": {
        "id": "mpNkuAp-HEHm"
      },
      "execution_count": 25,
      "outputs": []
    },
    {
      "cell_type": "code",
      "source": [
        "# as frequências são colocadas em um dicionário:\n",
        "\n",
        "publishers_dict = freq_column('publisher')"
      ],
      "metadata": {
        "id": "7L6VvQKqHNeS"
      },
      "execution_count": 26,
      "outputs": []
    },
    {
      "cell_type": "code",
      "source": [
        "# elimina-se a frequência referente aos jogos que não apresentam publisher:\n",
        "\n",
        "publishers_dict.pop(NaN)"
      ],
      "metadata": {
        "colab": {
          "base_uri": "https://localhost:8080/"
        },
        "id": "7y73S7S9HScw",
        "outputId": "f3c5e6b8-e20b-4f08-ae5e-86cfa276fbdf"
      },
      "execution_count": 27,
      "outputs": [
        {
          "output_type": "execute_result",
          "data": {
            "text/plain": [
              "464"
            ]
          },
          "metadata": {},
          "execution_count": 27
        }
      ]
    },
    {
      "cell_type": "code",
      "source": [
        "# o dicionário é organizado:\n",
        "\n",
        "publishers_sorted = {k: v for k, v in sorted(publishers_dict.items(), key=lambda item: item[1], reverse= True)}"
      ],
      "metadata": {
        "id": "LXb0SpWNIHzc"
      },
      "execution_count": 28,
      "outputs": []
    },
    {
      "cell_type": "code",
      "source": [
        "# as keys e os valores dos dicionários são convertidos para o tipo lista:\n",
        "\n",
        "publishers_sorted_keys = list(publishers_sorted.keys())\n",
        "publishers_sorted_values = list(publishers_sorted.values())"
      ],
      "metadata": {
        "id": "gohAl95wITfc"
      },
      "execution_count": 29,
      "outputs": []
    },
    {
      "cell_type": "code",
      "source": [
        "bars = plt.bar(publishers_sorted_keys[:30], publishers_sorted_values[:30])\n",
        "\n",
        "for bar in bars:\n",
        "  value = bar.get_height()\n",
        "  plt.text(bar.get_x() + 0.2, value + 0.3, value)\n",
        "\n",
        "plt.title('As 30 publicadoras com mais jogos inseridos no Xbox Game Pass', fontsize= 18)\n",
        "plt.xticks(rotation= '90')\n",
        "plt.show()"
      ],
      "metadata": {
        "colab": {
          "base_uri": "https://localhost:8080/",
          "height": 931
        },
        "id": "FesiGRpoIwXd",
        "outputId": "b96d7690-b74a-4918-a318-774d12fca469"
      },
      "execution_count": 30,
      "outputs": [
        {
          "output_type": "display_data",
          "data": {
            "text/plain": [
              "<Figure size 1296x864 with 1 Axes>"
            ],
            "image/png": "[encoded data removed]"
          },
          "metadata": {}
        }
      ]
    },
    {
      "cell_type": "markdown",
      "source": [
        "## Das variáveis quantitativas"
      ],
      "metadata": {
        "id": "UaEMBykCOhMh"
      }
    },
    {
      "cell_type": "markdown",
      "source": [
        "### Gamers"
      ],
      "metadata": {
        "id": "tZiBHIDEPe8U"
      }
    },
    {
      "cell_type": "markdown",
      "source": [
        "Para todos os jogos inseridos no serviço"
      ],
      "metadata": {
        "id": "hYqcNOOUS-La"
      }
    },
    {
      "cell_type": "code",
      "source": [
        "gamepass['gamers'].describe()"
      ],
      "metadata": {
        "colab": {
          "base_uri": "https://localhost:8080/"
        },
        "id": "Upjxix4HLzqh",
        "outputId": "4206542a-07dc-488c-ebe6-06452c376005"
      },
      "execution_count": 31,
      "outputs": [
        {
          "output_type": "execute_result",
          "data": {
            "text/plain": [
              "count       926.000000\n",
              "mean      63551.585313\n",
              "std       75008.761454\n",
              "min           0.000000\n",
              "25%       14644.250000\n",
              "50%       36881.500000\n",
              "75%       84985.000000\n",
              "max      468837.000000\n",
              "Name: gamers, dtype: float64"
            ]
          },
          "metadata": {},
          "execution_count": 31
        }
      ]
    },
    {
      "cell_type": "code",
      "source": [
        "# a distribuição de frequências da coluna 'gamers':\n",
        "\n",
        "ax = sns.distplot(gamepass['gamers'])\n",
        "ax.set_title('Distribuição da frequência dos dados da variável gamers', fontsize= 18)\n",
        "plt.show()"
      ],
      "metadata": {
        "colab": {
          "base_uri": "https://localhost:8080/",
          "height": 795
        },
        "id": "04yTQGZ8Qgns",
        "outputId": "079b89eb-8737-42fb-8703-a02e87400d00"
      },
      "execution_count": 32,
      "outputs": [
        {
          "output_type": "stream",
          "name": "stderr",
          "text": [
            "/usr/local/lib/python3.7/dist-packages/seaborn/distributions.py:2619: FutureWarning: `distplot` is a deprecated function and will be removed in a future version. Please adapt your code to use either `displot` (a figure-level function with similar flexibility) or `histplot` (an axes-level function for histograms).\n",
            "  warnings.warn(msg, FutureWarning)\n"
          ]
        },
        {
          "output_type": "display_data",
          "data": {
            "text/plain": [
              "<Figure size 1296x864 with 1 Axes>"
            ],
            "image/png": "[encoded data removed]"
          },
          "metadata": {}
        }
      ]
    },
    {
      "cell_type": "code",
      "source": [
        "# média, mediana e moda da coluna gamers:\n",
        "\n",
        "gamers = gamepass['gamers']\n",
        "pd.DataFrame({'Moda': gamers.mode(), 'Média': gamers.mean(), 'Mediana': gamers.median()})"
      ],
      "metadata": {
        "colab": {
          "base_uri": "https://localhost:8080/",
          "height": 81
        },
        "id": "GwiqDl-nSWir",
        "outputId": "080106eb-bf56-4f04-e410-96c7b7f4aa74"
      },
      "execution_count": 33,
      "outputs": [
        {
          "output_type": "execute_result",
          "data": {
            "text/plain": [
              "   Moda         Média  Mediana\n",
              "0   0.0  63551.585313  36881.5"
            ],
            "text/html": [
              "\n",
              "  <div id=\"df-efea9edb-99de-4192-b843-fced0aaf7a42\">\n",
              "    <div class=\"colab-df-container\">\n",
              "      <div>\n",
              "<style scoped>\n",
              "    .dataframe tbody tr th:only-of-type {\n",
              "        vertical-align: middle;\n",
              "    }\n",
              "\n",
              "    .dataframe tbody tr th {\n",
              "        vertical-align: top;\n",
              "    }\n",
              "\n",
              "    .dataframe thead th {\n",
              "        text-align: right;\n",
              "    }\n",
              "</style>\n",
              "<table border=\"1\" class=\"dataframe\">\n",
              "  <thead>\n",
              "    <tr style=\"text-align: right;\">\n",
              "      <th></th>\n",
              "      <th>Moda</th>\n",
              "      <th>Média</th>\n",
              "      <th>Mediana</th>\n",
              "    </tr>\n",
              "  </thead>\n",
              "  <tbody>\n",
              "    <tr>\n",
              "      <th>0</th>\n",
              "      <td>0.0</td>\n",
              "      <td>63551.585313</td>\n",
              "      <td>36881.5</td>\n",
              "    </tr>\n",
              "  </tbody>\n",
              "</table>\n",
              "</div>\n",
              "      <button class=\"colab-df-convert\" onclick=\"convertToInteractive('df-efea9edb-99de-4192-b843-fced0aaf7a42')\"\n",
              "              title=\"Convert this dataframe to an interactive table.\"\n",
              "              style=\"display:none;\">\n",
              "        \n",
              "  <svg xmlns=\"http://www.w3.org/2000/svg\" height=\"24px\"viewBox=\"0 0 24 24\"\n",
              "       width=\"24px\">\n",
              "    <path d=\"M0 0h24v24H0V0z\" fill=\"none\"/>\n",
              "    <path d=\"M18.56 5.44l.94 2.06.94-2.06 2.06-.94-2.06-.94-.94-2.06-.94 2.06-2.06.94zm-11 1L8.5 8.5l.94-2.06 2.06-.94-2.06-.94L8.5 2.5l-.94 2.06-2.06.94zm10 10l.94 2.06.94-2.06 2.06-.94-2.06-.94-.94-2.06-.94 2.06-2.06.94z\"/><path d=\"M17.41 7.96l-1.37-1.37c-.4-.4-.92-.59-1.43-.59-.52 0-1.04.2-1.43.59L10.3 9.45l-7.72 7.72c-.78.78-.78 2.05 0 2.83L4 21.41c.39.39.9.59 1.41.59.51 0 1.02-.2 1.41-.59l7.78-7.78 2.81-2.81c.8-.78.8-2.07 0-2.86zM5.41 20L4 18.59l7.72-7.72 1.47 1.35L5.41 20z\"/>\n",
              "  </svg>\n",
              "      </button>\n",
              "      \n",
              "  <style>\n",
              "    .colab-df-container {\n",
              "      display:flex;\n",
              "      flex-wrap:wrap;\n",
              "      gap: 12px;\n",
              "    }\n",
              "\n",
              "    .colab-df-convert {\n",
              "      background-color: #E8F0FE;\n",
              "      border: none;\n",
              "      border-radius: 50%;\n",
              "      cursor: pointer;\n",
              "      display: none;\n",
              "      fill: #1967D2;\n",
              "      height: 32px;\n",
              "      padding: 0 0 0 0;\n",
              "      width: 32px;\n",
              "    }\n",
              "\n",
              "    .colab-df-convert:hover {\n",
              "      background-color: #E2EBFA;\n",
              "      box-shadow: 0px 1px 2px rgba(60, 64, 67, 0.3), 0px 1px 3px 1px rgba(60, 64, 67, 0.15);\n",
              "      fill: #174EA6;\n",
              "    }\n",
              "\n",
              "    [theme=dark] .colab-df-convert {\n",
              "      background-color: #3B4455;\n",
              "      fill: #D2E3FC;\n",
              "    }\n",
              "\n",
              "    [theme=dark] .colab-df-convert:hover {\n",
              "      background-color: #434B5C;\n",
              "      box-shadow: 0px 1px 3px 1px rgba(0, 0, 0, 0.15);\n",
              "      filter: drop-shadow(0px 1px 2px rgba(0, 0, 0, 0.3));\n",
              "      fill: #FFFFFF;\n",
              "    }\n",
              "  </style>\n",
              "\n",
              "      <script>\n",
              "        const buttonEl =\n",
              "          document.querySelector('#df-efea9edb-99de-4192-b843-fced0aaf7a42 button.colab-df-convert');\n",
              "        buttonEl.style.display =\n",
              "          google.colab.kernel.accessAllowed ? 'block' : 'none';\n",
              "\n",
              "        async function convertToInteractive(key) {\n",
              "          const element = document.querySelector('#df-efea9edb-99de-4192-b843-fced0aaf7a42');\n",
              "          const dataTable =\n",
              "            await google.colab.kernel.invokeFunction('convertToInteractive',\n",
              "                                                     [key], {});\n",
              "          if (!dataTable) return;\n",
              "\n",
              "          const docLinkHtml = 'Like what you see? Visit the ' +\n",
              "            '<a target=\"_blank\" href=https://colab.research.google.com/notebooks/data_table.ipynb>data table notebook</a>'\n",
              "            + ' to learn more about interactive tables.';\n",
              "          element.innerHTML = '';\n",
              "          dataTable['output_type'] = 'display_data';\n",
              "          await google.colab.output.renderOutput(dataTable, element);\n",
              "          const docLink = document.createElement('div');\n",
              "          docLink.innerHTML = docLinkHtml;\n",
              "          element.appendChild(docLink);\n",
              "        }\n",
              "      </script>\n",
              "    </div>\n",
              "  </div>\n",
              "  "
            ]
          },
          "metadata": {},
          "execution_count": 33
        }
      ]
    },
    {
      "cell_type": "code",
      "source": [
        "# desvio médio, variância e desvio padrão:\n",
        "\n",
        "pd.DataFrame({'Desvio médio': gamers.mad(), 'Variância': gamers.var(), 'Desvio padrão': gamers.std()}, index= [0])"
      ],
      "metadata": {
        "colab": {
          "base_uri": "https://localhost:8080/",
          "height": 81
        },
        "id": "VY4P7FJsTDPF",
        "outputId": "1be18838-f53e-4dc4-aa26-771965487627"
      },
      "execution_count": 34,
      "outputs": [
        {
          "output_type": "execute_result",
          "data": {
            "text/plain": [
              "   Desvio médio     Variância  Desvio padrão\n",
              "0  52414.640713  5.626314e+09   75008.761454"
            ],
            "text/html": [
              "\n",
              "  <div id=\"df-a1dd1d9d-c629-4838-94d5-cb95370e5e74\">\n",
              "    <div class=\"colab-df-container\">\n",
              "      <div>\n",
              "<style scoped>\n",
              "    .dataframe tbody tr th:only-of-type {\n",
              "        vertical-align: middle;\n",
              "    }\n",
              "\n",
              "    .dataframe tbody tr th {\n",
              "        vertical-align: top;\n",
              "    }\n",
              "\n",
              "    .dataframe thead th {\n",
              "        text-align: right;\n",
              "    }\n",
              "</style>\n",
              "<table border=\"1\" class=\"dataframe\">\n",
              "  <thead>\n",
              "    <tr style=\"text-align: right;\">\n",
              "      <th></th>\n",
              "      <th>Desvio médio</th>\n",
              "      <th>Variância</th>\n",
              "      <th>Desvio padrão</th>\n",
              "    </tr>\n",
              "  </thead>\n",
              "  <tbody>\n",
              "    <tr>\n",
              "      <th>0</th>\n",
              "      <td>52414.640713</td>\n",
              "      <td>5.626314e+09</td>\n",
              "      <td>75008.761454</td>\n",
              "    </tr>\n",
              "  </tbody>\n",
              "</table>\n",
              "</div>\n",
              "      <button class=\"colab-df-convert\" onclick=\"convertToInteractive('df-a1dd1d9d-c629-4838-94d5-cb95370e5e74')\"\n",
              "              title=\"Convert this dataframe to an interactive table.\"\n",
              "              style=\"display:none;\">\n",
              "        \n",
              "  <svg xmlns=\"http://www.w3.org/2000/svg\" height=\"24px\"viewBox=\"0 0 24 24\"\n",
              "       width=\"24px\">\n",
              "    <path d=\"M0 0h24v24H0V0z\" fill=\"none\"/>\n",
              "    <path d=\"M18.56 5.44l.94 2.06.94-2.06 2.06-.94-2.06-.94-.94-2.06-.94 2.06-2.06.94zm-11 1L8.5 8.5l.94-2.06 2.06-.94-2.06-.94L8.5 2.5l-.94 2.06-2.06.94zm10 10l.94 2.06.94-2.06 2.06-.94-2.06-.94-.94-2.06-.94 2.06-2.06.94z\"/><path d=\"M17.41 7.96l-1.37-1.37c-.4-.4-.92-.59-1.43-.59-.52 0-1.04.2-1.43.59L10.3 9.45l-7.72 7.72c-.78.78-.78 2.05 0 2.83L4 21.41c.39.39.9.59 1.41.59.51 0 1.02-.2 1.41-.59l7.78-7.78 2.81-2.81c.8-.78.8-2.07 0-2.86zM5.41 20L4 18.59l7.72-7.72 1.47 1.35L5.41 20z\"/>\n",
              "  </svg>\n",
              "      </button>\n",
              "      \n",
              "  <style>\n",
              "    .colab-df-container {\n",
              "      display:flex;\n",
              "      flex-wrap:wrap;\n",
              "      gap: 12px;\n",
              "    }\n",
              "\n",
              "    .colab-df-convert {\n",
              "      background-color: #E8F0FE;\n",
              "      border: none;\n",
              "      border-radius: 50%;\n",
              "      cursor: pointer;\n",
              "      display: none;\n",
              "      fill: #1967D2;\n",
              "      height: 32px;\n",
              "      padding: 0 0 0 0;\n",
              "      width: 32px;\n",
              "    }\n",
              "\n",
              "    .colab-df-convert:hover {\n",
              "      background-color: #E2EBFA;\n",
              "      box-shadow: 0px 1px 2px rgba(60, 64, 67, 0.3), 0px 1px 3px 1px rgba(60, 64, 67, 0.15);\n",
              "      fill: #174EA6;\n",
              "    }\n",
              "\n",
              "    [theme=dark] .colab-df-convert {\n",
              "      background-color: #3B4455;\n",
              "      fill: #D2E3FC;\n",
              "    }\n",
              "\n",
              "    [theme=dark] .colab-df-convert:hover {\n",
              "      background-color: #434B5C;\n",
              "      box-shadow: 0px 1px 3px 1px rgba(0, 0, 0, 0.15);\n",
              "      filter: drop-shadow(0px 1px 2px rgba(0, 0, 0, 0.3));\n",
              "      fill: #FFFFFF;\n",
              "    }\n",
              "  </style>\n",
              "\n",
              "      <script>\n",
              "        const buttonEl =\n",
              "          document.querySelector('#df-a1dd1d9d-c629-4838-94d5-cb95370e5e74 button.colab-df-convert');\n",
              "        buttonEl.style.display =\n",
              "          google.colab.kernel.accessAllowed ? 'block' : 'none';\n",
              "\n",
              "        async function convertToInteractive(key) {\n",
              "          const element = document.querySelector('#df-a1dd1d9d-c629-4838-94d5-cb95370e5e74');\n",
              "          const dataTable =\n",
              "            await google.colab.kernel.invokeFunction('convertToInteractive',\n",
              "                                                     [key], {});\n",
              "          if (!dataTable) return;\n",
              "\n",
              "          const docLinkHtml = 'Like what you see? Visit the ' +\n",
              "            '<a target=\"_blank\" href=https://colab.research.google.com/notebooks/data_table.ipynb>data table notebook</a>'\n",
              "            + ' to learn more about interactive tables.';\n",
              "          element.innerHTML = '';\n",
              "          dataTable['output_type'] = 'display_data';\n",
              "          await google.colab.output.renderOutput(dataTable, element);\n",
              "          const docLink = document.createElement('div');\n",
              "          docLink.innerHTML = docLinkHtml;\n",
              "          element.appendChild(docLink);\n",
              "        }\n",
              "      </script>\n",
              "    </div>\n",
              "  </div>\n",
              "  "
            ]
          },
          "metadata": {},
          "execution_count": 34
        }
      ]
    },
    {
      "cell_type": "code",
      "source": [
        "# percentis, decentis, quartis:\n",
        "\n",
        "# percentis\n",
        "\n",
        "percentis = pd.DataFrame(gamepass['gamers'].quantile([p/100 for p in range(1, 100)]))\n",
        "percentis.index = percentis.index * 100\n",
        "percentis"
      ],
      "metadata": {
        "colab": {
          "base_uri": "https://localhost:8080/",
          "height": 424
        },
        "id": "LdTflV_ET8Hw",
        "outputId": "9a87e407-4f1a-4bd7-f353-abaeb3281dec"
      },
      "execution_count": 35,
      "outputs": [
        {
          "output_type": "execute_result",
          "data": {
            "text/plain": [
              "         gamers\n",
              "1.0        0.00\n",
              "2.0        0.00\n",
              "3.0      296.25\n",
              "4.0     1367.00\n",
              "5.0     2111.25\n",
              "...         ...\n",
              "95.0  218959.00\n",
              "96.0  238474.00\n",
              "97.0  274342.75\n",
              "98.0  322075.50\n",
              "99.0  385468.00\n",
              "\n",
              "[99 rows x 1 columns]"
            ],
            "text/html": [
              "\n",
              "  <div id=\"df-2380a1f1-ec7d-4b83-a90b-4f818cdd3179\">\n",
              "    <div class=\"colab-df-container\">\n",
              "      <div>\n",
              "<style scoped>\n",
              "    .dataframe tbody tr th:only-of-type {\n",
              "        vertical-align: middle;\n",
              "    }\n",
              "\n",
              "    .dataframe tbody tr th {\n",
              "        vertical-align: top;\n",
              "    }\n",
              "\n",
              "    .dataframe thead th {\n",
              "        text-align: right;\n",
              "    }\n",
              "</style>\n",
              "<table border=\"1\" class=\"dataframe\">\n",
              "  <thead>\n",
              "    <tr style=\"text-align: right;\">\n",
              "      <th></th>\n",
              "      <th>gamers</th>\n",
              "    </tr>\n",
              "  </thead>\n",
              "  <tbody>\n",
              "    <tr>\n",
              "      <th>1.0</th>\n",
              "      <td>0.00</td>\n",
              "    </tr>\n",
              "    <tr>\n",
              "      <th>2.0</th>\n",
              "      <td>0.00</td>\n",
              "    </tr>\n",
              "    <tr>\n",
              "      <th>3.0</th>\n",
              "      <td>296.25</td>\n",
              "    </tr>\n",
              "    <tr>\n",
              "      <th>4.0</th>\n",
              "      <td>1367.00</td>\n",
              "    </tr>\n",
              "    <tr>\n",
              "      <th>5.0</th>\n",
              "      <td>2111.25</td>\n",
              "    </tr>\n",
              "    <tr>\n",
              "      <th>...</th>\n",
              "      <td>...</td>\n",
              "    </tr>\n",
              "    <tr>\n",
              "      <th>95.0</th>\n",
              "      <td>218959.00</td>\n",
              "    </tr>\n",
              "    <tr>\n",
              "      <th>96.0</th>\n",
              "      <td>238474.00</td>\n",
              "    </tr>\n",
              "    <tr>\n",
              "      <th>97.0</th>\n",
              "      <td>274342.75</td>\n",
              "    </tr>\n",
              "    <tr>\n",
              "      <th>98.0</th>\n",
              "      <td>322075.50</td>\n",
              "    </tr>\n",
              "    <tr>\n",
              "      <th>99.0</th>\n",
              "      <td>385468.00</td>\n",
              "    </tr>\n",
              "  </tbody>\n",
              "</table>\n",
              "<p>99 rows × 1 columns</p>\n",
              "</div>\n",
              "      <button class=\"colab-df-convert\" onclick=\"convertToInteractive('df-2380a1f1-ec7d-4b83-a90b-4f818cdd3179')\"\n",
              "              title=\"Convert this dataframe to an interactive table.\"\n",
              "              style=\"display:none;\">\n",
              "        \n",
              "  <svg xmlns=\"http://www.w3.org/2000/svg\" height=\"24px\"viewBox=\"0 0 24 24\"\n",
              "       width=\"24px\">\n",
              "    <path d=\"M0 0h24v24H0V0z\" fill=\"none\"/>\n",
              "    <path d=\"M18.56 5.44l.94 2.06.94-2.06 2.06-.94-2.06-.94-.94-2.06-.94 2.06-2.06.94zm-11 1L8.5 8.5l.94-2.06 2.06-.94-2.06-.94L8.5 2.5l-.94 2.06-2.06.94zm10 10l.94 2.06.94-2.06 2.06-.94-2.06-.94-.94-2.06-.94 2.06-2.06.94z\"/><path d=\"M17.41 7.96l-1.37-1.37c-.4-.4-.92-.59-1.43-.59-.52 0-1.04.2-1.43.59L10.3 9.45l-7.72 7.72c-.78.78-.78 2.05 0 2.83L4 21.41c.39.39.9.59 1.41.59.51 0 1.02-.2 1.41-.59l7.78-7.78 2.81-2.81c.8-.78.8-2.07 0-2.86zM5.41 20L4 18.59l7.72-7.72 1.47 1.35L5.41 20z\"/>\n",
              "  </svg>\n",
              "      </button>\n",
              "      \n",
              "  <style>\n",
              "    .colab-df-container {\n",
              "      display:flex;\n",
              "      flex-wrap:wrap;\n",
              "      gap: 12px;\n",
              "    }\n",
              "\n",
              "    .colab-df-convert {\n",
              "      background-color: #E8F0FE;\n",
              "      border: none;\n",
              "      border-radius: 50%;\n",
              "      cursor: pointer;\n",
              "      display: none;\n",
              "      fill: #1967D2;\n",
              "      height: 32px;\n",
              "      padding: 0 0 0 0;\n",
              "      width: 32px;\n",
              "    }\n",
              "\n",
              "    .colab-df-convert:hover {\n",
              "      background-color: #E2EBFA;\n",
              "      box-shadow: 0px 1px 2px rgba(60, 64, 67, 0.3), 0px 1px 3px 1px rgba(60, 64, 67, 0.15);\n",
              "      fill: #174EA6;\n",
              "    }\n",
              "\n",
              "    [theme=dark] .colab-df-convert {\n",
              "      background-color: #3B4455;\n",
              "      fill: #D2E3FC;\n",
              "    }\n",
              "\n",
              "    [theme=dark] .colab-df-convert:hover {\n",
              "      background-color: #434B5C;\n",
              "      box-shadow: 0px 1px 3px 1px rgba(0, 0, 0, 0.15);\n",
              "      filter: drop-shadow(0px 1px 2px rgba(0, 0, 0, 0.3));\n",
              "      fill: #FFFFFF;\n",
              "    }\n",
              "  </style>\n",
              "\n",
              "      <script>\n",
              "        const buttonEl =\n",
              "          document.querySelector('#df-2380a1f1-ec7d-4b83-a90b-4f818cdd3179 button.colab-df-convert');\n",
              "        buttonEl.style.display =\n",
              "          google.colab.kernel.accessAllowed ? 'block' : 'none';\n",
              "\n",
              "        async function convertToInteractive(key) {\n",
              "          const element = document.querySelector('#df-2380a1f1-ec7d-4b83-a90b-4f818cdd3179');\n",
              "          const dataTable =\n",
              "            await google.colab.kernel.invokeFunction('convertToInteractive',\n",
              "                                                     [key], {});\n",
              "          if (!dataTable) return;\n",
              "\n",
              "          const docLinkHtml = 'Like what you see? Visit the ' +\n",
              "            '<a target=\"_blank\" href=https://colab.research.google.com/notebooks/data_table.ipynb>data table notebook</a>'\n",
              "            + ' to learn more about interactive tables.';\n",
              "          element.innerHTML = '';\n",
              "          dataTable['output_type'] = 'display_data';\n",
              "          await google.colab.output.renderOutput(dataTable, element);\n",
              "          const docLink = document.createElement('div');\n",
              "          docLink.innerHTML = docLinkHtml;\n",
              "          element.appendChild(docLink);\n",
              "        }\n",
              "      </script>\n",
              "    </div>\n",
              "  </div>\n",
              "  "
            ]
          },
          "metadata": {},
          "execution_count": 35
        }
      ]
    },
    {
      "cell_type": "code",
      "source": [
        "# decentis\n",
        "\n",
        "decentis = pd.DataFrame(gamers.quantile([d/10 for d in range(1, 10)]))\n",
        "decentis.index = decentis.index * 100\n",
        "decentis"
      ],
      "metadata": {
        "colab": {
          "base_uri": "https://localhost:8080/",
          "height": 332
        },
        "id": "_Jfx-jQVYnnc",
        "outputId": "28e9e4db-a03a-4f51-f095-562e1c6acf41"
      },
      "execution_count": 36,
      "outputs": [
        {
          "output_type": "execute_result",
          "data": {
            "text/plain": [
              "        gamers\n",
              "10.0    5393.0\n",
              "20.0   12124.0\n",
              "30.0   19572.0\n",
              "40.0   27375.0\n",
              "50.0   36881.5\n",
              "60.0   49292.0\n",
              "70.0   71285.0\n",
              "80.0   99939.0\n",
              "90.0  153720.5"
            ],
            "text/html": [
              "\n",
              "  <div id=\"df-dccbf946-c2f4-468e-91a2-ea0c2318c049\">\n",
              "    <div class=\"colab-df-container\">\n",
              "      <div>\n",
              "<style scoped>\n",
              "    .dataframe tbody tr th:only-of-type {\n",
              "        vertical-align: middle;\n",
              "    }\n",
              "\n",
              "    .dataframe tbody tr th {\n",
              "        vertical-align: top;\n",
              "    }\n",
              "\n",
              "    .dataframe thead th {\n",
              "        text-align: right;\n",
              "    }\n",
              "</style>\n",
              "<table border=\"1\" class=\"dataframe\">\n",
              "  <thead>\n",
              "    <tr style=\"text-align: right;\">\n",
              "      <th></th>\n",
              "      <th>gamers</th>\n",
              "    </tr>\n",
              "  </thead>\n",
              "  <tbody>\n",
              "    <tr>\n",
              "      <th>10.0</th>\n",
              "      <td>5393.0</td>\n",
              "    </tr>\n",
              "    <tr>\n",
              "      <th>20.0</th>\n",
              "      <td>12124.0</td>\n",
              "    </tr>\n",
              "    <tr>\n",
              "      <th>30.0</th>\n",
              "      <td>19572.0</td>\n",
              "    </tr>\n",
              "    <tr>\n",
              "      <th>40.0</th>\n",
              "      <td>27375.0</td>\n",
              "    </tr>\n",
              "    <tr>\n",
              "      <th>50.0</th>\n",
              "      <td>36881.5</td>\n",
              "    </tr>\n",
              "    <tr>\n",
              "      <th>60.0</th>\n",
              "      <td>49292.0</td>\n",
              "    </tr>\n",
              "    <tr>\n",
              "      <th>70.0</th>\n",
              "      <td>71285.0</td>\n",
              "    </tr>\n",
              "    <tr>\n",
              "      <th>80.0</th>\n",
              "      <td>99939.0</td>\n",
              "    </tr>\n",
              "    <tr>\n",
              "      <th>90.0</th>\n",
              "      <td>153720.5</td>\n",
              "    </tr>\n",
              "  </tbody>\n",
              "</table>\n",
              "</div>\n",
              "      <button class=\"colab-df-convert\" onclick=\"convertToInteractive('df-dccbf946-c2f4-468e-91a2-ea0c2318c049')\"\n",
              "              title=\"Convert this dataframe to an interactive table.\"\n",
              "              style=\"display:none;\">\n",
              "        \n",
              "  <svg xmlns=\"http://www.w3.org/2000/svg\" height=\"24px\"viewBox=\"0 0 24 24\"\n",
              "       width=\"24px\">\n",
              "    <path d=\"M0 0h24v24H0V0z\" fill=\"none\"/>\n",
              "    <path d=\"M18.56 5.44l.94 2.06.94-2.06 2.06-.94-2.06-.94-.94-2.06-.94 2.06-2.06.94zm-11 1L8.5 8.5l.94-2.06 2.06-.94-2.06-.94L8.5 2.5l-.94 2.06-2.06.94zm10 10l.94 2.06.94-2.06 2.06-.94-2.06-.94-.94-2.06-.94 2.06-2.06.94z\"/><path d=\"M17.41 7.96l-1.37-1.37c-.4-.4-.92-.59-1.43-.59-.52 0-1.04.2-1.43.59L10.3 9.45l-7.72 7.72c-.78.78-.78 2.05 0 2.83L4 21.41c.39.39.9.59 1.41.59.51 0 1.02-.2 1.41-.59l7.78-7.78 2.81-2.81c.8-.78.8-2.07 0-2.86zM5.41 20L4 18.59l7.72-7.72 1.47 1.35L5.41 20z\"/>\n",
              "  </svg>\n",
              "      </button>\n",
              "      \n",
              "  <style>\n",
              "    .colab-df-container {\n",
              "      display:flex;\n",
              "      flex-wrap:wrap;\n",
              "      gap: 12px;\n",
              "    }\n",
              "\n",
              "    .colab-df-convert {\n",
              "      background-color: #E8F0FE;\n",
              "      border: none;\n",
              "      border-radius: 50%;\n",
              "      cursor: pointer;\n",
              "      display: none;\n",
              "      fill: #1967D2;\n",
              "      height: 32px;\n",
              "      padding: 0 0 0 0;\n",
              "      width: 32px;\n",
              "    }\n",
              "\n",
              "    .colab-df-convert:hover {\n",
              "      background-color: #E2EBFA;\n",
              "      box-shadow: 0px 1px 2px rgba(60, 64, 67, 0.3), 0px 1px 3px 1px rgba(60, 64, 67, 0.15);\n",
              "      fill: #174EA6;\n",
              "    }\n",
              "\n",
              "    [theme=dark] .colab-df-convert {\n",
              "      background-color: #3B4455;\n",
              "      fill: #D2E3FC;\n",
              "    }\n",
              "\n",
              "    [theme=dark] .colab-df-convert:hover {\n",
              "      background-color: #434B5C;\n",
              "      box-shadow: 0px 1px 3px 1px rgba(0, 0, 0, 0.15);\n",
              "      filter: drop-shadow(0px 1px 2px rgba(0, 0, 0, 0.3));\n",
              "      fill: #FFFFFF;\n",
              "    }\n",
              "  </style>\n",
              "\n",
              "      <script>\n",
              "        const buttonEl =\n",
              "          document.querySelector('#df-dccbf946-c2f4-468e-91a2-ea0c2318c049 button.colab-df-convert');\n",
              "        buttonEl.style.display =\n",
              "          google.colab.kernel.accessAllowed ? 'block' : 'none';\n",
              "\n",
              "        async function convertToInteractive(key) {\n",
              "          const element = document.querySelector('#df-dccbf946-c2f4-468e-91a2-ea0c2318c049');\n",
              "          const dataTable =\n",
              "            await google.colab.kernel.invokeFunction('convertToInteractive',\n",
              "                                                     [key], {});\n",
              "          if (!dataTable) return;\n",
              "\n",
              "          const docLinkHtml = 'Like what you see? Visit the ' +\n",
              "            '<a target=\"_blank\" href=https://colab.research.google.com/notebooks/data_table.ipynb>data table notebook</a>'\n",
              "            + ' to learn more about interactive tables.';\n",
              "          element.innerHTML = '';\n",
              "          dataTable['output_type'] = 'display_data';\n",
              "          await google.colab.output.renderOutput(dataTable, element);\n",
              "          const docLink = document.createElement('div');\n",
              "          docLink.innerHTML = docLinkHtml;\n",
              "          element.appendChild(docLink);\n",
              "        }\n",
              "      </script>\n",
              "    </div>\n",
              "  </div>\n",
              "  "
            ]
          },
          "metadata": {},
          "execution_count": 36
        }
      ]
    },
    {
      "cell_type": "code",
      "source": [
        "# quartis\n",
        "\n",
        "quartis = pd.DataFrame(gamers.quantile([0.25, 0.5, 0.75]))\n",
        "quartis.index = quartis.index * 100\n",
        "quartis"
      ],
      "metadata": {
        "colab": {
          "base_uri": "https://localhost:8080/",
          "height": 143
        },
        "id": "QohtFwVyZHEE",
        "outputId": "786413a4-ee67-4074-c94b-2093001fa856"
      },
      "execution_count": 37,
      "outputs": [
        {
          "output_type": "execute_result",
          "data": {
            "text/plain": [
              "        gamers\n",
              "25.0  14644.25\n",
              "50.0  36881.50\n",
              "75.0  84985.00"
            ],
            "text/html": [
              "\n",
              "  <div id=\"df-912e8a7a-b2ab-464f-9c46-b775e9a698b7\">\n",
              "    <div class=\"colab-df-container\">\n",
              "      <div>\n",
              "<style scoped>\n",
              "    .dataframe tbody tr th:only-of-type {\n",
              "        vertical-align: middle;\n",
              "    }\n",
              "\n",
              "    .dataframe tbody tr th {\n",
              "        vertical-align: top;\n",
              "    }\n",
              "\n",
              "    .dataframe thead th {\n",
              "        text-align: right;\n",
              "    }\n",
              "</style>\n",
              "<table border=\"1\" class=\"dataframe\">\n",
              "  <thead>\n",
              "    <tr style=\"text-align: right;\">\n",
              "      <th></th>\n",
              "      <th>gamers</th>\n",
              "    </tr>\n",
              "  </thead>\n",
              "  <tbody>\n",
              "    <tr>\n",
              "      <th>25.0</th>\n",
              "      <td>14644.25</td>\n",
              "    </tr>\n",
              "    <tr>\n",
              "      <th>50.0</th>\n",
              "      <td>36881.50</td>\n",
              "    </tr>\n",
              "    <tr>\n",
              "      <th>75.0</th>\n",
              "      <td>84985.00</td>\n",
              "    </tr>\n",
              "  </tbody>\n",
              "</table>\n",
              "</div>\n",
              "      <button class=\"colab-df-convert\" onclick=\"convertToInteractive('df-912e8a7a-b2ab-464f-9c46-b775e9a698b7')\"\n",
              "              title=\"Convert this dataframe to an interactive table.\"\n",
              "              style=\"display:none;\">\n",
              "        \n",
              "  <svg xmlns=\"http://www.w3.org/2000/svg\" height=\"24px\"viewBox=\"0 0 24 24\"\n",
              "       width=\"24px\">\n",
              "    <path d=\"M0 0h24v24H0V0z\" fill=\"none\"/>\n",
              "    <path d=\"M18.56 5.44l.94 2.06.94-2.06 2.06-.94-2.06-.94-.94-2.06-.94 2.06-2.06.94zm-11 1L8.5 8.5l.94-2.06 2.06-.94-2.06-.94L8.5 2.5l-.94 2.06-2.06.94zm10 10l.94 2.06.94-2.06 2.06-.94-2.06-.94-.94-2.06-.94 2.06-2.06.94z\"/><path d=\"M17.41 7.96l-1.37-1.37c-.4-.4-.92-.59-1.43-.59-.52 0-1.04.2-1.43.59L10.3 9.45l-7.72 7.72c-.78.78-.78 2.05 0 2.83L4 21.41c.39.39.9.59 1.41.59.51 0 1.02-.2 1.41-.59l7.78-7.78 2.81-2.81c.8-.78.8-2.07 0-2.86zM5.41 20L4 18.59l7.72-7.72 1.47 1.35L5.41 20z\"/>\n",
              "  </svg>\n",
              "      </button>\n",
              "      \n",
              "  <style>\n",
              "    .colab-df-container {\n",
              "      display:flex;\n",
              "      flex-wrap:wrap;\n",
              "      gap: 12px;\n",
              "    }\n",
              "\n",
              "    .colab-df-convert {\n",
              "      background-color: #E8F0FE;\n",
              "      border: none;\n",
              "      border-radius: 50%;\n",
              "      cursor: pointer;\n",
              "      display: none;\n",
              "      fill: #1967D2;\n",
              "      height: 32px;\n",
              "      padding: 0 0 0 0;\n",
              "      width: 32px;\n",
              "    }\n",
              "\n",
              "    .colab-df-convert:hover {\n",
              "      background-color: #E2EBFA;\n",
              "      box-shadow: 0px 1px 2px rgba(60, 64, 67, 0.3), 0px 1px 3px 1px rgba(60, 64, 67, 0.15);\n",
              "      fill: #174EA6;\n",
              "    }\n",
              "\n",
              "    [theme=dark] .colab-df-convert {\n",
              "      background-color: #3B4455;\n",
              "      fill: #D2E3FC;\n",
              "    }\n",
              "\n",
              "    [theme=dark] .colab-df-convert:hover {\n",
              "      background-color: #434B5C;\n",
              "      box-shadow: 0px 1px 3px 1px rgba(0, 0, 0, 0.15);\n",
              "      filter: drop-shadow(0px 1px 2px rgba(0, 0, 0, 0.3));\n",
              "      fill: #FFFFFF;\n",
              "    }\n",
              "  </style>\n",
              "\n",
              "      <script>\n",
              "        const buttonEl =\n",
              "          document.querySelector('#df-912e8a7a-b2ab-464f-9c46-b775e9a698b7 button.colab-df-convert');\n",
              "        buttonEl.style.display =\n",
              "          google.colab.kernel.accessAllowed ? 'block' : 'none';\n",
              "\n",
              "        async function convertToInteractive(key) {\n",
              "          const element = document.querySelector('#df-912e8a7a-b2ab-464f-9c46-b775e9a698b7');\n",
              "          const dataTable =\n",
              "            await google.colab.kernel.invokeFunction('convertToInteractive',\n",
              "                                                     [key], {});\n",
              "          if (!dataTable) return;\n",
              "\n",
              "          const docLinkHtml = 'Like what you see? Visit the ' +\n",
              "            '<a target=\"_blank\" href=https://colab.research.google.com/notebooks/data_table.ipynb>data table notebook</a>'\n",
              "            + ' to learn more about interactive tables.';\n",
              "          element.innerHTML = '';\n",
              "          dataTable['output_type'] = 'display_data';\n",
              "          await google.colab.output.renderOutput(dataTable, element);\n",
              "          const docLink = document.createElement('div');\n",
              "          docLink.innerHTML = docLinkHtml;\n",
              "          element.appendChild(docLink);\n",
              "        }\n",
              "      </script>\n",
              "    </div>\n",
              "  </div>\n",
              "  "
            ]
          },
          "metadata": {},
          "execution_count": 37
        }
      ]
    },
    {
      "cell_type": "code",
      "source": [
        "# plotando um boxplot:\n",
        "\n",
        "fig = px.box(gamepass['gamers'], orientation= 'h', title= 'Boxplot da variável gamers inseridos no Xbox Game Pass')\n",
        "fig.update_layout(title= {'x': 0.5})"
      ],
      "metadata": {
        "colab": {
          "base_uri": "https://localhost:8080/",
          "height": 542
        },
        "id": "6VQXvYGGbD0b",
        "outputId": "291357f0-a208-402c-d68f-38cac63a28ba"
      },
      "execution_count": 84,
      "outputs": [
        {
          "output_type": "display_data",
          "data": {
            "text/html": [
              "<html>\n",
              "<head><meta charset=\"utf-8\" /></head>\n",
              "<body>\n",
              "    <div>            <script src=\"https://cdnjs.cloudflare.com/ajax/libs/mathjax/2.7.5/MathJax.js?config=TeX-AMS-MML_SVG\"></script><script type=\"text/javascript\">if (window.MathJax) {MathJax.Hub.Config({SVG: {font: \"STIX-Web\"}});}</script>                <script type=\"text/javascript\">window.PlotlyConfig = {MathJaxConfig: 'local'};</script>\n",
              "        <script src=\"https://cdn.plot.ly/plotly-2.8.3.min.js\"></script>                <div id=\"a99e55e2-d3b3-4dc3-b8cf-2745d712ac27\" class=\"plotly-graph-div\" style=\"height:525px; width:100%;\"></div>            <script type=\"text/javascript\">                                    window.PLOTLYENV=window.PLOTLYENV || {};                                    if (document.getElementById(\"a99e55e2-d3b3-4dc3-b8cf-2745d712ac27\")) {                    Plotly.newPlot(                        \"a99e55e2-d3b3-4dc3-b8cf-2745d712ac27\",                        [{\"alignmentgroup\":\"True\",\"hovertemplate\":\"value=%{x}<br>variable=%{y}<extra></extra>\",\"legendgroup\":\"\",\"marker\":{\"color\":\"#636efa\"},\"name\":\"\",\"notched\":false,\"offsetgroup\":\"\",\"orientation\":\"h\",\"showlegend\":false,\"x\":[0.0,0.0,0.0,0.0,0.0,0.0,0.0,0.0,null,0.0,2.0,null,0.0,0.0,0.0,5986.0,null,null,8825.0,0.0,0.0,null,null,26586.0,0.0,null,null,0.0,null,4.0,null,7.0,2414.0,null,3145.0,39755.0,207865.0,null,5091.0,29778.0,null,null,27014.0,null,6121.0,null,null,13094.0,32147.0,null,9810.0,70031.0,18608.0,null,null,null,24354.0,null,null,null,40939.0,18191.0,45688.0,25336.0,null,null,27801.0,null,null,210384.0,2646.0,102981.0,null,33838.0,158416.0,15943.0,33164.0,36385.0,null,15947.0,116071.0,14693.0,29972.0,26689.0,null,87435.0,35079.0,18349.0,238474.0,66360.0,43307.0,28618.0,null,null,2368.0,null,217813.0,33488.0,null,14130.0,null,null,7396.0,44713.0,44713.0,3232.0,3232.0,62901.0,3488.0,9619.0,15689.0,null,null,48415.0,null,null,10991.0,null,19624.0,9561.0,5745.0,156637.0,54840.0,4973.0,90666.0,12582.0,35288.0,12183.0,36988.0,31347.0,null,27366.0,1231.0,7396.0,43179.0,37224.0,23096.0,null,51628.0,3577.0,11542.0,2435.0,12738.0,null,1942.0,90416.0,null,124294.0,14628.0,23281.0,22242.0,null,16283.0,null,18081.0,null,5901.0,null,55033.0,21296.0,24789.0,10747.0,32297.0,null,11115.0,27375.0,51379.0,null,null,17220.0,107614.0,11366.0,null,42790.0,null,32673.0,22728.0,92540.0,36890.0,36517.0,6433.0,35050.0,26477.0,11228.0,66908.0,17719.0,102009.0,39667.0,23765.0,22049.0,69485.0,2070.0,75957.0,36873.0,392699.0,48599.0,19876.0,null,21143.0,50226.0,44348.0,40342.0,57020.0,84535.0,13843.0,16646.0,70648.0,1649.0,36065.0,null,57828.0,40154.0,229.0,86190.0,460.0,9284.0,13614.0,2108.0,null,329218.0,84432.0,56008.0,97035.0,null,4896.0,112339.0,null,8037.0,205427.0,9245.0,145899.0,43448.0,11542.0,57139.0,48673.0,26781.0,13977.0,14009.0,null,104412.0,54482.0,6850.0,null,8780.0,null,null,null,null,null,68314.0,23100.0,40642.0,null,76091.0,118656.0,null,null,74218.0,149504.0,6169.0,null,null,2476.0,null,null,25818.0,null,null,null,49694.0,43310.0,169716.0,16169.0,62251.0,159352.0,56996.0,null,null,40905.0,35405.0,null,24750.0,83781.0,176844.0,14728.0,45781.0,10008.0,29203.0,null,null,null,null,null,83068.0,null,null,2742.0,null,null,null,null,82265.0,58426.0,70849.0,12963.0,72149.0,null,11986.0,60958.0,39795.0,null,69943.0,92430.0,23173.0,75332.0,null,109061.0,12344.0,7245.0,9324.0,114863.0,171329.0,96702.0,24582.0,4234.0,222531.0,27390.0,null,56397.0,23266.0,367219.0,121421.0,88748.0,142623.0,115465.0,null,93955.0,null,null,null,164815.0,278241.0,null,24099.0,55480.0,null,null,54539.0,null,118872.0,174193.0,0.0,153212.0,127883.0,26415.0,111589.0,null,null,90779.0,21872.0,91803.0,42619.0,87751.0,69930.0,null,null,null,129205.0,219341.0,104566.0,34799.0,31096.0,null,null,null,null,27002.0,169123.0,169189.0,null,null,156898.0,null,24895.0,null,33172.0,215000.0,153950.0,null,null,280126.0,null,null,123311.0,64258.0,57225.0,34633.0,104602.0,104602.0,77450.0,35284.0,38835.0,23883.0,37567.0,null,null,115415.0,142874.0,306093.0,15323.0,49292.0,76529.0,105173.0,76945.0,null,19520.0,76137.0,29017.0,433635.0,57459.0,188428.0,null,null,139804.0,251255.0,172378.0,null,115761.0,12845.0,100659.0,54693.0,99939.0,14507.0,61817.0,28807.0,110834.0,null,4644.0,60018.0,null,8199.0,29316.0,null,136472.0,null,445289.0,null,null,112679.0,162578.0,244230.0,76088.0,11504.0,null,122941.0,null,90923.0,14302.0,null,null,46752.0,11466.0,8315.0,8222.0,null,66161.0,131193.0,46385.0,58833.0,265086.0,8194.0,0.0,185924.0,103767.0,264571.0,33133.0,null,60321.0,26658.0,null,null,65358.0,95262.0,151469.0,87281.0,110963.0,379123.0,76801.0,374852.0,151563.0,124547.0,null,null,111040.0,null,162903.0,166783.0,390421.0,216766.0,468837.0,201431.0,null,145548.0,92009.0,330115.0,null,229684.0,260497.0,null,102728.0,9368.0,288606.0,116469.0,95267.0,134147.0,361248.0,114144.0,121574.0,137510.0,87273.0,314933.0,275905.0,78440.0,50288.0,null,306385.0,null,114963.0,119087.0,48511.0,38755.0,330552.0,null,418671.0,408939.0,394473.0,224661.0,236261.0,391790.0,156625.0,56426.0,57261.0,124690.0,170036.0,178589.0,73017.0,62493.0,337459.0,142972.0,145278.0,44626.0,null,11882.0,7569.0,28893.0,13100.0,8867.0,null,113502.0,18565.0,2036.0,9341.0,11480.0,10960.0,27303.0,81968.0,51597.0,31230.0,45076.0,12284.0,10240.0,5106.0,5956.0,3056.0,52093.0,22940.0,154707.0,19663.0,15682.0,52709.0,57653.0,20042.0,42428.0,52910.0,139061.0,5406.0,115948.0,1583.0,null,null,null,null,null,null,28952.0,1432.0,null,71321.0,92029.0,68925.0,null,74467.0,153971.0,96528.0,20749.0,15218.0,19496.0,29238.0,null,20489.0,38376.0,24901.0,46211.0,null,5201.0,2121.0,15589.0,96560.0,42024.0,95684.0,32087.0,137399.0,8971.0,32956.0,null,29672.0,39665.0,131844.0,20842.0,null,55989.0,73169.0,22062.0,23329.0,190590.0,null,8525.0,17810.0,26929.0,93688.0,103042.0,78013.0,36916.0,4811.0,118178.0,51043.0,73169.0,null,68875.0,null,28376.0,69849.0,35017.0,null,0.0,3239.0,46475.0,13420.0,105980.0,34372.0,null,6342.0,28515.0,9006.0,110426.0,9249.0,21871.0,21408.0,35244.0,91030.0,53938.0,130052.0,4455.0,310.0,13818.0,30049.0,4178.0,242.0,null,9059.0,null,2211.0,2413.0,5556.0,null,21149.0,27675.0,null,null,36356.0,18133.0,7895.0,19301.0,14046.0,71864.0,38317.0,191882.0,null,null,67563.0,33698.0,null,90103.0,12366.0,22708.0,48871.0,33223.0,12040.0,24005.0,36429.0,28368.0,71249.0,62348.0,null,27299.0,11138.0,54125.0,32495.0,16315.0,9840.0,21858.0,22558.0,null,null,43437.0,4712.0,null,21047.0,17865.0,null,18520.0,8473.0,null,11736.0,64688.0,21347.0,176248.0,null,null,62297.0,1564.0,18907.0,null,null,null,null,56425.0,15255.0,54872.0,null,13128.0,20086.0,24729.0,102707.0,19199.0,428.0,null,null,null,53535.0,51238.0,37586.0,73287.0,32655.0,null,54338.0,18279.0,19800.0,null,39305.0,6644.0,31283.0,51817.0,null,null,14386.0,86763.0,96815.0,null,52471.0,null,33881.0,30923.0,228926.0,64369.0,28044.0,22890.0,84739.0,17790.0,31942.0,25061.0,null,null,null,50035.0,58303.0,null,null,5392.0,null,209030.0,24570.0,null,127807.0,138297.0,137571.0,111825.0,43997.0,null,91146.0,null,2578.0,81567.0,6922.0,28273.0,23550.0,79237.0,87555.0,71943.0,61862.0,47522.0,23106.0,43012.0,61012.0,15596.0,28546.0,39399.0,1669.0,85067.0,null,40744.0,129.0,10175.0,null,null,null,null,null,null,null,null,null,36633.0,46922.0,14051.0,null,26899.0,195086.0,56584.0,25210.0,null,2347.0,44925.0,122876.0,null,14928.0,null,83309.0,null,160451.0,15306.0,12249.0,34661.0,null,82722.0,32753.0,null,null,37267.0,267151.0,null,101041.0,13648.0,9675.0,39917.0,6908.0,106660.0,37606.0,87943.0,39455.0,36181.0,316.0,34946.0,23287.0,null,40744.0,99609.0,51961.0,9025.0,null,20912.0,null,112508.0,28682.0,null,13997.0,1367.0,47035.0,36235.0,23281.0,72631.0,125089.0,null,null,25683.0,387583.0,75578.0,61556.0,null,null,45608.0,24272.0,55820.0,69476.0,58869.0,112167.0,4113.0,255.0,56386.0,12280.0,2215.0,29944.0,24697.0,126223.0,174373.0,4559.0,null,null,20971.0,105891.0,4801.0,null,19830.0,48875.0,2261.0,15714.0,670.0,29656.0,38217.0,35474.0,null,45864.0,null,null,21435.0,38980.0,null,80116.0,93605.0,null,null,54680.0,null,null,32979.0,17582.0,2754.0,237638.0,null,5910.0,13726.0,8612.0,30563.0,64968.0,33289.0,23174.0,33685.0,null,121443.0,71789.0,5144.0,87596.0,null,null,230428.0,159775.0,null,8857.0,null,20112.0,8947.0,27179.0,null,11056.0,13714.0,71945.0,63787.0,130559.0,89770.0,36251.0,126351.0,null,16075.0,158538.0,298516.0,42356.0,0.0,152651.0,123849.0,273822.0,224229.0,13335.0,153491.0,54169.0,47159.0,41232.0,15117.0,13962.0,null,null,71880.0,48710.0,25604.0,29219.0,42474.0,46570.0,null,36868.0,65820.0,42057.0,44854.0,96301.0,80355.0,null,null,12124.0,97896.0,null,91058.0,44907.0,null,null,93290.0,54385.0,12747.0,34196.0,10633.0,40315.0,41419.0,168538.0,6892.0,60377.0,101228.0,34440.0,12592.0,18519.0,32424.0,44670.0,44670.0,44670.0,44670.0,60015.0,51208.0,120998.0,13319.0,73618.0,null,23112.0,209307.0,22154.0,89632.0,21846.0,94641.0,45353.0,23222.0,76530.0,17258.0,26859.0,170776.0,null,14035.0,281082.0,165941.0,12532.0,43556.0,104175.0,null,12307.0,55398.0,96162.0,11435.0,31055.0,28527.0,67870.0,48113.0,12317.0,11388.0,114280.0,76165.0,40137.0,null,4440.0,3482.0,13125.0,16777.0,18618.0,46943.0,45051.0,31892.0,21132.0,11985.0,64667.0,28353.0,74377.0,35888.0,37640.0,5629.0,62301.0,12671.0,13878.0,null,216305.0,2180.0,7322.0,21835.0,null,7366.0,24470.0,148219.0,159218.0,30505.0,null,21080.0,37774.0,6771.0,6279.0,34447.0,18557.0,null,34752.0,6849.0,87436.0,20221.0,33742.0,null,75986.0,8444.0,11244.0,24957.0,5394.0,12547.0,11244.0,44713.0,44713.0,3232.0,3232.0,26720.0,94337.0,138281.0,6582.0,114339.0,8175.0,6615.0,9017.0,33575.0,75102.0,238630.0,185888.0,266746.0,21554.0,3747.0,20879.0,338649.0,9748.0,1037.0,1037.0,147360.0,80277.0,29095.0,16620.0,null,124570.0,6313.0,85911.0,48626.0,32547.0,4285.0,390.0,7503.0,10929.0,23603.0,15112.0,46761.0,37347.0,8568.0,12495.0,14269.0,34561.0,0.0,4696.0,2814.0,31353.0,26402.0,42580.0,106798.0,62908.0,12608.0],\"x0\":\" \",\"xaxis\":\"x\",\"y\":[\"gamers\",\"gamers\",\"gamers\",\"gamers\",\"gamers\",\"gamers\",\"gamers\",\"gamers\",\"gamers\",\"gamers\",\"gamers\",\"gamers\",\"gamers\",\"gamers\",\"gamers\",\"gamers\",\"gamers\",\"gamers\",\"gamers\",\"gamers\",\"gamers\",\"gamers\",\"gamers\",\"gamers\",\"gamers\",\"gamers\",\"gamers\",\"gamers\",\"gamers\",\"gamers\",\"gamers\",\"gamers\",\"gamers\",\"gamers\",\"gamers\",\"gamers\",\"gamers\",\"gamers\",\"gamers\",\"gamers\",\"gamers\",\"gamers\",\"gamers\",\"gamers\",\"gamers\",\"gamers\",\"gamers\",\"gamers\",\"gamers\",\"gamers\",\"gamers\",\"gamers\",\"gamers\",\"gamers\",\"gamers\",\"gamers\",\"gamers\",\"gamers\",\"gamers\",\"gamers\",\"gamers\",\"gamers\",\"gamers\",\"gamers\",\"gamers\",\"gamers\",\"gamers\",\"gamers\",\"gamers\",\"gamers\",\"gamers\",\"gamers\",\"gamers\",\"gamers\",\"gamers\",\"gamers\",\"gamers\",\"gamers\",\"gamers\",\"gamers\",\"gamers\",\"gamers\",\"gamers\",\"gamers\",\"gamers\",\"gamers\",\"gamers\",\"gamers\",\"gamers\",\"gamers\",\"gamers\",\"gamers\",\"gamers\",\"gamers\",\"gamers\",\"gamers\",\"gamers\",\"gamers\",\"gamers\",\"gamers\",\"gamers\",\"gamers\",\"gamers\",\"gamers\",\"gamers\",\"gamers\",\"gamers\",\"gamers\",\"gamers\",\"gamers\",\"gamers\",\"gamers\",\"gamers\",\"gamers\",\"gamers\",\"gamers\",\"gamers\",\"gamers\",\"gamers\",\"gamers\",\"gamers\",\"gamers\",\"gamers\",\"gamers\",\"gamers\",\"gamers\",\"gamers\",\"gamers\",\"gamers\",\"gamers\",\"gamers\",\"gamers\",\"gamers\",\"gamers\",\"gamers\",\"gamers\",\"gamers\",\"gamers\",\"gamers\",\"gamers\",\"gamers\",\"gamers\",\"gamers\",\"gamers\",\"gamers\",\"gamers\",\"gamers\",\"gamers\",\"gamers\",\"gamers\",\"gamers\",\"gamers\",\"gamers\",\"gamers\",\"gamers\",\"gamers\",\"gamers\",\"gamers\",\"gamers\",\"gamers\",\"gamers\",\"gamers\",\"gamers\",\"gamers\",\"gamers\",\"gamers\",\"gamers\",\"gamers\",\"gamers\",\"gamers\",\"gamers\",\"gamers\",\"gamers\",\"gamers\",\"gamers\",\"gamers\",\"gamers\",\"gamers\",\"gamers\",\"gamers\",\"gamers\",\"gamers\",\"gamers\",\"gamers\",\"gamers\",\"gamers\",\"gamers\",\"gamers\",\"gamers\",\"gamers\",\"gamers\",\"gamers\",\"gamers\",\"gamers\",\"gamers\",\"gamers\",\"gamers\",\"gamers\",\"gamers\",\"gamers\",\"gamers\",\"gamers\",\"gamers\",\"gamers\",\"gamers\",\"gamers\",\"gamers\",\"gamers\",\"gamers\",\"gamers\",\"gamers\",\"gamers\",\"gamers\",\"gamers\",\"gamers\",\"gamers\",\"gamers\",\"gamers\",\"gamers\",\"gamers\",\"gamers\",\"gamers\",\"gamers\",\"gamers\",\"gamers\",\"gamers\",\"gamers\",\"gamers\",\"gamers\",\"gamers\",\"gamers\",\"gamers\",\"gamers\",\"gamers\",\"gamers\",\"gamers\",\"gamers\",\"gamers\",\"gamers\",\"gamers\",\"gamers\",\"gamers\",\"gamers\",\"gamers\",\"gamers\",\"gamers\",\"gamers\",\"gamers\",\"gamers\",\"gamers\",\"gamers\",\"gamers\",\"gamers\",\"gamers\",\"gamers\",\"gamers\",\"gamers\",\"gamers\",\"gamers\",\"gamers\",\"gamers\",\"gamers\",\"gamers\",\"gamers\",\"gamers\",\"gamers\",\"gamers\",\"gamers\",\"gamers\",\"gamers\",\"gamers\",\"gamers\",\"gamers\",\"gamers\",\"gamers\",\"gamers\",\"gamers\",\"gamers\",\"gamers\",\"gamers\",\"gamers\",\"gamers\",\"gamers\",\"gamers\",\"gamers\",\"gamers\",\"gamers\",\"gamers\",\"gamers\",\"gamers\",\"gamers\",\"gamers\",\"gamers\",\"gamers\",\"gamers\",\"gamers\",\"gamers\",\"gamers\",\"gamers\",\"gamers\",\"gamers\",\"gamers\",\"gamers\",\"gamers\",\"gamers\",\"gamers\",\"gamers\",\"gamers\",\"gamers\",\"gamers\",\"gamers\",\"gamers\",\"gamers\",\"gamers\",\"gamers\",\"gamers\",\"gamers\",\"gamers\",\"gamers\",\"gamers\",\"gamers\",\"gamers\",\"gamers\",\"gamers\",\"gamers\",\"gamers\",\"gamers\",\"gamers\",\"gamers\",\"gamers\",\"gamers\",\"gamers\",\"gamers\",\"gamers\",\"gamers\",\"gamers\",\"gamers\",\"gamers\",\"gamers\",\"gamers\",\"gamers\",\"gamers\",\"gamers\",\"gamers\",\"gamers\",\"gamers\",\"gamers\",\"gamers\",\"gamers\",\"gamers\",\"gamers\",\"gamers\",\"gamers\",\"gamers\",\"gamers\",\"gamers\",\"gamers\",\"gamers\",\"gamers\",\"gamers\",\"gamers\",\"gamers\",\"gamers\",\"gamers\",\"gamers\",\"gamers\",\"gamers\",\"gamers\",\"gamers\",\"gamers\",\"gamers\",\"gamers\",\"gamers\",\"gamers\",\"gamers\",\"gamers\",\"gamers\",\"gamers\",\"gamers\",\"gamers\",\"gamers\",\"gamers\",\"gamers\",\"gamers\",\"gamers\",\"gamers\",\"gamers\",\"gamers\",\"gamers\",\"gamers\",\"gamers\",\"gamers\",\"gamers\",\"gamers\",\"gamers\",\"gamers\",\"gamers\",\"gamers\",\"gamers\",\"gamers\",\"gamers\",\"gamers\",\"gamers\",\"gamers\",\"gamers\",\"gamers\",\"gamers\",\"gamers\",\"gamers\",\"gamers\",\"gamers\",\"gamers\",\"gamers\",\"gamers\",\"gamers\",\"gamers\",\"gamers\",\"gamers\",\"gamers\",\"gamers\",\"gamers\",\"gamers\",\"gamers\",\"gamers\",\"gamers\",\"gamers\",\"gamers\",\"gamers\",\"gamers\",\"gamers\",\"gamers\",\"gamers\",\"gamers\",\"gamers\",\"gamers\",\"gamers\",\"gamers\",\"gamers\",\"gamers\",\"gamers\",\"gamers\",\"gamers\",\"gamers\",\"gamers\",\"gamers\",\"gamers\",\"gamers\",\"gamers\",\"gamers\",\"gamers\",\"gamers\",\"gamers\",\"gamers\",\"gamers\",\"gamers\",\"gamers\",\"gamers\",\"gamers\",\"gamers\",\"gamers\",\"gamers\",\"gamers\",\"gamers\",\"gamers\",\"gamers\",\"gamers\",\"gamers\",\"gamers\",\"gamers\",\"gamers\",\"gamers\",\"gamers\",\"gamers\",\"gamers\",\"gamers\",\"gamers\",\"gamers\",\"gamers\",\"gamers\",\"gamers\",\"gamers\",\"gamers\",\"gamers\",\"gamers\",\"gamers\",\"gamers\",\"gamers\",\"gamers\",\"gamers\",\"gamers\",\"gamers\",\"gamers\",\"gamers\",\"gamers\",\"gamers\",\"gamers\",\"gamers\",\"gamers\",\"gamers\",\"gamers\",\"gamers\",\"gamers\",\"gamers\",\"gamers\",\"gamers\",\"gamers\",\"gamers\",\"gamers\",\"gamers\",\"gamers\",\"gamers\",\"gamers\",\"gamers\",\"gamers\",\"gamers\",\"gamers\",\"gamers\",\"gamers\",\"gamers\",\"gamers\",\"gamers\",\"gamers\",\"gamers\",\"gamers\",\"gamers\",\"gamers\",\"gamers\",\"gamers\",\"gamers\",\"gamers\",\"gamers\",\"gamers\",\"gamers\",\"gamers\",\"gamers\",\"gamers\",\"gamers\",\"gamers\",\"gamers\",\"gamers\",\"gamers\",\"gamers\",\"gamers\",\"gamers\",\"gamers\",\"gamers\",\"gamers\",\"gamers\",\"gamers\",\"gamers\",\"gamers\",\"gamers\",\"gamers\",\"gamers\",\"gamers\",\"gamers\",\"gamers\",\"gamers\",\"gamers\",\"gamers\",\"gamers\",\"gamers\",\"gamers\",\"gamers\",\"gamers\",\"gamers\",\"gamers\",\"gamers\",\"gamers\",\"gamers\",\"gamers\",\"gamers\",\"gamers\",\"gamers\",\"gamers\",\"gamers\",\"gamers\",\"gamers\",\"gamers\",\"gamers\",\"gamers\",\"gamers\",\"gamers\",\"gamers\",\"gamers\",\"gamers\",\"gamers\",\"gamers\",\"gamers\",\"gamers\",\"gamers\",\"gamers\",\"gamers\",\"gamers\",\"gamers\",\"gamers\",\"gamers\",\"gamers\",\"gamers\",\"gamers\",\"gamers\",\"gamers\",\"gamers\",\"gamers\",\"gamers\",\"gamers\",\"gamers\",\"gamers\",\"gamers\",\"gamers\",\"gamers\",\"gamers\",\"gamers\",\"gamers\",\"gamers\",\"gamers\",\"gamers\",\"gamers\",\"gamers\",\"gamers\",\"gamers\",\"gamers\",\"gamers\",\"gamers\",\"gamers\",\"gamers\",\"gamers\",\"gamers\",\"gamers\",\"gamers\",\"gamers\",\"gamers\",\"gamers\",\"gamers\",\"gamers\",\"gamers\",\"gamers\",\"gamers\",\"gamers\",\"gamers\",\"gamers\",\"gamers\",\"gamers\",\"gamers\",\"gamers\",\"gamers\",\"gamers\",\"gamers\",\"gamers\",\"gamers\",\"gamers\",\"gamers\",\"gamers\",\"gamers\",\"gamers\",\"gamers\",\"gamers\",\"gamers\",\"gamers\",\"gamers\",\"gamers\",\"gamers\",\"gamers\",\"gamers\",\"gamers\",\"gamers\",\"gamers\",\"gamers\",\"gamers\",\"gamers\",\"gamers\",\"gamers\",\"gamers\",\"gamers\",\"gamers\",\"gamers\",\"gamers\",\"gamers\",\"gamers\",\"gamers\",\"gamers\",\"gamers\",\"gamers\",\"gamers\",\"gamers\",\"gamers\",\"gamers\",\"gamers\",\"gamers\",\"gamers\",\"gamers\",\"gamers\",\"gamers\",\"gamers\",\"gamers\",\"gamers\",\"gamers\",\"gamers\",\"gamers\",\"gamers\",\"gamers\",\"gamers\",\"gamers\",\"gamers\",\"gamers\",\"gamers\",\"gamers\",\"gamers\",\"gamers\",\"gamers\",\"gamers\",\"gamers\",\"gamers\",\"gamers\",\"gamers\",\"gamers\",\"gamers\",\"gamers\",\"gamers\",\"gamers\",\"gamers\",\"gamers\",\"gamers\",\"gamers\",\"gamers\",\"gamers\",\"gamers\",\"gamers\",\"gamers\",\"gamers\",\"gamers\",\"gamers\",\"gamers\",\"gamers\",\"gamers\",\"gamers\",\"gamers\",\"gamers\",\"gamers\",\"gamers\",\"gamers\",\"gamers\",\"gamers\",\"gamers\",\"gamers\",\"gamers\",\"gamers\",\"gamers\",\"gamers\",\"gamers\",\"gamers\",\"gamers\",\"gamers\",\"gamers\",\"gamers\",\"gamers\",\"gamers\",\"gamers\",\"gamers\",\"gamers\",\"gamers\",\"gamers\",\"gamers\",\"gamers\",\"gamers\",\"gamers\",\"gamers\",\"gamers\",\"gamers\",\"gamers\",\"gamers\",\"gamers\",\"gamers\",\"gamers\",\"gamers\",\"gamers\",\"gamers\",\"gamers\",\"gamers\",\"gamers\",\"gamers\",\"gamers\",\"gamers\",\"gamers\",\"gamers\",\"gamers\",\"gamers\",\"gamers\",\"gamers\",\"gamers\",\"gamers\",\"gamers\",\"gamers\",\"gamers\",\"gamers\",\"gamers\",\"gamers\",\"gamers\",\"gamers\",\"gamers\",\"gamers\",\"gamers\",\"gamers\",\"gamers\",\"gamers\",\"gamers\",\"gamers\",\"gamers\",\"gamers\",\"gamers\",\"gamers\",\"gamers\",\"gamers\",\"gamers\",\"gamers\",\"gamers\",\"gamers\",\"gamers\",\"gamers\",\"gamers\",\"gamers\",\"gamers\",\"gamers\",\"gamers\",\"gamers\",\"gamers\",\"gamers\",\"gamers\",\"gamers\",\"gamers\",\"gamers\",\"gamers\",\"gamers\",\"gamers\",\"gamers\",\"gamers\",\"gamers\",\"gamers\",\"gamers\",\"gamers\",\"gamers\",\"gamers\",\"gamers\",\"gamers\",\"gamers\",\"gamers\",\"gamers\",\"gamers\",\"gamers\",\"gamers\",\"gamers\",\"gamers\",\"gamers\",\"gamers\",\"gamers\",\"gamers\",\"gamers\",\"gamers\",\"gamers\",\"gamers\",\"gamers\",\"gamers\",\"gamers\",\"gamers\",\"gamers\",\"gamers\",\"gamers\",\"gamers\",\"gamers\",\"gamers\",\"gamers\",\"gamers\",\"gamers\",\"gamers\",\"gamers\",\"gamers\",\"gamers\",\"gamers\",\"gamers\",\"gamers\",\"gamers\",\"gamers\",\"gamers\",\"gamers\",\"gamers\",\"gamers\",\"gamers\",\"gamers\",\"gamers\",\"gamers\",\"gamers\",\"gamers\",\"gamers\",\"gamers\",\"gamers\",\"gamers\",\"gamers\",\"gamers\",\"gamers\",\"gamers\",\"gamers\",\"gamers\",\"gamers\",\"gamers\",\"gamers\",\"gamers\",\"gamers\",\"gamers\",\"gamers\",\"gamers\",\"gamers\",\"gamers\",\"gamers\",\"gamers\",\"gamers\",\"gamers\",\"gamers\",\"gamers\",\"gamers\",\"gamers\",\"gamers\",\"gamers\",\"gamers\",\"gamers\",\"gamers\",\"gamers\",\"gamers\",\"gamers\",\"gamers\",\"gamers\",\"gamers\",\"gamers\",\"gamers\",\"gamers\",\"gamers\",\"gamers\",\"gamers\",\"gamers\",\"gamers\",\"gamers\",\"gamers\",\"gamers\",\"gamers\",\"gamers\",\"gamers\",\"gamers\",\"gamers\",\"gamers\",\"gamers\",\"gamers\",\"gamers\",\"gamers\",\"gamers\",\"gamers\",\"gamers\",\"gamers\",\"gamers\",\"gamers\",\"gamers\",\"gamers\",\"gamers\",\"gamers\",\"gamers\",\"gamers\",\"gamers\",\"gamers\",\"gamers\",\"gamers\",\"gamers\",\"gamers\",\"gamers\",\"gamers\",\"gamers\",\"gamers\",\"gamers\",\"gamers\",\"gamers\",\"gamers\",\"gamers\",\"gamers\",\"gamers\",\"gamers\",\"gamers\",\"gamers\",\"gamers\",\"gamers\",\"gamers\",\"gamers\",\"gamers\",\"gamers\",\"gamers\",\"gamers\",\"gamers\",\"gamers\",\"gamers\",\"gamers\",\"gamers\",\"gamers\",\"gamers\",\"gamers\",\"gamers\",\"gamers\",\"gamers\",\"gamers\",\"gamers\",\"gamers\",\"gamers\",\"gamers\",\"gamers\",\"gamers\",\"gamers\",\"gamers\",\"gamers\",\"gamers\",\"gamers\",\"gamers\",\"gamers\",\"gamers\",\"gamers\",\"gamers\",\"gamers\",\"gamers\",\"gamers\",\"gamers\",\"gamers\",\"gamers\",\"gamers\",\"gamers\",\"gamers\",\"gamers\",\"gamers\",\"gamers\",\"gamers\",\"gamers\",\"gamers\",\"gamers\",\"gamers\",\"gamers\",\"gamers\",\"gamers\",\"gamers\",\"gamers\",\"gamers\",\"gamers\",\"gamers\",\"gamers\",\"gamers\",\"gamers\",\"gamers\",\"gamers\",\"gamers\",\"gamers\",\"gamers\",\"gamers\",\"gamers\",\"gamers\",\"gamers\",\"gamers\",\"gamers\",\"gamers\",\"gamers\",\"gamers\",\"gamers\",\"gamers\",\"gamers\",\"gamers\",\"gamers\",\"gamers\",\"gamers\",\"gamers\",\"gamers\",\"gamers\",\"gamers\",\"gamers\",\"gamers\",\"gamers\",\"gamers\",\"gamers\",\"gamers\",\"gamers\",\"gamers\",\"gamers\",\"gamers\",\"gamers\",\"gamers\",\"gamers\",\"gamers\",\"gamers\",\"gamers\",\"gamers\",\"gamers\",\"gamers\",\"gamers\",\"gamers\",\"gamers\",\"gamers\",\"gamers\",\"gamers\",\"gamers\",\"gamers\",\"gamers\",\"gamers\",\"gamers\",\"gamers\",\"gamers\",\"gamers\",\"gamers\",\"gamers\",\"gamers\",\"gamers\",\"gamers\",\"gamers\",\"gamers\",\"gamers\",\"gamers\",\"gamers\",\"gamers\",\"gamers\",\"gamers\",\"gamers\",\"gamers\",\"gamers\",\"gamers\",\"gamers\",\"gamers\",\"gamers\",\"gamers\",\"gamers\",\"gamers\",\"gamers\",\"gamers\",\"gamers\",\"gamers\",\"gamers\",\"gamers\",\"gamers\",\"gamers\",\"gamers\",\"gamers\",\"gamers\",\"gamers\",\"gamers\",\"gamers\",\"gamers\",\"gamers\",\"gamers\",\"gamers\",\"gamers\",\"gamers\",\"gamers\",\"gamers\",\"gamers\",\"gamers\",\"gamers\",\"gamers\",\"gamers\",\"gamers\",\"gamers\",\"gamers\",\"gamers\",\"gamers\",\"gamers\",\"gamers\",\"gamers\",\"gamers\",\"gamers\",\"gamers\",\"gamers\",\"gamers\",\"gamers\",\"gamers\",\"gamers\",\"gamers\",\"gamers\",\"gamers\",\"gamers\",\"gamers\",\"gamers\",\"gamers\",\"gamers\",\"gamers\",\"gamers\",\"gamers\",\"gamers\",\"gamers\",\"gamers\",\"gamers\",\"gamers\",\"gamers\",\"gamers\",\"gamers\",\"gamers\",\"gamers\",\"gamers\",\"gamers\",\"gamers\",\"gamers\"],\"y0\":\" \",\"yaxis\":\"y\",\"type\":\"box\"}],                        {\"template\":{\"data\":{\"bar\":[{\"error_x\":{\"color\":\"#2a3f5f\"},\"error_y\":{\"color\":\"#2a3f5f\"},\"marker\":{\"line\":{\"color\":\"#E5ECF6\",\"width\":0.5},\"pattern\":{\"fillmode\":\"overlay\",\"size\":10,\"solidity\":0.2}},\"type\":\"bar\"}],\"barpolar\":[{\"marker\":{\"line\":{\"color\":\"#E5ECF6\",\"width\":0.5},\"pattern\":{\"fillmode\":\"overlay\",\"size\":10,\"solidity\":0.2}},\"type\":\"barpolar\"}],\"carpet\":[{\"aaxis\":{\"endlinecolor\":\"#2a3f5f\",\"gridcolor\":\"white\",\"linecolor\":\"white\",\"minorgridcolor\":\"white\",\"startlinecolor\":\"#2a3f5f\"},\"baxis\":{\"endlinecolor\":\"#2a3f5f\",\"gridcolor\":\"white\",\"linecolor\":\"white\",\"minorgridcolor\":\"white\",\"startlinecolor\":\"#2a3f5f\"},\"type\":\"carpet\"}],\"choropleth\":[{\"colorbar\":{\"outlinewidth\":0,\"ticks\":\"\"},\"type\":\"choropleth\"}],\"contour\":[{\"colorbar\":{\"outlinewidth\":0,\"ticks\":\"\"},\"colorscale\":[[0.0,\"#0d0887\"],[0.1111111111111111,\"#46039f\"],[0.2222222222222222,\"#7201a8\"],[0.3333333333333333,\"#9c179e\"],[0.4444444444444444,\"#bd3786\"],[0.5555555555555556,\"#d8576b\"],[0.6666666666666666,\"#ed7953\"],[0.7777777777777778,\"#fb9f3a\"],[0.8888888888888888,\"#fdca26\"],[1.0,\"#f0f921\"]],\"type\":\"contour\"}],\"contourcarpet\":[{\"colorbar\":{\"outlinewidth\":0,\"ticks\":\"\"},\"type\":\"contourcarpet\"}],\"heatmap\":[{\"colorbar\":{\"outlinewidth\":0,\"ticks\":\"\"},\"colorscale\":[[0.0,\"#0d0887\"],[0.1111111111111111,\"#46039f\"],[0.2222222222222222,\"#7201a8\"],[0.3333333333333333,\"#9c179e\"],[0.4444444444444444,\"#bd3786\"],[0.5555555555555556,\"#d8576b\"],[0.6666666666666666,\"#ed7953\"],[0.7777777777777778,\"#fb9f3a\"],[0.8888888888888888,\"#fdca26\"],[1.0,\"#f0f921\"]],\"type\":\"heatmap\"}],\"heatmapgl\":[{\"colorbar\":{\"outlinewidth\":0,\"ticks\":\"\"},\"colorscale\":[[0.0,\"#0d0887\"],[0.1111111111111111,\"#46039f\"],[0.2222222222222222,\"#7201a8\"],[0.3333333333333333,\"#9c179e\"],[0.4444444444444444,\"#bd3786\"],[0.5555555555555556,\"#d8576b\"],[0.6666666666666666,\"#ed7953\"],[0.7777777777777778,\"#fb9f3a\"],[0.8888888888888888,\"#fdca26\"],[1.0,\"#f0f921\"]],\"type\":\"heatmapgl\"}],\"histogram\":[{\"marker\":{\"pattern\":{\"fillmode\":\"overlay\",\"size\":10,\"solidity\":0.2}},\"type\":\"histogram\"}],\"histogram2d\":[{\"colorbar\":{\"outlinewidth\":0,\"ticks\":\"\"},\"colorscale\":[[0.0,\"#0d0887\"],[0.1111111111111111,\"#46039f\"],[0.2222222222222222,\"#7201a8\"],[0.3333333333333333,\"#9c179e\"],[0.4444444444444444,\"#bd3786\"],[0.5555555555555556,\"#d8576b\"],[0.6666666666666666,\"#ed7953\"],[0.7777777777777778,\"#fb9f3a\"],[0.8888888888888888,\"#fdca26\"],[1.0,\"#f0f921\"]],\"type\":\"histogram2d\"}],\"histogram2dcontour\":[{\"colorbar\":{\"outlinewidth\":0,\"ticks\":\"\"},\"colorscale\":[[0.0,\"#0d0887\"],[0.1111111111111111,\"#46039f\"],[0.2222222222222222,\"#7201a8\"],[0.3333333333333333,\"#9c179e\"],[0.4444444444444444,\"#bd3786\"],[0.5555555555555556,\"#d8576b\"],[0.6666666666666666,\"#ed7953\"],[0.7777777777777778,\"#fb9f3a\"],[0.8888888888888888,\"#fdca26\"],[1.0,\"#f0f921\"]],\"type\":\"histogram2dcontour\"}],\"mesh3d\":[{\"colorbar\":{\"outlinewidth\":0,\"ticks\":\"\"},\"type\":\"mesh3d\"}],\"parcoords\":[{\"line\":{\"colorbar\":{\"outlinewidth\":0,\"ticks\":\"\"}},\"type\":\"parcoords\"}],\"pie\":[{\"automargin\":true,\"type\":\"pie\"}],\"scatter\":[{\"marker\":{\"colorbar\":{\"outlinewidth\":0,\"ticks\":\"\"}},\"type\":\"scatter\"}],\"scatter3d\":[{\"line\":{\"colorbar\":{\"outlinewidth\":0,\"ticks\":\"\"}},\"marker\":{\"colorbar\":{\"outlinewidth\":0,\"ticks\":\"\"}},\"type\":\"scatter3d\"}],\"scattercarpet\":[{\"marker\":{\"colorbar\":{\"outlinewidth\":0,\"ticks\":\"\"}},\"type\":\"scattercarpet\"}],\"scattergeo\":[{\"marker\":{\"colorbar\":{\"outlinewidth\":0,\"ticks\":\"\"}},\"type\":\"scattergeo\"}],\"scattergl\":[{\"marker\":{\"colorbar\":{\"outlinewidth\":0,\"ticks\":\"\"}},\"type\":\"scattergl\"}],\"scattermapbox\":[{\"marker\":{\"colorbar\":{\"outlinewidth\":0,\"ticks\":\"\"}},\"type\":\"scattermapbox\"}],\"scatterpolar\":[{\"marker\":{\"colorbar\":{\"outlinewidth\":0,\"ticks\":\"\"}},\"type\":\"scatterpolar\"}],\"scatterpolargl\":[{\"marker\":{\"colorbar\":{\"outlinewidth\":0,\"ticks\":\"\"}},\"type\":\"scatterpolargl\"}],\"scatterternary\":[{\"marker\":{\"colorbar\":{\"outlinewidth\":0,\"ticks\":\"\"}},\"type\":\"scatterternary\"}],\"surface\":[{\"colorbar\":{\"outlinewidth\":0,\"ticks\":\"\"},\"colorscale\":[[0.0,\"#0d0887\"],[0.1111111111111111,\"#46039f\"],[0.2222222222222222,\"#7201a8\"],[0.3333333333333333,\"#9c179e\"],[0.4444444444444444,\"#bd3786\"],[0.5555555555555556,\"#d8576b\"],[0.6666666666666666,\"#ed7953\"],[0.7777777777777778,\"#fb9f3a\"],[0.8888888888888888,\"#fdca26\"],[1.0,\"#f0f921\"]],\"type\":\"surface\"}],\"table\":[{\"cells\":{\"fill\":{\"color\":\"#EBF0F8\"},\"line\":{\"color\":\"white\"}},\"header\":{\"fill\":{\"color\":\"#C8D4E3\"},\"line\":{\"color\":\"white\"}},\"type\":\"table\"}]},\"layout\":{\"annotationdefaults\":{\"arrowcolor\":\"#2a3f5f\",\"arrowhead\":0,\"arrowwidth\":1},\"autotypenumbers\":\"strict\",\"coloraxis\":{\"colorbar\":{\"outlinewidth\":0,\"ticks\":\"\"}},\"colorscale\":{\"diverging\":[[0,\"#8e0152\"],[0.1,\"#c51b7d\"],[0.2,\"#de77ae\"],[0.3,\"#f1b6da\"],[0.4,\"#fde0ef\"],[0.5,\"#f7f7f7\"],[0.6,\"#e6f5d0\"],[0.7,\"#b8e186\"],[0.8,\"#7fbc41\"],[0.9,\"#4d9221\"],[1,\"#276419\"]],\"sequential\":[[0.0,\"#0d0887\"],[0.1111111111111111,\"#46039f\"],[0.2222222222222222,\"#7201a8\"],[0.3333333333333333,\"#9c179e\"],[0.4444444444444444,\"#bd3786\"],[0.5555555555555556,\"#d8576b\"],[0.6666666666666666,\"#ed7953\"],[0.7777777777777778,\"#fb9f3a\"],[0.8888888888888888,\"#fdca26\"],[1.0,\"#f0f921\"]],\"sequentialminus\":[[0.0,\"#0d0887\"],[0.1111111111111111,\"#46039f\"],[0.2222222222222222,\"#7201a8\"],[0.3333333333333333,\"#9c179e\"],[0.4444444444444444,\"#bd3786\"],[0.5555555555555556,\"#d8576b\"],[0.6666666666666666,\"#ed7953\"],[0.7777777777777778,\"#fb9f3a\"],[0.8888888888888888,\"#fdca26\"],[1.0,\"#f0f921\"]]},\"colorway\":[\"#636efa\",\"#EF553B\",\"#00cc96\",\"#ab63fa\",\"#FFA15A\",\"#19d3f3\",\"#FF6692\",\"#B6E880\",\"#FF97FF\",\"#FECB52\"],\"font\":{\"color\":\"#2a3f5f\"},\"geo\":{\"bgcolor\":\"white\",\"lakecolor\":\"white\",\"landcolor\":\"#E5ECF6\",\"showlakes\":true,\"showland\":true,\"subunitcolor\":\"white\"},\"hoverlabel\":{\"align\":\"left\"},\"hovermode\":\"closest\",\"mapbox\":{\"style\":\"light\"},\"paper_bgcolor\":\"white\",\"plot_bgcolor\":\"#E5ECF6\",\"polar\":{\"angularaxis\":{\"gridcolor\":\"white\",\"linecolor\":\"white\",\"ticks\":\"\"},\"bgcolor\":\"#E5ECF6\",\"radialaxis\":{\"gridcolor\":\"white\",\"linecolor\":\"white\",\"ticks\":\"\"}},\"scene\":{\"xaxis\":{\"backgroundcolor\":\"#E5ECF6\",\"gridcolor\":\"white\",\"gridwidth\":2,\"linecolor\":\"white\",\"showbackground\":true,\"ticks\":\"\",\"zerolinecolor\":\"white\"},\"yaxis\":{\"backgroundcolor\":\"#E5ECF6\",\"gridcolor\":\"white\",\"gridwidth\":2,\"linecolor\":\"white\",\"showbackground\":true,\"ticks\":\"\",\"zerolinecolor\":\"white\"},\"zaxis\":{\"backgroundcolor\":\"#E5ECF6\",\"gridcolor\":\"white\",\"gridwidth\":2,\"linecolor\":\"white\",\"showbackground\":true,\"ticks\":\"\",\"zerolinecolor\":\"white\"}},\"shapedefaults\":{\"line\":{\"color\":\"#2a3f5f\"}},\"ternary\":{\"aaxis\":{\"gridcolor\":\"white\",\"linecolor\":\"white\",\"ticks\":\"\"},\"baxis\":{\"gridcolor\":\"white\",\"linecolor\":\"white\",\"ticks\":\"\"},\"bgcolor\":\"#E5ECF6\",\"caxis\":{\"gridcolor\":\"white\",\"linecolor\":\"white\",\"ticks\":\"\"}},\"title\":{\"x\":0.05},\"xaxis\":{\"automargin\":true,\"gridcolor\":\"white\",\"linecolor\":\"white\",\"ticks\":\"\",\"title\":{\"standoff\":15},\"zerolinecolor\":\"white\",\"zerolinewidth\":2},\"yaxis\":{\"automargin\":true,\"gridcolor\":\"white\",\"linecolor\":\"white\",\"ticks\":\"\",\"title\":{\"standoff\":15},\"zerolinecolor\":\"white\",\"zerolinewidth\":2}}},\"xaxis\":{\"anchor\":\"y\",\"domain\":[0.0,1.0],\"title\":{\"text\":\"value\"}},\"yaxis\":{\"anchor\":\"x\",\"domain\":[0.0,1.0],\"title\":{\"text\":\"variable\"}},\"legend\":{\"tracegroupgap\":0},\"title\":{\"text\":\"Boxplot da vari\\u00e1vel gamers inseridos no Xbox Game Pass\",\"x\":0.5},\"boxmode\":\"group\"},                        {\"responsive\": true}                    ).then(function(){\n",
              "                            \n",
              "var gd = document.getElementById('a99e55e2-d3b3-4dc3-b8cf-2745d712ac27');\n",
              "var x = new MutationObserver(function (mutations, observer) {{\n",
              "        var display = window.getComputedStyle(gd).display;\n",
              "        if (!display || display === 'none') {{\n",
              "            console.log([gd, 'removed!']);\n",
              "            Plotly.purge(gd);\n",
              "            observer.disconnect();\n",
              "        }}\n",
              "}});\n",
              "\n",
              "// Listen for the removal of the full notebook cells\n",
              "var notebookContainer = gd.closest('#notebook-container');\n",
              "if (notebookContainer) {{\n",
              "    x.observe(notebookContainer, {childList: true});\n",
              "}}\n",
              "\n",
              "// Listen for the clearing of the current output cell\n",
              "var outputEl = gd.closest('.output');\n",
              "if (outputEl) {{\n",
              "    x.observe(outputEl, {childList: true});\n",
              "}}\n",
              "\n",
              "                        })                };                            </script>        </div>\n",
              "</body>\n",
              "</html>"
            ]
          },
          "metadata": {}
        }
      ]
    },
    {
      "cell_type": "markdown",
      "source": [
        "Para os jogos ativos no serviço"
      ],
      "metadata": {
        "id": "h_fVws3MeJBY"
      }
    },
    {
      "cell_type": "code",
      "source": [
        "# instancia-se variável apenas com os jogadores em jogos ativos no serviço:\n",
        "\n",
        "gamers_active = gamepass.query('status == \"Active\"')['gamers']"
      ],
      "metadata": {
        "id": "wZV6zHC7eL5B"
      },
      "execution_count": 39,
      "outputs": []
    },
    {
      "cell_type": "code",
      "source": [
        "# estatísticas descritivas da variável:\n",
        "\n",
        "gamers_active.describe()"
      ],
      "metadata": {
        "colab": {
          "base_uri": "https://localhost:8080/"
        },
        "id": "8LxMzvGiemR8",
        "outputId": "fb15bd1f-b6af-4e2a-d2ca-95354d9a39be"
      },
      "execution_count": 40,
      "outputs": [
        {
          "output_type": "execute_result",
          "data": {
            "text/plain": [
              "count       392.000000\n",
              "mean      82586.073980\n",
              "std       92750.114665\n",
              "min           0.000000\n",
              "25%       18309.500000\n",
              "50%       48982.500000\n",
              "75%      112424.000000\n",
              "max      468837.000000\n",
              "Name: gamers, dtype: float64"
            ]
          },
          "metadata": {},
          "execution_count": 40
        }
      ]
    },
    {
      "cell_type": "code",
      "source": [
        "# distribuição das frequências para essa variável:\n",
        "\n",
        "ax = sns.distplot(gamers_active)\n",
        "ax.set_title('Distribuição das frequências dos jogadores em jogos ativos no Xbox Game Pass')\n",
        "ax"
      ],
      "metadata": {
        "colab": {
          "base_uri": "https://localhost:8080/",
          "height": 843
        },
        "id": "n0bejO0SfMnh",
        "outputId": "512e9f49-fe19-452f-b1ed-458555420d23"
      },
      "execution_count": 41,
      "outputs": [
        {
          "output_type": "stream",
          "name": "stderr",
          "text": [
            "/usr/local/lib/python3.7/dist-packages/seaborn/distributions.py:2619: FutureWarning:\n",
            "\n",
            "`distplot` is a deprecated function and will be removed in a future version. Please adapt your code to use either `displot` (a figure-level function with similar flexibility) or `histplot` (an axes-level function for histograms).\n",
            "\n"
          ]
        },
        {
          "output_type": "execute_result",
          "data": {
            "text/plain": [
              "<matplotlib.axes._subplots.AxesSubplot at 0x7f745e98a2d0>"
            ]
          },
          "metadata": {},
          "execution_count": 41
        },
        {
          "output_type": "display_data",
          "data": {
            "text/plain": [
              "<Figure size 1296x864 with 1 Axes>"
            ],
            "image/png": "[encoded data removed]"
          },
          "metadata": {}
        }
      ]
    },
    {
      "cell_type": "code",
      "source": [
        "# média, mediana e moda para variável:\n",
        "\n",
        "pd.DataFrame({'Moda': gamers_active.mode(), 'Média': gamers_active.mean(), 'Mediana': gamers_active.median()})"
      ],
      "metadata": {
        "colab": {
          "base_uri": "https://localhost:8080/",
          "height": 81
        },
        "id": "6U0WAL7sf_Mu",
        "outputId": "3688cd70-e41c-4039-ffc0-fb386379c334"
      },
      "execution_count": 42,
      "outputs": [
        {
          "output_type": "execute_result",
          "data": {
            "text/plain": [
              "   Moda        Média  Mediana\n",
              "0   0.0  82586.07398  48982.5"
            ],
            "text/html": [
              "\n",
              "  <div id=\"df-e23bca60-f82c-4659-ac98-5b1faca924ad\">\n",
              "    <div class=\"colab-df-container\">\n",
              "      <div>\n",
              "<style scoped>\n",
              "    .dataframe tbody tr th:only-of-type {\n",
              "        vertical-align: middle;\n",
              "    }\n",
              "\n",
              "    .dataframe tbody tr th {\n",
              "        vertical-align: top;\n",
              "    }\n",
              "\n",
              "    .dataframe thead th {\n",
              "        text-align: right;\n",
              "    }\n",
              "</style>\n",
              "<table border=\"1\" class=\"dataframe\">\n",
              "  <thead>\n",
              "    <tr style=\"text-align: right;\">\n",
              "      <th></th>\n",
              "      <th>Moda</th>\n",
              "      <th>Média</th>\n",
              "      <th>Mediana</th>\n",
              "    </tr>\n",
              "  </thead>\n",
              "  <tbody>\n",
              "    <tr>\n",
              "      <th>0</th>\n",
              "      <td>0.0</td>\n",
              "      <td>82586.07398</td>\n",
              "      <td>48982.5</td>\n",
              "    </tr>\n",
              "  </tbody>\n",
              "</table>\n",
              "</div>\n",
              "      <button class=\"colab-df-convert\" onclick=\"convertToInteractive('df-e23bca60-f82c-4659-ac98-5b1faca924ad')\"\n",
              "              title=\"Convert this dataframe to an interactive table.\"\n",
              "              style=\"display:none;\">\n",
              "        \n",
              "  <svg xmlns=\"http://www.w3.org/2000/svg\" height=\"24px\"viewBox=\"0 0 24 24\"\n",
              "       width=\"24px\">\n",
              "    <path d=\"M0 0h24v24H0V0z\" fill=\"none\"/>\n",
              "    <path d=\"M18.56 5.44l.94 2.06.94-2.06 2.06-.94-2.06-.94-.94-2.06-.94 2.06-2.06.94zm-11 1L8.5 8.5l.94-2.06 2.06-.94-2.06-.94L8.5 2.5l-.94 2.06-2.06.94zm10 10l.94 2.06.94-2.06 2.06-.94-2.06-.94-.94-2.06-.94 2.06-2.06.94z\"/><path d=\"M17.41 7.96l-1.37-1.37c-.4-.4-.92-.59-1.43-.59-.52 0-1.04.2-1.43.59L10.3 9.45l-7.72 7.72c-.78.78-.78 2.05 0 2.83L4 21.41c.39.39.9.59 1.41.59.51 0 1.02-.2 1.41-.59l7.78-7.78 2.81-2.81c.8-.78.8-2.07 0-2.86zM5.41 20L4 18.59l7.72-7.72 1.47 1.35L5.41 20z\"/>\n",
              "  </svg>\n",
              "      </button>\n",
              "      \n",
              "  <style>\n",
              "    .colab-df-container {\n",
              "      display:flex;\n",
              "      flex-wrap:wrap;\n",
              "      gap: 12px;\n",
              "    }\n",
              "\n",
              "    .colab-df-convert {\n",
              "      background-color: #E8F0FE;\n",
              "      border: none;\n",
              "      border-radius: 50%;\n",
              "      cursor: pointer;\n",
              "      display: none;\n",
              "      fill: #1967D2;\n",
              "      height: 32px;\n",
              "      padding: 0 0 0 0;\n",
              "      width: 32px;\n",
              "    }\n",
              "\n",
              "    .colab-df-convert:hover {\n",
              "      background-color: #E2EBFA;\n",
              "      box-shadow: 0px 1px 2px rgba(60, 64, 67, 0.3), 0px 1px 3px 1px rgba(60, 64, 67, 0.15);\n",
              "      fill: #174EA6;\n",
              "    }\n",
              "\n",
              "    [theme=dark] .colab-df-convert {\n",
              "      background-color: #3B4455;\n",
              "      fill: #D2E3FC;\n",
              "    }\n",
              "\n",
              "    [theme=dark] .colab-df-convert:hover {\n",
              "      background-color: #434B5C;\n",
              "      box-shadow: 0px 1px 3px 1px rgba(0, 0, 0, 0.15);\n",
              "      filter: drop-shadow(0px 1px 2px rgba(0, 0, 0, 0.3));\n",
              "      fill: #FFFFFF;\n",
              "    }\n",
              "  </style>\n",
              "\n",
              "      <script>\n",
              "        const buttonEl =\n",
              "          document.querySelector('#df-e23bca60-f82c-4659-ac98-5b1faca924ad button.colab-df-convert');\n",
              "        buttonEl.style.display =\n",
              "          google.colab.kernel.accessAllowed ? 'block' : 'none';\n",
              "\n",
              "        async function convertToInteractive(key) {\n",
              "          const element = document.querySelector('#df-e23bca60-f82c-4659-ac98-5b1faca924ad');\n",
              "          const dataTable =\n",
              "            await google.colab.kernel.invokeFunction('convertToInteractive',\n",
              "                                                     [key], {});\n",
              "          if (!dataTable) return;\n",
              "\n",
              "          const docLinkHtml = 'Like what you see? Visit the ' +\n",
              "            '<a target=\"_blank\" href=https://colab.research.google.com/notebooks/data_table.ipynb>data table notebook</a>'\n",
              "            + ' to learn more about interactive tables.';\n",
              "          element.innerHTML = '';\n",
              "          dataTable['output_type'] = 'display_data';\n",
              "          await google.colab.output.renderOutput(dataTable, element);\n",
              "          const docLink = document.createElement('div');\n",
              "          docLink.innerHTML = docLinkHtml;\n",
              "          element.appendChild(docLink);\n",
              "        }\n",
              "      </script>\n",
              "    </div>\n",
              "  </div>\n",
              "  "
            ]
          },
          "metadata": {},
          "execution_count": 42
        }
      ]
    },
    {
      "cell_type": "code",
      "source": [
        "# desvio médio, variância e desvio padrão:\n",
        "\n",
        "pd.DataFrame({'Desvio médio': gamers_active.mad(), 'Variância': gamers_active.var(), 'Desvio padrão': gamers_active.std()}, index= [0])"
      ],
      "metadata": {
        "colab": {
          "base_uri": "https://localhost:8080/",
          "height": 81
        },
        "id": "z8669DINgpJo",
        "outputId": "497205b3-e5db-44e2-c2f2-bdeb51fd4fb9"
      },
      "execution_count": 43,
      "outputs": [
        {
          "output_type": "execute_result",
          "data": {
            "text/plain": [
              "   Desvio médio     Variância  Desvio padrão\n",
              "0  67684.942433  8.602584e+09   92750.114665"
            ],
            "text/html": [
              "\n",
              "  <div id=\"df-ecdf66de-a8ef-405d-95ea-66e43d8f8bf8\">\n",
              "    <div class=\"colab-df-container\">\n",
              "      <div>\n",
              "<style scoped>\n",
              "    .dataframe tbody tr th:only-of-type {\n",
              "        vertical-align: middle;\n",
              "    }\n",
              "\n",
              "    .dataframe tbody tr th {\n",
              "        vertical-align: top;\n",
              "    }\n",
              "\n",
              "    .dataframe thead th {\n",
              "        text-align: right;\n",
              "    }\n",
              "</style>\n",
              "<table border=\"1\" class=\"dataframe\">\n",
              "  <thead>\n",
              "    <tr style=\"text-align: right;\">\n",
              "      <th></th>\n",
              "      <th>Desvio médio</th>\n",
              "      <th>Variância</th>\n",
              "      <th>Desvio padrão</th>\n",
              "    </tr>\n",
              "  </thead>\n",
              "  <tbody>\n",
              "    <tr>\n",
              "      <th>0</th>\n",
              "      <td>67684.942433</td>\n",
              "      <td>8.602584e+09</td>\n",
              "      <td>92750.114665</td>\n",
              "    </tr>\n",
              "  </tbody>\n",
              "</table>\n",
              "</div>\n",
              "      <button class=\"colab-df-convert\" onclick=\"convertToInteractive('df-ecdf66de-a8ef-405d-95ea-66e43d8f8bf8')\"\n",
              "              title=\"Convert this dataframe to an interactive table.\"\n",
              "              style=\"display:none;\">\n",
              "        \n",
              "  <svg xmlns=\"http://www.w3.org/2000/svg\" height=\"24px\"viewBox=\"0 0 24 24\"\n",
              "       width=\"24px\">\n",
              "    <path d=\"M0 0h24v24H0V0z\" fill=\"none\"/>\n",
              "    <path d=\"M18.56 5.44l.94 2.06.94-2.06 2.06-.94-2.06-.94-.94-2.06-.94 2.06-2.06.94zm-11 1L8.5 8.5l.94-2.06 2.06-.94-2.06-.94L8.5 2.5l-.94 2.06-2.06.94zm10 10l.94 2.06.94-2.06 2.06-.94-2.06-.94-.94-2.06-.94 2.06-2.06.94z\"/><path d=\"M17.41 7.96l-1.37-1.37c-.4-.4-.92-.59-1.43-.59-.52 0-1.04.2-1.43.59L10.3 9.45l-7.72 7.72c-.78.78-.78 2.05 0 2.83L4 21.41c.39.39.9.59 1.41.59.51 0 1.02-.2 1.41-.59l7.78-7.78 2.81-2.81c.8-.78.8-2.07 0-2.86zM5.41 20L4 18.59l7.72-7.72 1.47 1.35L5.41 20z\"/>\n",
              "  </svg>\n",
              "      </button>\n",
              "      \n",
              "  <style>\n",
              "    .colab-df-container {\n",
              "      display:flex;\n",
              "      flex-wrap:wrap;\n",
              "      gap: 12px;\n",
              "    }\n",
              "\n",
              "    .colab-df-convert {\n",
              "      background-color: #E8F0FE;\n",
              "      border: none;\n",
              "      border-radius: 50%;\n",
              "      cursor: pointer;\n",
              "      display: none;\n",
              "      fill: #1967D2;\n",
              "      height: 32px;\n",
              "      padding: 0 0 0 0;\n",
              "      width: 32px;\n",
              "    }\n",
              "\n",
              "    .colab-df-convert:hover {\n",
              "      background-color: #E2EBFA;\n",
              "      box-shadow: 0px 1px 2px rgba(60, 64, 67, 0.3), 0px 1px 3px 1px rgba(60, 64, 67, 0.15);\n",
              "      fill: #174EA6;\n",
              "    }\n",
              "\n",
              "    [theme=dark] .colab-df-convert {\n",
              "      background-color: #3B4455;\n",
              "      fill: #D2E3FC;\n",
              "    }\n",
              "\n",
              "    [theme=dark] .colab-df-convert:hover {\n",
              "      background-color: #434B5C;\n",
              "      box-shadow: 0px 1px 3px 1px rgba(0, 0, 0, 0.15);\n",
              "      filter: drop-shadow(0px 1px 2px rgba(0, 0, 0, 0.3));\n",
              "      fill: #FFFFFF;\n",
              "    }\n",
              "  </style>\n",
              "\n",
              "      <script>\n",
              "        const buttonEl =\n",
              "          document.querySelector('#df-ecdf66de-a8ef-405d-95ea-66e43d8f8bf8 button.colab-df-convert');\n",
              "        buttonEl.style.display =\n",
              "          google.colab.kernel.accessAllowed ? 'block' : 'none';\n",
              "\n",
              "        async function convertToInteractive(key) {\n",
              "          const element = document.querySelector('#df-ecdf66de-a8ef-405d-95ea-66e43d8f8bf8');\n",
              "          const dataTable =\n",
              "            await google.colab.kernel.invokeFunction('convertToInteractive',\n",
              "                                                     [key], {});\n",
              "          if (!dataTable) return;\n",
              "\n",
              "          const docLinkHtml = 'Like what you see? Visit the ' +\n",
              "            '<a target=\"_blank\" href=https://colab.research.google.com/notebooks/data_table.ipynb>data table notebook</a>'\n",
              "            + ' to learn more about interactive tables.';\n",
              "          element.innerHTML = '';\n",
              "          dataTable['output_type'] = 'display_data';\n",
              "          await google.colab.output.renderOutput(dataTable, element);\n",
              "          const docLink = document.createElement('div');\n",
              "          docLink.innerHTML = docLinkHtml;\n",
              "          element.appendChild(docLink);\n",
              "        }\n",
              "      </script>\n",
              "    </div>\n",
              "  </div>\n",
              "  "
            ]
          },
          "metadata": {},
          "execution_count": 43
        }
      ]
    },
    {
      "cell_type": "code",
      "source": [
        "# percentis:\n",
        "\n",
        "pd.DataFrame(gamers_active.quantile([p/100 for p in range (1, 100)]))"
      ],
      "metadata": {
        "colab": {
          "base_uri": "https://localhost:8080/",
          "height": 424
        },
        "id": "slRq8e-RhMXi",
        "outputId": "a93aafc6-0c5b-4c2c-b146-273ad7e071aa"
      },
      "execution_count": 44,
      "outputs": [
        {
          "output_type": "execute_result",
          "data": {
            "text/plain": [
              "         gamers\n",
              "0.01       0.00\n",
              "0.02       0.00\n",
              "0.03     169.06\n",
              "0.04    1836.52\n",
              "0.05    2393.30\n",
              "...         ...\n",
              "0.95  296475.15\n",
              "0.96  329540.92\n",
              "0.97  362860.17\n",
              "0.98  390667.42\n",
              "0.99  409814.88\n",
              "\n",
              "[99 rows x 1 columns]"
            ],
            "text/html": [
              "\n",
              "  <div id=\"df-737c032a-6c43-4370-aea8-2d1e4bbd80d3\">\n",
              "    <div class=\"colab-df-container\">\n",
              "      <div>\n",
              "<style scoped>\n",
              "    .dataframe tbody tr th:only-of-type {\n",
              "        vertical-align: middle;\n",
              "    }\n",
              "\n",
              "    .dataframe tbody tr th {\n",
              "        vertical-align: top;\n",
              "    }\n",
              "\n",
              "    .dataframe thead th {\n",
              "        text-align: right;\n",
              "    }\n",
              "</style>\n",
              "<table border=\"1\" class=\"dataframe\">\n",
              "  <thead>\n",
              "    <tr style=\"text-align: right;\">\n",
              "      <th></th>\n",
              "      <th>gamers</th>\n",
              "    </tr>\n",
              "  </thead>\n",
              "  <tbody>\n",
              "    <tr>\n",
              "      <th>0.01</th>\n",
              "      <td>0.00</td>\n",
              "    </tr>\n",
              "    <tr>\n",
              "      <th>0.02</th>\n",
              "      <td>0.00</td>\n",
              "    </tr>\n",
              "    <tr>\n",
              "      <th>0.03</th>\n",
              "      <td>169.06</td>\n",
              "    </tr>\n",
              "    <tr>\n",
              "      <th>0.04</th>\n",
              "      <td>1836.52</td>\n",
              "    </tr>\n",
              "    <tr>\n",
              "      <th>0.05</th>\n",
              "      <td>2393.30</td>\n",
              "    </tr>\n",
              "    <tr>\n",
              "      <th>...</th>\n",
              "      <td>...</td>\n",
              "    </tr>\n",
              "    <tr>\n",
              "      <th>0.95</th>\n",
              "      <td>296475.15</td>\n",
              "    </tr>\n",
              "    <tr>\n",
              "      <th>0.96</th>\n",
              "      <td>329540.92</td>\n",
              "    </tr>\n",
              "    <tr>\n",
              "      <th>0.97</th>\n",
              "      <td>362860.17</td>\n",
              "    </tr>\n",
              "    <tr>\n",
              "      <th>0.98</th>\n",
              "      <td>390667.42</td>\n",
              "    </tr>\n",
              "    <tr>\n",
              "      <th>0.99</th>\n",
              "      <td>409814.88</td>\n",
              "    </tr>\n",
              "  </tbody>\n",
              "</table>\n",
              "<p>99 rows × 1 columns</p>\n",
              "</div>\n",
              "      <button class=\"colab-df-convert\" onclick=\"convertToInteractive('df-737c032a-6c43-4370-aea8-2d1e4bbd80d3')\"\n",
              "              title=\"Convert this dataframe to an interactive table.\"\n",
              "              style=\"display:none;\">\n",
              "        \n",
              "  <svg xmlns=\"http://www.w3.org/2000/svg\" height=\"24px\"viewBox=\"0 0 24 24\"\n",
              "       width=\"24px\">\n",
              "    <path d=\"M0 0h24v24H0V0z\" fill=\"none\"/>\n",
              "    <path d=\"M18.56 5.44l.94 2.06.94-2.06 2.06-.94-2.06-.94-.94-2.06-.94 2.06-2.06.94zm-11 1L8.5 8.5l.94-2.06 2.06-.94-2.06-.94L8.5 2.5l-.94 2.06-2.06.94zm10 10l.94 2.06.94-2.06 2.06-.94-2.06-.94-.94-2.06-.94 2.06-2.06.94z\"/><path d=\"M17.41 7.96l-1.37-1.37c-.4-.4-.92-.59-1.43-.59-.52 0-1.04.2-1.43.59L10.3 9.45l-7.72 7.72c-.78.78-.78 2.05 0 2.83L4 21.41c.39.39.9.59 1.41.59.51 0 1.02-.2 1.41-.59l7.78-7.78 2.81-2.81c.8-.78.8-2.07 0-2.86zM5.41 20L4 18.59l7.72-7.72 1.47 1.35L5.41 20z\"/>\n",
              "  </svg>\n",
              "      </button>\n",
              "      \n",
              "  <style>\n",
              "    .colab-df-container {\n",
              "      display:flex;\n",
              "      flex-wrap:wrap;\n",
              "      gap: 12px;\n",
              "    }\n",
              "\n",
              "    .colab-df-convert {\n",
              "      background-color: #E8F0FE;\n",
              "      border: none;\n",
              "      border-radius: 50%;\n",
              "      cursor: pointer;\n",
              "      display: none;\n",
              "      fill: #1967D2;\n",
              "      height: 32px;\n",
              "      padding: 0 0 0 0;\n",
              "      width: 32px;\n",
              "    }\n",
              "\n",
              "    .colab-df-convert:hover {\n",
              "      background-color: #E2EBFA;\n",
              "      box-shadow: 0px 1px 2px rgba(60, 64, 67, 0.3), 0px 1px 3px 1px rgba(60, 64, 67, 0.15);\n",
              "      fill: #174EA6;\n",
              "    }\n",
              "\n",
              "    [theme=dark] .colab-df-convert {\n",
              "      background-color: #3B4455;\n",
              "      fill: #D2E3FC;\n",
              "    }\n",
              "\n",
              "    [theme=dark] .colab-df-convert:hover {\n",
              "      background-color: #434B5C;\n",
              "      box-shadow: 0px 1px 3px 1px rgba(0, 0, 0, 0.15);\n",
              "      filter: drop-shadow(0px 1px 2px rgba(0, 0, 0, 0.3));\n",
              "      fill: #FFFFFF;\n",
              "    }\n",
              "  </style>\n",
              "\n",
              "      <script>\n",
              "        const buttonEl =\n",
              "          document.querySelector('#df-737c032a-6c43-4370-aea8-2d1e4bbd80d3 button.colab-df-convert');\n",
              "        buttonEl.style.display =\n",
              "          google.colab.kernel.accessAllowed ? 'block' : 'none';\n",
              "\n",
              "        async function convertToInteractive(key) {\n",
              "          const element = document.querySelector('#df-737c032a-6c43-4370-aea8-2d1e4bbd80d3');\n",
              "          const dataTable =\n",
              "            await google.colab.kernel.invokeFunction('convertToInteractive',\n",
              "                                                     [key], {});\n",
              "          if (!dataTable) return;\n",
              "\n",
              "          const docLinkHtml = 'Like what you see? Visit the ' +\n",
              "            '<a target=\"_blank\" href=https://colab.research.google.com/notebooks/data_table.ipynb>data table notebook</a>'\n",
              "            + ' to learn more about interactive tables.';\n",
              "          element.innerHTML = '';\n",
              "          dataTable['output_type'] = 'display_data';\n",
              "          await google.colab.output.renderOutput(dataTable, element);\n",
              "          const docLink = document.createElement('div');\n",
              "          docLink.innerHTML = docLinkHtml;\n",
              "          element.appendChild(docLink);\n",
              "        }\n",
              "      </script>\n",
              "    </div>\n",
              "  </div>\n",
              "  "
            ]
          },
          "metadata": {},
          "execution_count": 44
        }
      ]
    },
    {
      "cell_type": "code",
      "source": [
        "# decentis:\n",
        "\n",
        "pd.DataFrame(gamers_active.quantile([p/10 for p in range(1, 10)]))"
      ],
      "metadata": {
        "colab": {
          "base_uri": "https://localhost:8080/",
          "height": 332
        },
        "id": "LuQwV9mJhXr2",
        "outputId": "76188ed6-47e4-40b9-931f-0c161c12c607"
      },
      "execution_count": 45,
      "outputs": [
        {
          "output_type": "execute_result",
          "data": {
            "text/plain": [
              "       gamers\n",
              "0.1    6195.4\n",
              "0.2   13869.8\n",
              "0.3   24422.4\n",
              "0.4   35161.0\n",
              "0.5   48982.5\n",
              "0.6   69937.8\n",
              "0.7   96271.5\n",
              "0.8  127244.4\n",
              "0.9  207621.2"
            ],
            "text/html": [
              "\n",
              "  <div id=\"df-28111fed-2284-4c65-ad22-624b99e7107a\">\n",
              "    <div class=\"colab-df-container\">\n",
              "      <div>\n",
              "<style scoped>\n",
              "    .dataframe tbody tr th:only-of-type {\n",
              "        vertical-align: middle;\n",
              "    }\n",
              "\n",
              "    .dataframe tbody tr th {\n",
              "        vertical-align: top;\n",
              "    }\n",
              "\n",
              "    .dataframe thead th {\n",
              "        text-align: right;\n",
              "    }\n",
              "</style>\n",
              "<table border=\"1\" class=\"dataframe\">\n",
              "  <thead>\n",
              "    <tr style=\"text-align: right;\">\n",
              "      <th></th>\n",
              "      <th>gamers</th>\n",
              "    </tr>\n",
              "  </thead>\n",
              "  <tbody>\n",
              "    <tr>\n",
              "      <th>0.1</th>\n",
              "      <td>6195.4</td>\n",
              "    </tr>\n",
              "    <tr>\n",
              "      <th>0.2</th>\n",
              "      <td>13869.8</td>\n",
              "    </tr>\n",
              "    <tr>\n",
              "      <th>0.3</th>\n",
              "      <td>24422.4</td>\n",
              "    </tr>\n",
              "    <tr>\n",
              "      <th>0.4</th>\n",
              "      <td>35161.0</td>\n",
              "    </tr>\n",
              "    <tr>\n",
              "      <th>0.5</th>\n",
              "      <td>48982.5</td>\n",
              "    </tr>\n",
              "    <tr>\n",
              "      <th>0.6</th>\n",
              "      <td>69937.8</td>\n",
              "    </tr>\n",
              "    <tr>\n",
              "      <th>0.7</th>\n",
              "      <td>96271.5</td>\n",
              "    </tr>\n",
              "    <tr>\n",
              "      <th>0.8</th>\n",
              "      <td>127244.4</td>\n",
              "    </tr>\n",
              "    <tr>\n",
              "      <th>0.9</th>\n",
              "      <td>207621.2</td>\n",
              "    </tr>\n",
              "  </tbody>\n",
              "</table>\n",
              "</div>\n",
              "      <button class=\"colab-df-convert\" onclick=\"convertToInteractive('df-28111fed-2284-4c65-ad22-624b99e7107a')\"\n",
              "              title=\"Convert this dataframe to an interactive table.\"\n",
              "              style=\"display:none;\">\n",
              "        \n",
              "  <svg xmlns=\"http://www.w3.org/2000/svg\" height=\"24px\"viewBox=\"0 0 24 24\"\n",
              "       width=\"24px\">\n",
              "    <path d=\"M0 0h24v24H0V0z\" fill=\"none\"/>\n",
              "    <path d=\"M18.56 5.44l.94 2.06.94-2.06 2.06-.94-2.06-.94-.94-2.06-.94 2.06-2.06.94zm-11 1L8.5 8.5l.94-2.06 2.06-.94-2.06-.94L8.5 2.5l-.94 2.06-2.06.94zm10 10l.94 2.06.94-2.06 2.06-.94-2.06-.94-.94-2.06-.94 2.06-2.06.94z\"/><path d=\"M17.41 7.96l-1.37-1.37c-.4-.4-.92-.59-1.43-.59-.52 0-1.04.2-1.43.59L10.3 9.45l-7.72 7.72c-.78.78-.78 2.05 0 2.83L4 21.41c.39.39.9.59 1.41.59.51 0 1.02-.2 1.41-.59l7.78-7.78 2.81-2.81c.8-.78.8-2.07 0-2.86zM5.41 20L4 18.59l7.72-7.72 1.47 1.35L5.41 20z\"/>\n",
              "  </svg>\n",
              "      </button>\n",
              "      \n",
              "  <style>\n",
              "    .colab-df-container {\n",
              "      display:flex;\n",
              "      flex-wrap:wrap;\n",
              "      gap: 12px;\n",
              "    }\n",
              "\n",
              "    .colab-df-convert {\n",
              "      background-color: #E8F0FE;\n",
              "      border: none;\n",
              "      border-radius: 50%;\n",
              "      cursor: pointer;\n",
              "      display: none;\n",
              "      fill: #1967D2;\n",
              "      height: 32px;\n",
              "      padding: 0 0 0 0;\n",
              "      width: 32px;\n",
              "    }\n",
              "\n",
              "    .colab-df-convert:hover {\n",
              "      background-color: #E2EBFA;\n",
              "      box-shadow: 0px 1px 2px rgba(60, 64, 67, 0.3), 0px 1px 3px 1px rgba(60, 64, 67, 0.15);\n",
              "      fill: #174EA6;\n",
              "    }\n",
              "\n",
              "    [theme=dark] .colab-df-convert {\n",
              "      background-color: #3B4455;\n",
              "      fill: #D2E3FC;\n",
              "    }\n",
              "\n",
              "    [theme=dark] .colab-df-convert:hover {\n",
              "      background-color: #434B5C;\n",
              "      box-shadow: 0px 1px 3px 1px rgba(0, 0, 0, 0.15);\n",
              "      filter: drop-shadow(0px 1px 2px rgba(0, 0, 0, 0.3));\n",
              "      fill: #FFFFFF;\n",
              "    }\n",
              "  </style>\n",
              "\n",
              "      <script>\n",
              "        const buttonEl =\n",
              "          document.querySelector('#df-28111fed-2284-4c65-ad22-624b99e7107a button.colab-df-convert');\n",
              "        buttonEl.style.display =\n",
              "          google.colab.kernel.accessAllowed ? 'block' : 'none';\n",
              "\n",
              "        async function convertToInteractive(key) {\n",
              "          const element = document.querySelector('#df-28111fed-2284-4c65-ad22-624b99e7107a');\n",
              "          const dataTable =\n",
              "            await google.colab.kernel.invokeFunction('convertToInteractive',\n",
              "                                                     [key], {});\n",
              "          if (!dataTable) return;\n",
              "\n",
              "          const docLinkHtml = 'Like what you see? Visit the ' +\n",
              "            '<a target=\"_blank\" href=https://colab.research.google.com/notebooks/data_table.ipynb>data table notebook</a>'\n",
              "            + ' to learn more about interactive tables.';\n",
              "          element.innerHTML = '';\n",
              "          dataTable['output_type'] = 'display_data';\n",
              "          await google.colab.output.renderOutput(dataTable, element);\n",
              "          const docLink = document.createElement('div');\n",
              "          docLink.innerHTML = docLinkHtml;\n",
              "          element.appendChild(docLink);\n",
              "        }\n",
              "      </script>\n",
              "    </div>\n",
              "  </div>\n",
              "  "
            ]
          },
          "metadata": {},
          "execution_count": 45
        }
      ]
    },
    {
      "cell_type": "code",
      "source": [
        "# quartis:\n",
        "\n",
        "gamers_active.describe()[['25%', '50%', '75%']]"
      ],
      "metadata": {
        "colab": {
          "base_uri": "https://localhost:8080/"
        },
        "id": "SAVgeqc_gU9z",
        "outputId": "cbdd1e02-d409-47f4-c3f7-f07200bde56c"
      },
      "execution_count": 53,
      "outputs": [
        {
          "output_type": "execute_result",
          "data": {
            "text/plain": [
              "25%     18309.5\n",
              "50%     48982.5\n",
              "75%    112424.0\n",
              "Name: gamers, dtype: float64"
            ]
          },
          "metadata": {},
          "execution_count": 53
        }
      ]
    },
    {
      "cell_type": "code",
      "source": [
        "# plotando gráfico boxplot:\n",
        "\n",
        "fig = px.box(gamers_active, orientation= 'h', title= 'Boxplot da variável gamers em jogos ativos do Xbox Game Pass')\n",
        "fig.update_layout(title= {'x': 0.5})"
      ],
      "metadata": {
        "colab": {
          "base_uri": "https://localhost:8080/",
          "height": 542
        },
        "id": "gaKOV-BTgvFo",
        "outputId": "00b2ca8b-009e-4e33-f3c3-3628c3952204"
      },
      "execution_count": 85,
      "outputs": [
        {
          "output_type": "display_data",
          "data": {
            "text/html": [
              "<html>\n",
              "<head><meta charset=\"utf-8\" /></head>\n",
              "<body>\n",
              "    <div>            <script src=\"https://cdnjs.cloudflare.com/ajax/libs/mathjax/2.7.5/MathJax.js?config=TeX-AMS-MML_SVG\"></script><script type=\"text/javascript\">if (window.MathJax) {MathJax.Hub.Config({SVG: {font: \"STIX-Web\"}});}</script>                <script type=\"text/javascript\">window.PlotlyConfig = {MathJaxConfig: 'local'};</script>\n",
              "        <script src=\"https://cdn.plot.ly/plotly-2.8.3.min.js\"></script>                <div id=\"874ba684-da1b-4d76-8029-d32bd93ab6d3\" class=\"plotly-graph-div\" style=\"height:525px; width:100%;\"></div>            <script type=\"text/javascript\">                                    window.PLOTLYENV=window.PLOTLYENV || {};                                    if (document.getElementById(\"874ba684-da1b-4d76-8029-d32bd93ab6d3\")) {                    Plotly.newPlot(                        \"874ba684-da1b-4d76-8029-d32bd93ab6d3\",                        [{\"alignmentgroup\":\"True\",\"hovertemplate\":\"value=%{x}<br>variable=%{y}<extra></extra>\",\"legendgroup\":\"\",\"marker\":{\"color\":\"#636efa\"},\"name\":\"\",\"notched\":false,\"offsetgroup\":\"\",\"orientation\":\"h\",\"showlegend\":false,\"x\":[2.0,null,0.0,0.0,0.0,5986.0,null,null,8825.0,0.0,0.0,null,null,26586.0,0.0,null,null,0.0,null,4.0,null,7.0,2414.0,null,3145.0,39755.0,207865.0,null,5091.0,29778.0,null,null,27014.0,null,6121.0,null,null,13094.0,32147.0,null,9810.0,70031.0,18608.0,null,null,null,24354.0,null,null,null,40939.0,18191.0,45688.0,25336.0,null,null,27801.0,null,null,210384.0,2646.0,102981.0,null,33838.0,158416.0,15943.0,33164.0,36385.0,null,15947.0,116071.0,14693.0,29972.0,26689.0,null,87435.0,35079.0,18349.0,238474.0,66360.0,43307.0,28618.0,null,null,2368.0,null,217813.0,33488.0,null,14130.0,null,null,7396.0,44713.0,44713.0,3232.0,3232.0,62901.0,3488.0,9619.0,15689.0,null,null,48415.0,null,null,10991.0,null,19624.0,9561.0,5745.0,54840.0,4973.0,90666.0,12582.0,35288.0,12183.0,36988.0,31347.0,null,27366.0,1231.0,7396.0,43179.0,37224.0,23096.0,null,51628.0,3577.0,11542.0,2435.0,12738.0,null,1942.0,90416.0,null,124294.0,14628.0,23281.0,22242.0,null,16283.0,null,18081.0,null,5901.0,null,55033.0,21296.0,24789.0,10747.0,32297.0,null,11115.0,27375.0,51379.0,null,null,17220.0,107614.0,11366.0,null,42790.0,null,32673.0,22728.0,92540.0,36890.0,36517.0,6433.0,35050.0,26477.0,11228.0,66908.0,17719.0,102009.0,39667.0,23765.0,22049.0,69485.0,2070.0,75957.0,36873.0,392699.0,48599.0,19876.0,null,21143.0,50226.0,44348.0,40342.0,57020.0,84535.0,13843.0,16646.0,70648.0,1649.0,36065.0,null,57828.0,40154.0,229.0,86190.0,460.0,9284.0,13614.0,2108.0,null,329218.0,84432.0,56008.0,97035.0,null,4896.0,112339.0,null,8037.0,205427.0,9245.0,145899.0,43448.0,11542.0,57139.0,48673.0,26781.0,13977.0,14009.0,null,104412.0,54482.0,6850.0,null,8780.0,null,null,null,null,null,68314.0,23100.0,40642.0,null,76091.0,118656.0,null,null,74218.0,149504.0,6169.0,null,null,2476.0,null,null,25818.0,null,null,null,49694.0,43310.0,169716.0,16169.0,62251.0,159352.0,56996.0,null,null,40905.0,35405.0,null,24750.0,83781.0,176844.0,14728.0,45781.0,10008.0,29203.0,null,null,null,null,null,83068.0,null,null,2742.0,null,null,null,null,82265.0,58426.0,70849.0,12963.0,72149.0,null,11986.0,60958.0,39795.0,null,69943.0,92430.0,23173.0,75332.0,null,109061.0,12344.0,7245.0,9324.0,114863.0,171329.0,96702.0,24582.0,4234.0,222531.0,27390.0,null,56397.0,23266.0,367219.0,121421.0,88748.0,142623.0,115465.0,null,93955.0,null,null,null,164815.0,278241.0,null,24099.0,55480.0,null,null,54539.0,null,118872.0,174193.0,0.0,153212.0,127883.0,26415.0,111589.0,null,null,90779.0,21872.0,91803.0,42619.0,87751.0,69930.0,null,null,null,129205.0,219341.0,104566.0,34799.0,31096.0,null,null,null,null,27002.0,169123.0,169189.0,null,null,156898.0,null,24895.0,null,33172.0,215000.0,153950.0,null,null,280126.0,null,null,123311.0,64258.0,57225.0,34633.0,104602.0,104602.0,77450.0,35284.0,38835.0,23883.0,37567.0,null,null,115415.0,142874.0,306093.0,15323.0,49292.0,76529.0,105173.0,76945.0,null,19520.0,76137.0,29017.0,433635.0,57459.0,188428.0,null,null,139804.0,251255.0,172378.0,null,115761.0,12845.0,100659.0,54693.0,99939.0,14507.0,61817.0,28807.0,110834.0,null,4644.0,60018.0,null,8199.0,29316.0,null,136472.0,null,445289.0,null,null,112679.0,162578.0,244230.0,76088.0,11504.0,null,122941.0,null,90923.0,14302.0,null,null,46752.0,11466.0,8315.0,8222.0,null,66161.0,131193.0,46385.0,58833.0,265086.0,8194.0,0.0,185924.0,103767.0,264571.0,33133.0,null,60321.0,26658.0,null,null,65358.0,95262.0,151469.0,87281.0,110963.0,379123.0,76801.0,374852.0,151563.0,124547.0,null,null,111040.0,null,162903.0,166783.0,390421.0,216766.0,468837.0,201431.0,null,145548.0,92009.0,330115.0,null,229684.0,260497.0,null,102728.0,9368.0,288606.0,116469.0,95267.0,134147.0,361248.0,114144.0,121574.0,137510.0,87273.0,314933.0,275905.0,78440.0,50288.0,null,306385.0,null,114963.0,119087.0,48511.0,38755.0,330552.0,null,418671.0,408939.0,394473.0,224661.0,236261.0,391790.0,156625.0,56426.0,57261.0,124690.0,170036.0,178589.0,73017.0,62493.0,337459.0,142972.0,145278.0,44626.0],\"x0\":\" \",\"xaxis\":\"x\",\"y\":[\"gamers\",\"gamers\",\"gamers\",\"gamers\",\"gamers\",\"gamers\",\"gamers\",\"gamers\",\"gamers\",\"gamers\",\"gamers\",\"gamers\",\"gamers\",\"gamers\",\"gamers\",\"gamers\",\"gamers\",\"gamers\",\"gamers\",\"gamers\",\"gamers\",\"gamers\",\"gamers\",\"gamers\",\"gamers\",\"gamers\",\"gamers\",\"gamers\",\"gamers\",\"gamers\",\"gamers\",\"gamers\",\"gamers\",\"gamers\",\"gamers\",\"gamers\",\"gamers\",\"gamers\",\"gamers\",\"gamers\",\"gamers\",\"gamers\",\"gamers\",\"gamers\",\"gamers\",\"gamers\",\"gamers\",\"gamers\",\"gamers\",\"gamers\",\"gamers\",\"gamers\",\"gamers\",\"gamers\",\"gamers\",\"gamers\",\"gamers\",\"gamers\",\"gamers\",\"gamers\",\"gamers\",\"gamers\",\"gamers\",\"gamers\",\"gamers\",\"gamers\",\"gamers\",\"gamers\",\"gamers\",\"gamers\",\"gamers\",\"gamers\",\"gamers\",\"gamers\",\"gamers\",\"gamers\",\"gamers\",\"gamers\",\"gamers\",\"gamers\",\"gamers\",\"gamers\",\"gamers\",\"gamers\",\"gamers\",\"gamers\",\"gamers\",\"gamers\",\"gamers\",\"gamers\",\"gamers\",\"gamers\",\"gamers\",\"gamers\",\"gamers\",\"gamers\",\"gamers\",\"gamers\",\"gamers\",\"gamers\",\"gamers\",\"gamers\",\"gamers\",\"gamers\",\"gamers\",\"gamers\",\"gamers\",\"gamers\",\"gamers\",\"gamers\",\"gamers\",\"gamers\",\"gamers\",\"gamers\",\"gamers\",\"gamers\",\"gamers\",\"gamers\",\"gamers\",\"gamers\",\"gamers\",\"gamers\",\"gamers\",\"gamers\",\"gamers\",\"gamers\",\"gamers\",\"gamers\",\"gamers\",\"gamers\",\"gamers\",\"gamers\",\"gamers\",\"gamers\",\"gamers\",\"gamers\",\"gamers\",\"gamers\",\"gamers\",\"gamers\",\"gamers\",\"gamers\",\"gamers\",\"gamers\",\"gamers\",\"gamers\",\"gamers\",\"gamers\",\"gamers\",\"gamers\",\"gamers\",\"gamers\",\"gamers\",\"gamers\",\"gamers\",\"gamers\",\"gamers\",\"gamers\",\"gamers\",\"gamers\",\"gamers\",\"gamers\",\"gamers\",\"gamers\",\"gamers\",\"gamers\",\"gamers\",\"gamers\",\"gamers\",\"gamers\",\"gamers\",\"gamers\",\"gamers\",\"gamers\",\"gamers\",\"gamers\",\"gamers\",\"gamers\",\"gamers\",\"gamers\",\"gamers\",\"gamers\",\"gamers\",\"gamers\",\"gamers\",\"gamers\",\"gamers\",\"gamers\",\"gamers\",\"gamers\",\"gamers\",\"gamers\",\"gamers\",\"gamers\",\"gamers\",\"gamers\",\"gamers\",\"gamers\",\"gamers\",\"gamers\",\"gamers\",\"gamers\",\"gamers\",\"gamers\",\"gamers\",\"gamers\",\"gamers\",\"gamers\",\"gamers\",\"gamers\",\"gamers\",\"gamers\",\"gamers\",\"gamers\",\"gamers\",\"gamers\",\"gamers\",\"gamers\",\"gamers\",\"gamers\",\"gamers\",\"gamers\",\"gamers\",\"gamers\",\"gamers\",\"gamers\",\"gamers\",\"gamers\",\"gamers\",\"gamers\",\"gamers\",\"gamers\",\"gamers\",\"gamers\",\"gamers\",\"gamers\",\"gamers\",\"gamers\",\"gamers\",\"gamers\",\"gamers\",\"gamers\",\"gamers\",\"gamers\",\"gamers\",\"gamers\",\"gamers\",\"gamers\",\"gamers\",\"gamers\",\"gamers\",\"gamers\",\"gamers\",\"gamers\",\"gamers\",\"gamers\",\"gamers\",\"gamers\",\"gamers\",\"gamers\",\"gamers\",\"gamers\",\"gamers\",\"gamers\",\"gamers\",\"gamers\",\"gamers\",\"gamers\",\"gamers\",\"gamers\",\"gamers\",\"gamers\",\"gamers\",\"gamers\",\"gamers\",\"gamers\",\"gamers\",\"gamers\",\"gamers\",\"gamers\",\"gamers\",\"gamers\",\"gamers\",\"gamers\",\"gamers\",\"gamers\",\"gamers\",\"gamers\",\"gamers\",\"gamers\",\"gamers\",\"gamers\",\"gamers\",\"gamers\",\"gamers\",\"gamers\",\"gamers\",\"gamers\",\"gamers\",\"gamers\",\"gamers\",\"gamers\",\"gamers\",\"gamers\",\"gamers\",\"gamers\",\"gamers\",\"gamers\",\"gamers\",\"gamers\",\"gamers\",\"gamers\",\"gamers\",\"gamers\",\"gamers\",\"gamers\",\"gamers\",\"gamers\",\"gamers\",\"gamers\",\"gamers\",\"gamers\",\"gamers\",\"gamers\",\"gamers\",\"gamers\",\"gamers\",\"gamers\",\"gamers\",\"gamers\",\"gamers\",\"gamers\",\"gamers\",\"gamers\",\"gamers\",\"gamers\",\"gamers\",\"gamers\",\"gamers\",\"gamers\",\"gamers\",\"gamers\",\"gamers\",\"gamers\",\"gamers\",\"gamers\",\"gamers\",\"gamers\",\"gamers\",\"gamers\",\"gamers\",\"gamers\",\"gamers\",\"gamers\",\"gamers\",\"gamers\",\"gamers\",\"gamers\",\"gamers\",\"gamers\",\"gamers\",\"gamers\",\"gamers\",\"gamers\",\"gamers\",\"gamers\",\"gamers\",\"gamers\",\"gamers\",\"gamers\",\"gamers\",\"gamers\",\"gamers\",\"gamers\",\"gamers\",\"gamers\",\"gamers\",\"gamers\",\"gamers\",\"gamers\",\"gamers\",\"gamers\",\"gamers\",\"gamers\",\"gamers\",\"gamers\",\"gamers\",\"gamers\",\"gamers\",\"gamers\",\"gamers\",\"gamers\",\"gamers\",\"gamers\",\"gamers\",\"gamers\",\"gamers\",\"gamers\",\"gamers\",\"gamers\",\"gamers\",\"gamers\",\"gamers\",\"gamers\",\"gamers\",\"gamers\",\"gamers\",\"gamers\",\"gamers\",\"gamers\",\"gamers\",\"gamers\",\"gamers\",\"gamers\",\"gamers\",\"gamers\",\"gamers\",\"gamers\",\"gamers\",\"gamers\",\"gamers\",\"gamers\",\"gamers\",\"gamers\",\"gamers\",\"gamers\",\"gamers\",\"gamers\",\"gamers\",\"gamers\",\"gamers\",\"gamers\",\"gamers\",\"gamers\",\"gamers\",\"gamers\",\"gamers\",\"gamers\",\"gamers\",\"gamers\",\"gamers\",\"gamers\",\"gamers\",\"gamers\",\"gamers\",\"gamers\",\"gamers\",\"gamers\",\"gamers\",\"gamers\",\"gamers\",\"gamers\",\"gamers\",\"gamers\",\"gamers\",\"gamers\",\"gamers\",\"gamers\",\"gamers\",\"gamers\",\"gamers\",\"gamers\",\"gamers\",\"gamers\",\"gamers\",\"gamers\",\"gamers\",\"gamers\",\"gamers\",\"gamers\",\"gamers\",\"gamers\",\"gamers\",\"gamers\",\"gamers\",\"gamers\",\"gamers\",\"gamers\",\"gamers\",\"gamers\",\"gamers\",\"gamers\",\"gamers\",\"gamers\",\"gamers\",\"gamers\",\"gamers\",\"gamers\",\"gamers\",\"gamers\",\"gamers\",\"gamers\",\"gamers\",\"gamers\",\"gamers\",\"gamers\",\"gamers\",\"gamers\",\"gamers\",\"gamers\",\"gamers\",\"gamers\",\"gamers\",\"gamers\",\"gamers\",\"gamers\",\"gamers\",\"gamers\",\"gamers\",\"gamers\",\"gamers\",\"gamers\",\"gamers\",\"gamers\",\"gamers\",\"gamers\",\"gamers\",\"gamers\",\"gamers\",\"gamers\",\"gamers\",\"gamers\",\"gamers\",\"gamers\",\"gamers\",\"gamers\",\"gamers\",\"gamers\",\"gamers\",\"gamers\",\"gamers\",\"gamers\",\"gamers\",\"gamers\",\"gamers\",\"gamers\",\"gamers\",\"gamers\",\"gamers\",\"gamers\"],\"y0\":\" \",\"yaxis\":\"y\",\"type\":\"box\"}],                        {\"template\":{\"data\":{\"bar\":[{\"error_x\":{\"color\":\"#2a3f5f\"},\"error_y\":{\"color\":\"#2a3f5f\"},\"marker\":{\"line\":{\"color\":\"#E5ECF6\",\"width\":0.5},\"pattern\":{\"fillmode\":\"overlay\",\"size\":10,\"solidity\":0.2}},\"type\":\"bar\"}],\"barpolar\":[{\"marker\":{\"line\":{\"color\":\"#E5ECF6\",\"width\":0.5},\"pattern\":{\"fillmode\":\"overlay\",\"size\":10,\"solidity\":0.2}},\"type\":\"barpolar\"}],\"carpet\":[{\"aaxis\":{\"endlinecolor\":\"#2a3f5f\",\"gridcolor\":\"white\",\"linecolor\":\"white\",\"minorgridcolor\":\"white\",\"startlinecolor\":\"#2a3f5f\"},\"baxis\":{\"endlinecolor\":\"#2a3f5f\",\"gridcolor\":\"white\",\"linecolor\":\"white\",\"minorgridcolor\":\"white\",\"startlinecolor\":\"#2a3f5f\"},\"type\":\"carpet\"}],\"choropleth\":[{\"colorbar\":{\"outlinewidth\":0,\"ticks\":\"\"},\"type\":\"choropleth\"}],\"contour\":[{\"colorbar\":{\"outlinewidth\":0,\"ticks\":\"\"},\"colorscale\":[[0.0,\"#0d0887\"],[0.1111111111111111,\"#46039f\"],[0.2222222222222222,\"#7201a8\"],[0.3333333333333333,\"#9c179e\"],[0.4444444444444444,\"#bd3786\"],[0.5555555555555556,\"#d8576b\"],[0.6666666666666666,\"#ed7953\"],[0.7777777777777778,\"#fb9f3a\"],[0.8888888888888888,\"#fdca26\"],[1.0,\"#f0f921\"]],\"type\":\"contour\"}],\"contourcarpet\":[{\"colorbar\":{\"outlinewidth\":0,\"ticks\":\"\"},\"type\":\"contourcarpet\"}],\"heatmap\":[{\"colorbar\":{\"outlinewidth\":0,\"ticks\":\"\"},\"colorscale\":[[0.0,\"#0d0887\"],[0.1111111111111111,\"#46039f\"],[0.2222222222222222,\"#7201a8\"],[0.3333333333333333,\"#9c179e\"],[0.4444444444444444,\"#bd3786\"],[0.5555555555555556,\"#d8576b\"],[0.6666666666666666,\"#ed7953\"],[0.7777777777777778,\"#fb9f3a\"],[0.8888888888888888,\"#fdca26\"],[1.0,\"#f0f921\"]],\"type\":\"heatmap\"}],\"heatmapgl\":[{\"colorbar\":{\"outlinewidth\":0,\"ticks\":\"\"},\"colorscale\":[[0.0,\"#0d0887\"],[0.1111111111111111,\"#46039f\"],[0.2222222222222222,\"#7201a8\"],[0.3333333333333333,\"#9c179e\"],[0.4444444444444444,\"#bd3786\"],[0.5555555555555556,\"#d8576b\"],[0.6666666666666666,\"#ed7953\"],[0.7777777777777778,\"#fb9f3a\"],[0.8888888888888888,\"#fdca26\"],[1.0,\"#f0f921\"]],\"type\":\"heatmapgl\"}],\"histogram\":[{\"marker\":{\"pattern\":{\"fillmode\":\"overlay\",\"size\":10,\"solidity\":0.2}},\"type\":\"histogram\"}],\"histogram2d\":[{\"colorbar\":{\"outlinewidth\":0,\"ticks\":\"\"},\"colorscale\":[[0.0,\"#0d0887\"],[0.1111111111111111,\"#46039f\"],[0.2222222222222222,\"#7201a8\"],[0.3333333333333333,\"#9c179e\"],[0.4444444444444444,\"#bd3786\"],[0.5555555555555556,\"#d8576b\"],[0.6666666666666666,\"#ed7953\"],[0.7777777777777778,\"#fb9f3a\"],[0.8888888888888888,\"#fdca26\"],[1.0,\"#f0f921\"]],\"type\":\"histogram2d\"}],\"histogram2dcontour\":[{\"colorbar\":{\"outlinewidth\":0,\"ticks\":\"\"},\"colorscale\":[[0.0,\"#0d0887\"],[0.1111111111111111,\"#46039f\"],[0.2222222222222222,\"#7201a8\"],[0.3333333333333333,\"#9c179e\"],[0.4444444444444444,\"#bd3786\"],[0.5555555555555556,\"#d8576b\"],[0.6666666666666666,\"#ed7953\"],[0.7777777777777778,\"#fb9f3a\"],[0.8888888888888888,\"#fdca26\"],[1.0,\"#f0f921\"]],\"type\":\"histogram2dcontour\"}],\"mesh3d\":[{\"colorbar\":{\"outlinewidth\":0,\"ticks\":\"\"},\"type\":\"mesh3d\"}],\"parcoords\":[{\"line\":{\"colorbar\":{\"outlinewidth\":0,\"ticks\":\"\"}},\"type\":\"parcoords\"}],\"pie\":[{\"automargin\":true,\"type\":\"pie\"}],\"scatter\":[{\"marker\":{\"colorbar\":{\"outlinewidth\":0,\"ticks\":\"\"}},\"type\":\"scatter\"}],\"scatter3d\":[{\"line\":{\"colorbar\":{\"outlinewidth\":0,\"ticks\":\"\"}},\"marker\":{\"colorbar\":{\"outlinewidth\":0,\"ticks\":\"\"}},\"type\":\"scatter3d\"}],\"scattercarpet\":[{\"marker\":{\"colorbar\":{\"outlinewidth\":0,\"ticks\":\"\"}},\"type\":\"scattercarpet\"}],\"scattergeo\":[{\"marker\":{\"colorbar\":{\"outlinewidth\":0,\"ticks\":\"\"}},\"type\":\"scattergeo\"}],\"scattergl\":[{\"marker\":{\"colorbar\":{\"outlinewidth\":0,\"ticks\":\"\"}},\"type\":\"scattergl\"}],\"scattermapbox\":[{\"marker\":{\"colorbar\":{\"outlinewidth\":0,\"ticks\":\"\"}},\"type\":\"scattermapbox\"}],\"scatterpolar\":[{\"marker\":{\"colorbar\":{\"outlinewidth\":0,\"ticks\":\"\"}},\"type\":\"scatterpolar\"}],\"scatterpolargl\":[{\"marker\":{\"colorbar\":{\"outlinewidth\":0,\"ticks\":\"\"}},\"type\":\"scatterpolargl\"}],\"scatterternary\":[{\"marker\":{\"colorbar\":{\"outlinewidth\":0,\"ticks\":\"\"}},\"type\":\"scatterternary\"}],\"surface\":[{\"colorbar\":{\"outlinewidth\":0,\"ticks\":\"\"},\"colorscale\":[[0.0,\"#0d0887\"],[0.1111111111111111,\"#46039f\"],[0.2222222222222222,\"#7201a8\"],[0.3333333333333333,\"#9c179e\"],[0.4444444444444444,\"#bd3786\"],[0.5555555555555556,\"#d8576b\"],[0.6666666666666666,\"#ed7953\"],[0.7777777777777778,\"#fb9f3a\"],[0.8888888888888888,\"#fdca26\"],[1.0,\"#f0f921\"]],\"type\":\"surface\"}],\"table\":[{\"cells\":{\"fill\":{\"color\":\"#EBF0F8\"},\"line\":{\"color\":\"white\"}},\"header\":{\"fill\":{\"color\":\"#C8D4E3\"},\"line\":{\"color\":\"white\"}},\"type\":\"table\"}]},\"layout\":{\"annotationdefaults\":{\"arrowcolor\":\"#2a3f5f\",\"arrowhead\":0,\"arrowwidth\":1},\"autotypenumbers\":\"strict\",\"coloraxis\":{\"colorbar\":{\"outlinewidth\":0,\"ticks\":\"\"}},\"colorscale\":{\"diverging\":[[0,\"#8e0152\"],[0.1,\"#c51b7d\"],[0.2,\"#de77ae\"],[0.3,\"#f1b6da\"],[0.4,\"#fde0ef\"],[0.5,\"#f7f7f7\"],[0.6,\"#e6f5d0\"],[0.7,\"#b8e186\"],[0.8,\"#7fbc41\"],[0.9,\"#4d9221\"],[1,\"#276419\"]],\"sequential\":[[0.0,\"#0d0887\"],[0.1111111111111111,\"#46039f\"],[0.2222222222222222,\"#7201a8\"],[0.3333333333333333,\"#9c179e\"],[0.4444444444444444,\"#bd3786\"],[0.5555555555555556,\"#d8576b\"],[0.6666666666666666,\"#ed7953\"],[0.7777777777777778,\"#fb9f3a\"],[0.8888888888888888,\"#fdca26\"],[1.0,\"#f0f921\"]],\"sequentialminus\":[[0.0,\"#0d0887\"],[0.1111111111111111,\"#46039f\"],[0.2222222222222222,\"#7201a8\"],[0.3333333333333333,\"#9c179e\"],[0.4444444444444444,\"#bd3786\"],[0.5555555555555556,\"#d8576b\"],[0.6666666666666666,\"#ed7953\"],[0.7777777777777778,\"#fb9f3a\"],[0.8888888888888888,\"#fdca26\"],[1.0,\"#f0f921\"]]},\"colorway\":[\"#636efa\",\"#EF553B\",\"#00cc96\",\"#ab63fa\",\"#FFA15A\",\"#19d3f3\",\"#FF6692\",\"#B6E880\",\"#FF97FF\",\"#FECB52\"],\"font\":{\"color\":\"#2a3f5f\"},\"geo\":{\"bgcolor\":\"white\",\"lakecolor\":\"white\",\"landcolor\":\"#E5ECF6\",\"showlakes\":true,\"showland\":true,\"subunitcolor\":\"white\"},\"hoverlabel\":{\"align\":\"left\"},\"hovermode\":\"closest\",\"mapbox\":{\"style\":\"light\"},\"paper_bgcolor\":\"white\",\"plot_bgcolor\":\"#E5ECF6\",\"polar\":{\"angularaxis\":{\"gridcolor\":\"white\",\"linecolor\":\"white\",\"ticks\":\"\"},\"bgcolor\":\"#E5ECF6\",\"radialaxis\":{\"gridcolor\":\"white\",\"linecolor\":\"white\",\"ticks\":\"\"}},\"scene\":{\"xaxis\":{\"backgroundcolor\":\"#E5ECF6\",\"gridcolor\":\"white\",\"gridwidth\":2,\"linecolor\":\"white\",\"showbackground\":true,\"ticks\":\"\",\"zerolinecolor\":\"white\"},\"yaxis\":{\"backgroundcolor\":\"#E5ECF6\",\"gridcolor\":\"white\",\"gridwidth\":2,\"linecolor\":\"white\",\"showbackground\":true,\"ticks\":\"\",\"zerolinecolor\":\"white\"},\"zaxis\":{\"backgroundcolor\":\"#E5ECF6\",\"gridcolor\":\"white\",\"gridwidth\":2,\"linecolor\":\"white\",\"showbackground\":true,\"ticks\":\"\",\"zerolinecolor\":\"white\"}},\"shapedefaults\":{\"line\":{\"color\":\"#2a3f5f\"}},\"ternary\":{\"aaxis\":{\"gridcolor\":\"white\",\"linecolor\":\"white\",\"ticks\":\"\"},\"baxis\":{\"gridcolor\":\"white\",\"linecolor\":\"white\",\"ticks\":\"\"},\"bgcolor\":\"#E5ECF6\",\"caxis\":{\"gridcolor\":\"white\",\"linecolor\":\"white\",\"ticks\":\"\"}},\"title\":{\"x\":0.05},\"xaxis\":{\"automargin\":true,\"gridcolor\":\"white\",\"linecolor\":\"white\",\"ticks\":\"\",\"title\":{\"standoff\":15},\"zerolinecolor\":\"white\",\"zerolinewidth\":2},\"yaxis\":{\"automargin\":true,\"gridcolor\":\"white\",\"linecolor\":\"white\",\"ticks\":\"\",\"title\":{\"standoff\":15},\"zerolinecolor\":\"white\",\"zerolinewidth\":2}}},\"xaxis\":{\"anchor\":\"y\",\"domain\":[0.0,1.0],\"title\":{\"text\":\"value\"}},\"yaxis\":{\"anchor\":\"x\",\"domain\":[0.0,1.0],\"title\":{\"text\":\"variable\"}},\"legend\":{\"tracegroupgap\":0},\"title\":{\"text\":\"Boxplot da vari\\u00e1vel gamers em jogos ativos do Xbox Game Pass\",\"x\":0.5},\"boxmode\":\"group\"},                        {\"responsive\": true}                    ).then(function(){\n",
              "                            \n",
              "var gd = document.getElementById('874ba684-da1b-4d76-8029-d32bd93ab6d3');\n",
              "var x = new MutationObserver(function (mutations, observer) {{\n",
              "        var display = window.getComputedStyle(gd).display;\n",
              "        if (!display || display === 'none') {{\n",
              "            console.log([gd, 'removed!']);\n",
              "            Plotly.purge(gd);\n",
              "            observer.disconnect();\n",
              "        }}\n",
              "}});\n",
              "\n",
              "// Listen for the removal of the full notebook cells\n",
              "var notebookContainer = gd.closest('#notebook-container');\n",
              "if (notebookContainer) {{\n",
              "    x.observe(notebookContainer, {childList: true});\n",
              "}}\n",
              "\n",
              "// Listen for the clearing of the current output cell\n",
              "var outputEl = gd.closest('.output');\n",
              "if (outputEl) {{\n",
              "    x.observe(outputEl, {childList: true});\n",
              "}}\n",
              "\n",
              "                        })                };                            </script>        </div>\n",
              "</body>\n",
              "</html>"
            ]
          },
          "metadata": {}
        }
      ]
    },
    {
      "cell_type": "markdown",
      "source": [
        "Para os jogos removidos do serviço"
      ],
      "metadata": {
        "id": "Eqwhiv-sg_J7"
      }
    },
    {
      "cell_type": "code",
      "source": [
        "# estatísticas descritivas:\n",
        "\n",
        "gamers_removed = gamepass.query('status == \"Removed\"')['gamers']\n",
        "gamers_removed.describe()"
      ],
      "metadata": {
        "colab": {
          "base_uri": "https://localhost:8080/"
        },
        "id": "3kfvKa8Eg9ib",
        "outputId": "249523d5-84e7-40b1-ea66-971096e31af4"
      },
      "execution_count": 55,
      "outputs": [
        {
          "output_type": "execute_result",
          "data": {
            "text/plain": [
              "count       524.000000\n",
              "mean      50225.935115\n",
              "std       54626.174418\n",
              "min           0.000000\n",
              "25%       13941.000000\n",
              "50%       32854.500000\n",
              "75%       66255.750000\n",
              "max      387583.000000\n",
              "Name: gamers, dtype: float64"
            ]
          },
          "metadata": {},
          "execution_count": 55
        }
      ]
    },
    {
      "cell_type": "code",
      "source": [
        "# distribuição de frequência para variável:\n",
        "\n",
        "ax = sns.distplot(gamers_removed)\n"
      ],
      "metadata": {
        "colab": {
          "base_uri": "https://localhost:8080/",
          "height": 820
        },
        "id": "LyjZa6ZMiHQF",
        "outputId": "aa354617-9586-4989-ce19-108e780544d0"
      },
      "execution_count": 63,
      "outputs": [
        {
          "output_type": "stream",
          "name": "stderr",
          "text": [
            "/usr/local/lib/python3.7/dist-packages/seaborn/distributions.py:2619: FutureWarning:\n",
            "\n",
            "`distplot` is a deprecated function and will be removed in a future version. Please adapt your code to use either `displot` (a figure-level function with similar flexibility) or `histplot` (an axes-level function for histograms).\n",
            "\n"
          ]
        },
        {
          "output_type": "display_data",
          "data": {
            "text/plain": [
              "<Figure size 1296x864 with 1 Axes>"
            ],
            "image/png": "[encoded data removed]"
          },
          "metadata": {}
        }
      ]
    },
    {
      "cell_type": "code",
      "source": [
        "# média, mediana e moda:\n",
        "\n",
        "pd.DataFrame({'Moda': gamers_removed.mode(), 'Média': gamers_removed.mean(), 'Mediana': gamers_removed.median()})"
      ],
      "metadata": {
        "colab": {
          "base_uri": "https://localhost:8080/",
          "height": 81
        },
        "id": "eZO_5T_SkHCs",
        "outputId": "058c2c41-037d-4690-be9d-d0636ce00515"
      },
      "execution_count": 66,
      "outputs": [
        {
          "output_type": "execute_result",
          "data": {
            "text/plain": [
              "      Moda         Média  Mediana\n",
              "0  44670.0  50225.935115  32854.5"
            ],
            "text/html": [
              "\n",
              "  <div id=\"df-bd78797b-7e85-4200-a8ac-dcdad0941ed2\">\n",
              "    <div class=\"colab-df-container\">\n",
              "      <div>\n",
              "<style scoped>\n",
              "    .dataframe tbody tr th:only-of-type {\n",
              "        vertical-align: middle;\n",
              "    }\n",
              "\n",
              "    .dataframe tbody tr th {\n",
              "        vertical-align: top;\n",
              "    }\n",
              "\n",
              "    .dataframe thead th {\n",
              "        text-align: right;\n",
              "    }\n",
              "</style>\n",
              "<table border=\"1\" class=\"dataframe\">\n",
              "  <thead>\n",
              "    <tr style=\"text-align: right;\">\n",
              "      <th></th>\n",
              "      <th>Moda</th>\n",
              "      <th>Média</th>\n",
              "      <th>Mediana</th>\n",
              "    </tr>\n",
              "  </thead>\n",
              "  <tbody>\n",
              "    <tr>\n",
              "      <th>0</th>\n",
              "      <td>44670.0</td>\n",
              "      <td>50225.935115</td>\n",
              "      <td>32854.5</td>\n",
              "    </tr>\n",
              "  </tbody>\n",
              "</table>\n",
              "</div>\n",
              "      <button class=\"colab-df-convert\" onclick=\"convertToInteractive('df-bd78797b-7e85-4200-a8ac-dcdad0941ed2')\"\n",
              "              title=\"Convert this dataframe to an interactive table.\"\n",
              "              style=\"display:none;\">\n",
              "        \n",
              "  <svg xmlns=\"http://www.w3.org/2000/svg\" height=\"24px\"viewBox=\"0 0 24 24\"\n",
              "       width=\"24px\">\n",
              "    <path d=\"M0 0h24v24H0V0z\" fill=\"none\"/>\n",
              "    <path d=\"M18.56 5.44l.94 2.06.94-2.06 2.06-.94-2.06-.94-.94-2.06-.94 2.06-2.06.94zm-11 1L8.5 8.5l.94-2.06 2.06-.94-2.06-.94L8.5 2.5l-.94 2.06-2.06.94zm10 10l.94 2.06.94-2.06 2.06-.94-2.06-.94-.94-2.06-.94 2.06-2.06.94z\"/><path d=\"M17.41 7.96l-1.37-1.37c-.4-.4-.92-.59-1.43-.59-.52 0-1.04.2-1.43.59L10.3 9.45l-7.72 7.72c-.78.78-.78 2.05 0 2.83L4 21.41c.39.39.9.59 1.41.59.51 0 1.02-.2 1.41-.59l7.78-7.78 2.81-2.81c.8-.78.8-2.07 0-2.86zM5.41 20L4 18.59l7.72-7.72 1.47 1.35L5.41 20z\"/>\n",
              "  </svg>\n",
              "      </button>\n",
              "      \n",
              "  <style>\n",
              "    .colab-df-container {\n",
              "      display:flex;\n",
              "      flex-wrap:wrap;\n",
              "      gap: 12px;\n",
              "    }\n",
              "\n",
              "    .colab-df-convert {\n",
              "      background-color: #E8F0FE;\n",
              "      border: none;\n",
              "      border-radius: 50%;\n",
              "      cursor: pointer;\n",
              "      display: none;\n",
              "      fill: #1967D2;\n",
              "      height: 32px;\n",
              "      padding: 0 0 0 0;\n",
              "      width: 32px;\n",
              "    }\n",
              "\n",
              "    .colab-df-convert:hover {\n",
              "      background-color: #E2EBFA;\n",
              "      box-shadow: 0px 1px 2px rgba(60, 64, 67, 0.3), 0px 1px 3px 1px rgba(60, 64, 67, 0.15);\n",
              "      fill: #174EA6;\n",
              "    }\n",
              "\n",
              "    [theme=dark] .colab-df-convert {\n",
              "      background-color: #3B4455;\n",
              "      fill: #D2E3FC;\n",
              "    }\n",
              "\n",
              "    [theme=dark] .colab-df-convert:hover {\n",
              "      background-color: #434B5C;\n",
              "      box-shadow: 0px 1px 3px 1px rgba(0, 0, 0, 0.15);\n",
              "      filter: drop-shadow(0px 1px 2px rgba(0, 0, 0, 0.3));\n",
              "      fill: #FFFFFF;\n",
              "    }\n",
              "  </style>\n",
              "\n",
              "      <script>\n",
              "        const buttonEl =\n",
              "          document.querySelector('#df-bd78797b-7e85-4200-a8ac-dcdad0941ed2 button.colab-df-convert');\n",
              "        buttonEl.style.display =\n",
              "          google.colab.kernel.accessAllowed ? 'block' : 'none';\n",
              "\n",
              "        async function convertToInteractive(key) {\n",
              "          const element = document.querySelector('#df-bd78797b-7e85-4200-a8ac-dcdad0941ed2');\n",
              "          const dataTable =\n",
              "            await google.colab.kernel.invokeFunction('convertToInteractive',\n",
              "                                                     [key], {});\n",
              "          if (!dataTable) return;\n",
              "\n",
              "          const docLinkHtml = 'Like what you see? Visit the ' +\n",
              "            '<a target=\"_blank\" href=https://colab.research.google.com/notebooks/data_table.ipynb>data table notebook</a>'\n",
              "            + ' to learn more about interactive tables.';\n",
              "          element.innerHTML = '';\n",
              "          dataTable['output_type'] = 'display_data';\n",
              "          await google.colab.output.renderOutput(dataTable, element);\n",
              "          const docLink = document.createElement('div');\n",
              "          docLink.innerHTML = docLinkHtml;\n",
              "          element.appendChild(docLink);\n",
              "        }\n",
              "      </script>\n",
              "    </div>\n",
              "  </div>\n",
              "  "
            ]
          },
          "metadata": {},
          "execution_count": 66
        }
      ]
    },
    {
      "cell_type": "code",
      "source": [
        "# desvio médio, variância e desvio padrão:\n",
        "\n",
        "pd.DataFrame({'Desvio médio': gamers_removed.mad(),\n",
        "              'Variância': gamers_removed.var(),\n",
        "              'Desvio padrão': gamers_removed.std()},\n",
        "             index= [0])"
      ],
      "metadata": {
        "colab": {
          "base_uri": "https://localhost:8080/",
          "height": 81
        },
        "id": "-U5cwFBjlCi4",
        "outputId": "c6a26f58-38a8-4376-8763-ccab7ad73641"
      },
      "execution_count": 68,
      "outputs": [
        {
          "output_type": "execute_result",
          "data": {
            "text/plain": [
              "   Desvio médio     Variância  Desvio padrão\n",
              "0  38420.611547  2.984019e+09   54626.174418"
            ],
            "text/html": [
              "\n",
              "  <div id=\"df-fc6c93f7-3f24-43e3-a773-138c8a63890f\">\n",
              "    <div class=\"colab-df-container\">\n",
              "      <div>\n",
              "<style scoped>\n",
              "    .dataframe tbody tr th:only-of-type {\n",
              "        vertical-align: middle;\n",
              "    }\n",
              "\n",
              "    .dataframe tbody tr th {\n",
              "        vertical-align: top;\n",
              "    }\n",
              "\n",
              "    .dataframe thead th {\n",
              "        text-align: right;\n",
              "    }\n",
              "</style>\n",
              "<table border=\"1\" class=\"dataframe\">\n",
              "  <thead>\n",
              "    <tr style=\"text-align: right;\">\n",
              "      <th></th>\n",
              "      <th>Desvio médio</th>\n",
              "      <th>Variância</th>\n",
              "      <th>Desvio padrão</th>\n",
              "    </tr>\n",
              "  </thead>\n",
              "  <tbody>\n",
              "    <tr>\n",
              "      <th>0</th>\n",
              "      <td>38420.611547</td>\n",
              "      <td>2.984019e+09</td>\n",
              "      <td>54626.174418</td>\n",
              "    </tr>\n",
              "  </tbody>\n",
              "</table>\n",
              "</div>\n",
              "      <button class=\"colab-df-convert\" onclick=\"convertToInteractive('df-fc6c93f7-3f24-43e3-a773-138c8a63890f')\"\n",
              "              title=\"Convert this dataframe to an interactive table.\"\n",
              "              style=\"display:none;\">\n",
              "        \n",
              "  <svg xmlns=\"http://www.w3.org/2000/svg\" height=\"24px\"viewBox=\"0 0 24 24\"\n",
              "       width=\"24px\">\n",
              "    <path d=\"M0 0h24v24H0V0z\" fill=\"none\"/>\n",
              "    <path d=\"M18.56 5.44l.94 2.06.94-2.06 2.06-.94-2.06-.94-.94-2.06-.94 2.06-2.06.94zm-11 1L8.5 8.5l.94-2.06 2.06-.94-2.06-.94L8.5 2.5l-.94 2.06-2.06.94zm10 10l.94 2.06.94-2.06 2.06-.94-2.06-.94-.94-2.06-.94 2.06-2.06.94z\"/><path d=\"M17.41 7.96l-1.37-1.37c-.4-.4-.92-.59-1.43-.59-.52 0-1.04.2-1.43.59L10.3 9.45l-7.72 7.72c-.78.78-.78 2.05 0 2.83L4 21.41c.39.39.9.59 1.41.59.51 0 1.02-.2 1.41-.59l7.78-7.78 2.81-2.81c.8-.78.8-2.07 0-2.86zM5.41 20L4 18.59l7.72-7.72 1.47 1.35L5.41 20z\"/>\n",
              "  </svg>\n",
              "      </button>\n",
              "      \n",
              "  <style>\n",
              "    .colab-df-container {\n",
              "      display:flex;\n",
              "      flex-wrap:wrap;\n",
              "      gap: 12px;\n",
              "    }\n",
              "\n",
              "    .colab-df-convert {\n",
              "      background-color: #E8F0FE;\n",
              "      border: none;\n",
              "      border-radius: 50%;\n",
              "      cursor: pointer;\n",
              "      display: none;\n",
              "      fill: #1967D2;\n",
              "      height: 32px;\n",
              "      padding: 0 0 0 0;\n",
              "      width: 32px;\n",
              "    }\n",
              "\n",
              "    .colab-df-convert:hover {\n",
              "      background-color: #E2EBFA;\n",
              "      box-shadow: 0px 1px 2px rgba(60, 64, 67, 0.3), 0px 1px 3px 1px rgba(60, 64, 67, 0.15);\n",
              "      fill: #174EA6;\n",
              "    }\n",
              "\n",
              "    [theme=dark] .colab-df-convert {\n",
              "      background-color: #3B4455;\n",
              "      fill: #D2E3FC;\n",
              "    }\n",
              "\n",
              "    [theme=dark] .colab-df-convert:hover {\n",
              "      background-color: #434B5C;\n",
              "      box-shadow: 0px 1px 3px 1px rgba(0, 0, 0, 0.15);\n",
              "      filter: drop-shadow(0px 1px 2px rgba(0, 0, 0, 0.3));\n",
              "      fill: #FFFFFF;\n",
              "    }\n",
              "  </style>\n",
              "\n",
              "      <script>\n",
              "        const buttonEl =\n",
              "          document.querySelector('#df-fc6c93f7-3f24-43e3-a773-138c8a63890f button.colab-df-convert');\n",
              "        buttonEl.style.display =\n",
              "          google.colab.kernel.accessAllowed ? 'block' : 'none';\n",
              "\n",
              "        async function convertToInteractive(key) {\n",
              "          const element = document.querySelector('#df-fc6c93f7-3f24-43e3-a773-138c8a63890f');\n",
              "          const dataTable =\n",
              "            await google.colab.kernel.invokeFunction('convertToInteractive',\n",
              "                                                     [key], {});\n",
              "          if (!dataTable) return;\n",
              "\n",
              "          const docLinkHtml = 'Like what you see? Visit the ' +\n",
              "            '<a target=\"_blank\" href=https://colab.research.google.com/notebooks/data_table.ipynb>data table notebook</a>'\n",
              "            + ' to learn more about interactive tables.';\n",
              "          element.innerHTML = '';\n",
              "          dataTable['output_type'] = 'display_data';\n",
              "          await google.colab.output.renderOutput(dataTable, element);\n",
              "          const docLink = document.createElement('div');\n",
              "          docLink.innerHTML = docLinkHtml;\n",
              "          element.appendChild(docLink);\n",
              "        }\n",
              "      </script>\n",
              "    </div>\n",
              "  </div>\n",
              "  "
            ]
          },
          "metadata": {},
          "execution_count": 68
        }
      ]
    },
    {
      "cell_type": "code",
      "source": [
        "# plotando gráfico boxplot:\n",
        "\n",
        "fig = px.box(gamers_removed, orientation= 'h', title= 'Boxplot da variável gamers em jogos removidos do Xbox Game Pass')\n",
        "fig.update_layout(title= {'x': 0.5})"
      ],
      "metadata": {
        "colab": {
          "base_uri": "https://localhost:8080/",
          "height": 542
        },
        "id": "q6_baVIVlk0L",
        "outputId": "7143c059-efe8-4355-8e99-6bb6bc528f69"
      },
      "execution_count": 83,
      "outputs": [
        {
          "output_type": "display_data",
          "data": {
            "text/html": [
              "<html>\n",
              "<head><meta charset=\"utf-8\" /></head>\n",
              "<body>\n",
              "    <div>            <script src=\"https://cdnjs.cloudflare.com/ajax/libs/mathjax/2.7.5/MathJax.js?config=TeX-AMS-MML_SVG\"></script><script type=\"text/javascript\">if (window.MathJax) {MathJax.Hub.Config({SVG: {font: \"STIX-Web\"}});}</script>                <script type=\"text/javascript\">window.PlotlyConfig = {MathJaxConfig: 'local'};</script>\n",
              "        <script src=\"https://cdn.plot.ly/plotly-2.8.3.min.js\"></script>                <div id=\"64694753-bb92-4d06-972e-1dcaa8f4fe9b\" class=\"plotly-graph-div\" style=\"height:525px; width:100%;\"></div>            <script type=\"text/javascript\">                                    window.PLOTLYENV=window.PLOTLYENV || {};                                    if (document.getElementById(\"64694753-bb92-4d06-972e-1dcaa8f4fe9b\")) {                    Plotly.newPlot(                        \"64694753-bb92-4d06-972e-1dcaa8f4fe9b\",                        [{\"alignmentgroup\":\"True\",\"hovertemplate\":\"value=%{x}<br>variable=%{y}<extra></extra>\",\"legendgroup\":\"\",\"marker\":{\"color\":\"#636efa\"},\"name\":\"\",\"notched\":false,\"offsetgroup\":\"\",\"orientation\":\"h\",\"showlegend\":false,\"x\":[null,11882.0,7569.0,28893.0,13100.0,8867.0,null,113502.0,18565.0,2036.0,9341.0,11480.0,10960.0,27303.0,81968.0,51597.0,31230.0,45076.0,12284.0,10240.0,5106.0,5956.0,3056.0,52093.0,22940.0,154707.0,19663.0,15682.0,52709.0,57653.0,20042.0,42428.0,52910.0,139061.0,5406.0,115948.0,1583.0,null,null,null,null,null,null,28952.0,1432.0,null,71321.0,92029.0,68925.0,null,74467.0,153971.0,96528.0,20749.0,15218.0,19496.0,29238.0,null,20489.0,38376.0,24901.0,46211.0,null,5201.0,2121.0,15589.0,96560.0,42024.0,95684.0,32087.0,137399.0,8971.0,32956.0,null,29672.0,39665.0,131844.0,20842.0,null,55989.0,73169.0,22062.0,23329.0,190590.0,null,8525.0,17810.0,26929.0,93688.0,103042.0,78013.0,36916.0,4811.0,118178.0,51043.0,73169.0,null,68875.0,null,28376.0,69849.0,35017.0,null,0.0,3239.0,46475.0,13420.0,105980.0,34372.0,null,6342.0,28515.0,9006.0,110426.0,9249.0,21871.0,21408.0,35244.0,91030.0,53938.0,130052.0,4455.0,310.0,13818.0,30049.0,4178.0,242.0,null,9059.0,null,2211.0,2413.0,5556.0,null,21149.0,27675.0,null,null,36356.0,18133.0,7895.0,19301.0,14046.0,71864.0,38317.0,191882.0,null,null,67563.0,33698.0,null,90103.0,12366.0,22708.0,48871.0,33223.0,12040.0,24005.0,36429.0,28368.0,71249.0,62348.0,null,27299.0,11138.0,54125.0,32495.0,16315.0,9840.0,21858.0,22558.0,null,null,43437.0,4712.0,null,21047.0,17865.0,null,18520.0,8473.0,null,11736.0,64688.0,21347.0,176248.0,null,null,62297.0,1564.0,18907.0,null,null,null,null,56425.0,15255.0,54872.0,null,13128.0,20086.0,24729.0,102707.0,19199.0,428.0,null,null,null,53535.0,51238.0,37586.0,73287.0,32655.0,null,54338.0,18279.0,19800.0,null,39305.0,6644.0,31283.0,51817.0,null,null,14386.0,86763.0,96815.0,null,52471.0,null,33881.0,30923.0,228926.0,64369.0,28044.0,22890.0,84739.0,17790.0,31942.0,25061.0,null,null,null,50035.0,58303.0,null,null,5392.0,null,209030.0,24570.0,null,127807.0,138297.0,137571.0,111825.0,43997.0,null,91146.0,null,2578.0,81567.0,6922.0,28273.0,23550.0,79237.0,87555.0,71943.0,61862.0,47522.0,23106.0,43012.0,61012.0,15596.0,28546.0,39399.0,1669.0,85067.0,null,40744.0,129.0,10175.0,null,null,null,null,null,null,null,null,null,36633.0,46922.0,14051.0,null,26899.0,195086.0,56584.0,25210.0,null,2347.0,44925.0,122876.0,null,14928.0,null,83309.0,null,160451.0,15306.0,12249.0,34661.0,null,82722.0,32753.0,null,null,37267.0,267151.0,null,101041.0,13648.0,9675.0,39917.0,6908.0,106660.0,37606.0,87943.0,39455.0,36181.0,316.0,34946.0,23287.0,null,40744.0,99609.0,51961.0,9025.0,null,20912.0,null,112508.0,28682.0,null,13997.0,1367.0,47035.0,36235.0,23281.0,72631.0,125089.0,null,null,25683.0,387583.0,75578.0,61556.0,null,null,45608.0,24272.0,55820.0,69476.0,58869.0,112167.0,4113.0,255.0,56386.0,12280.0,2215.0,29944.0,24697.0,126223.0,174373.0,4559.0,null,null,20971.0,105891.0,4801.0,null,19830.0,48875.0,2261.0,15714.0,670.0,29656.0,38217.0,35474.0,null,45864.0,null,null,21435.0,38980.0,null,80116.0,93605.0,null,null,54680.0,null,null,32979.0,17582.0,2754.0,237638.0,null,5910.0,13726.0,8612.0,30563.0,64968.0,33289.0,23174.0,33685.0,null,121443.0,71789.0,5144.0,87596.0,null,null,230428.0,159775.0,null,8857.0,null,20112.0,8947.0,27179.0,null,11056.0,13714.0,71945.0,63787.0,130559.0,89770.0,36251.0,126351.0,null,16075.0,158538.0,298516.0,42356.0,0.0,152651.0,123849.0,273822.0,224229.0,13335.0,153491.0,54169.0,47159.0,41232.0,15117.0,13962.0,null,null,71880.0,48710.0,25604.0,29219.0,42474.0,46570.0,null,36868.0,65820.0,42057.0,44854.0,96301.0,80355.0,null,null,12124.0,97896.0,null,91058.0,44907.0,null,null,93290.0,54385.0,12747.0,34196.0,10633.0,40315.0,41419.0,168538.0,6892.0,60377.0,101228.0,34440.0,12592.0,18519.0,32424.0,44670.0,44670.0,44670.0,44670.0,60015.0,51208.0,120998.0,13319.0,73618.0,null,23112.0,209307.0,22154.0,89632.0,21846.0,94641.0,45353.0,23222.0,76530.0,17258.0,26859.0,170776.0,null,14035.0,281082.0,165941.0,12532.0,43556.0,104175.0,null,12307.0,55398.0,96162.0,11435.0,31055.0,28527.0,67870.0,48113.0,12317.0,11388.0,114280.0,76165.0,40137.0,null,4440.0,3482.0,13125.0,16777.0,18618.0,46943.0,45051.0,31892.0,21132.0,11985.0,64667.0,28353.0,74377.0,35888.0,37640.0,5629.0,62301.0,12671.0,13878.0,null,216305.0,2180.0,7322.0,21835.0,null,7366.0,24470.0,148219.0,159218.0,30505.0,null,21080.0,37774.0,6771.0,6279.0,34447.0,18557.0,null,34752.0,6849.0,87436.0,20221.0,33742.0,null,75986.0,8444.0,11244.0,24957.0,5394.0,12547.0,11244.0,44713.0,44713.0,3232.0,3232.0,26720.0,94337.0,138281.0,6582.0,114339.0,8175.0,6615.0,9017.0,33575.0,75102.0,238630.0,185888.0,266746.0,21554.0,3747.0,20879.0,338649.0,9748.0,1037.0,1037.0,147360.0,80277.0,29095.0,16620.0,null,124570.0,6313.0,85911.0,48626.0,32547.0,4285.0,390.0,7503.0,10929.0,23603.0,15112.0,46761.0,37347.0,8568.0,12495.0,14269.0,34561.0,0.0,4696.0,2814.0,31353.0,26402.0,42580.0,106798.0,62908.0,12608.0],\"x0\":\" \",\"xaxis\":\"x\",\"y\":[\"gamers\",\"gamers\",\"gamers\",\"gamers\",\"gamers\",\"gamers\",\"gamers\",\"gamers\",\"gamers\",\"gamers\",\"gamers\",\"gamers\",\"gamers\",\"gamers\",\"gamers\",\"gamers\",\"gamers\",\"gamers\",\"gamers\",\"gamers\",\"gamers\",\"gamers\",\"gamers\",\"gamers\",\"gamers\",\"gamers\",\"gamers\",\"gamers\",\"gamers\",\"gamers\",\"gamers\",\"gamers\",\"gamers\",\"gamers\",\"gamers\",\"gamers\",\"gamers\",\"gamers\",\"gamers\",\"gamers\",\"gamers\",\"gamers\",\"gamers\",\"gamers\",\"gamers\",\"gamers\",\"gamers\",\"gamers\",\"gamers\",\"gamers\",\"gamers\",\"gamers\",\"gamers\",\"gamers\",\"gamers\",\"gamers\",\"gamers\",\"gamers\",\"gamers\",\"gamers\",\"gamers\",\"gamers\",\"gamers\",\"gamers\",\"gamers\",\"gamers\",\"gamers\",\"gamers\",\"gamers\",\"gamers\",\"gamers\",\"gamers\",\"gamers\",\"gamers\",\"gamers\",\"gamers\",\"gamers\",\"gamers\",\"gamers\",\"gamers\",\"gamers\",\"gamers\",\"gamers\",\"gamers\",\"gamers\",\"gamers\",\"gamers\",\"gamers\",\"gamers\",\"gamers\",\"gamers\",\"gamers\",\"gamers\",\"gamers\",\"gamers\",\"gamers\",\"gamers\",\"gamers\",\"gamers\",\"gamers\",\"gamers\",\"gamers\",\"gamers\",\"gamers\",\"gamers\",\"gamers\",\"gamers\",\"gamers\",\"gamers\",\"gamers\",\"gamers\",\"gamers\",\"gamers\",\"gamers\",\"gamers\",\"gamers\",\"gamers\",\"gamers\",\"gamers\",\"gamers\",\"gamers\",\"gamers\",\"gamers\",\"gamers\",\"gamers\",\"gamers\",\"gamers\",\"gamers\",\"gamers\",\"gamers\",\"gamers\",\"gamers\",\"gamers\",\"gamers\",\"gamers\",\"gamers\",\"gamers\",\"gamers\",\"gamers\",\"gamers\",\"gamers\",\"gamers\",\"gamers\",\"gamers\",\"gamers\",\"gamers\",\"gamers\",\"gamers\",\"gamers\",\"gamers\",\"gamers\",\"gamers\",\"gamers\",\"gamers\",\"gamers\",\"gamers\",\"gamers\",\"gamers\",\"gamers\",\"gamers\",\"gamers\",\"gamers\",\"gamers\",\"gamers\",\"gamers\",\"gamers\",\"gamers\",\"gamers\",\"gamers\",\"gamers\",\"gamers\",\"gamers\",\"gamers\",\"gamers\",\"gamers\",\"gamers\",\"gamers\",\"gamers\",\"gamers\",\"gamers\",\"gamers\",\"gamers\",\"gamers\",\"gamers\",\"gamers\",\"gamers\",\"gamers\",\"gamers\",\"gamers\",\"gamers\",\"gamers\",\"gamers\",\"gamers\",\"gamers\",\"gamers\",\"gamers\",\"gamers\",\"gamers\",\"gamers\",\"gamers\",\"gamers\",\"gamers\",\"gamers\",\"gamers\",\"gamers\",\"gamers\",\"gamers\",\"gamers\",\"gamers\",\"gamers\",\"gamers\",\"gamers\",\"gamers\",\"gamers\",\"gamers\",\"gamers\",\"gamers\",\"gamers\",\"gamers\",\"gamers\",\"gamers\",\"gamers\",\"gamers\",\"gamers\",\"gamers\",\"gamers\",\"gamers\",\"gamers\",\"gamers\",\"gamers\",\"gamers\",\"gamers\",\"gamers\",\"gamers\",\"gamers\",\"gamers\",\"gamers\",\"gamers\",\"gamers\",\"gamers\",\"gamers\",\"gamers\",\"gamers\",\"gamers\",\"gamers\",\"gamers\",\"gamers\",\"gamers\",\"gamers\",\"gamers\",\"gamers\",\"gamers\",\"gamers\",\"gamers\",\"gamers\",\"gamers\",\"gamers\",\"gamers\",\"gamers\",\"gamers\",\"gamers\",\"gamers\",\"gamers\",\"gamers\",\"gamers\",\"gamers\",\"gamers\",\"gamers\",\"gamers\",\"gamers\",\"gamers\",\"gamers\",\"gamers\",\"gamers\",\"gamers\",\"gamers\",\"gamers\",\"gamers\",\"gamers\",\"gamers\",\"gamers\",\"gamers\",\"gamers\",\"gamers\",\"gamers\",\"gamers\",\"gamers\",\"gamers\",\"gamers\",\"gamers\",\"gamers\",\"gamers\",\"gamers\",\"gamers\",\"gamers\",\"gamers\",\"gamers\",\"gamers\",\"gamers\",\"gamers\",\"gamers\",\"gamers\",\"gamers\",\"gamers\",\"gamers\",\"gamers\",\"gamers\",\"gamers\",\"gamers\",\"gamers\",\"gamers\",\"gamers\",\"gamers\",\"gamers\",\"gamers\",\"gamers\",\"gamers\",\"gamers\",\"gamers\",\"gamers\",\"gamers\",\"gamers\",\"gamers\",\"gamers\",\"gamers\",\"gamers\",\"gamers\",\"gamers\",\"gamers\",\"gamers\",\"gamers\",\"gamers\",\"gamers\",\"gamers\",\"gamers\",\"gamers\",\"gamers\",\"gamers\",\"gamers\",\"gamers\",\"gamers\",\"gamers\",\"gamers\",\"gamers\",\"gamers\",\"gamers\",\"gamers\",\"gamers\",\"gamers\",\"gamers\",\"gamers\",\"gamers\",\"gamers\",\"gamers\",\"gamers\",\"gamers\",\"gamers\",\"gamers\",\"gamers\",\"gamers\",\"gamers\",\"gamers\",\"gamers\",\"gamers\",\"gamers\",\"gamers\",\"gamers\",\"gamers\",\"gamers\",\"gamers\",\"gamers\",\"gamers\",\"gamers\",\"gamers\",\"gamers\",\"gamers\",\"gamers\",\"gamers\",\"gamers\",\"gamers\",\"gamers\",\"gamers\",\"gamers\",\"gamers\",\"gamers\",\"gamers\",\"gamers\",\"gamers\",\"gamers\",\"gamers\",\"gamers\",\"gamers\",\"gamers\",\"gamers\",\"gamers\",\"gamers\",\"gamers\",\"gamers\",\"gamers\",\"gamers\",\"gamers\",\"gamers\",\"gamers\",\"gamers\",\"gamers\",\"gamers\",\"gamers\",\"gamers\",\"gamers\",\"gamers\",\"gamers\",\"gamers\",\"gamers\",\"gamers\",\"gamers\",\"gamers\",\"gamers\",\"gamers\",\"gamers\",\"gamers\",\"gamers\",\"gamers\",\"gamers\",\"gamers\",\"gamers\",\"gamers\",\"gamers\",\"gamers\",\"gamers\",\"gamers\",\"gamers\",\"gamers\",\"gamers\",\"gamers\",\"gamers\",\"gamers\",\"gamers\",\"gamers\",\"gamers\",\"gamers\",\"gamers\",\"gamers\",\"gamers\",\"gamers\",\"gamers\",\"gamers\",\"gamers\",\"gamers\",\"gamers\",\"gamers\",\"gamers\",\"gamers\",\"gamers\",\"gamers\",\"gamers\",\"gamers\",\"gamers\",\"gamers\",\"gamers\",\"gamers\",\"gamers\",\"gamers\",\"gamers\",\"gamers\",\"gamers\",\"gamers\",\"gamers\",\"gamers\",\"gamers\",\"gamers\",\"gamers\",\"gamers\",\"gamers\",\"gamers\",\"gamers\",\"gamers\",\"gamers\",\"gamers\",\"gamers\",\"gamers\",\"gamers\",\"gamers\",\"gamers\",\"gamers\",\"gamers\",\"gamers\",\"gamers\",\"gamers\",\"gamers\",\"gamers\",\"gamers\",\"gamers\",\"gamers\",\"gamers\",\"gamers\",\"gamers\",\"gamers\",\"gamers\",\"gamers\",\"gamers\",\"gamers\",\"gamers\",\"gamers\",\"gamers\",\"gamers\",\"gamers\",\"gamers\",\"gamers\",\"gamers\",\"gamers\",\"gamers\",\"gamers\",\"gamers\",\"gamers\",\"gamers\",\"gamers\",\"gamers\",\"gamers\",\"gamers\",\"gamers\",\"gamers\",\"gamers\",\"gamers\",\"gamers\",\"gamers\",\"gamers\",\"gamers\",\"gamers\",\"gamers\",\"gamers\",\"gamers\",\"gamers\",\"gamers\",\"gamers\",\"gamers\",\"gamers\",\"gamers\",\"gamers\",\"gamers\",\"gamers\",\"gamers\",\"gamers\",\"gamers\",\"gamers\",\"gamers\",\"gamers\",\"gamers\",\"gamers\",\"gamers\",\"gamers\",\"gamers\",\"gamers\",\"gamers\",\"gamers\",\"gamers\",\"gamers\",\"gamers\",\"gamers\",\"gamers\",\"gamers\",\"gamers\",\"gamers\",\"gamers\",\"gamers\",\"gamers\",\"gamers\",\"gamers\",\"gamers\",\"gamers\",\"gamers\",\"gamers\",\"gamers\",\"gamers\",\"gamers\",\"gamers\",\"gamers\",\"gamers\",\"gamers\",\"gamers\",\"gamers\",\"gamers\",\"gamers\",\"gamers\",\"gamers\",\"gamers\",\"gamers\",\"gamers\",\"gamers\",\"gamers\",\"gamers\",\"gamers\",\"gamers\",\"gamers\",\"gamers\",\"gamers\",\"gamers\",\"gamers\",\"gamers\",\"gamers\",\"gamers\",\"gamers\",\"gamers\",\"gamers\",\"gamers\",\"gamers\",\"gamers\",\"gamers\",\"gamers\",\"gamers\",\"gamers\",\"gamers\",\"gamers\",\"gamers\",\"gamers\",\"gamers\",\"gamers\",\"gamers\",\"gamers\",\"gamers\",\"gamers\",\"gamers\",\"gamers\",\"gamers\",\"gamers\",\"gamers\",\"gamers\",\"gamers\",\"gamers\",\"gamers\",\"gamers\",\"gamers\",\"gamers\",\"gamers\",\"gamers\",\"gamers\",\"gamers\",\"gamers\",\"gamers\",\"gamers\",\"gamers\",\"gamers\",\"gamers\",\"gamers\",\"gamers\",\"gamers\",\"gamers\"],\"y0\":\" \",\"yaxis\":\"y\",\"type\":\"box\"}],                        {\"template\":{\"data\":{\"bar\":[{\"error_x\":{\"color\":\"#2a3f5f\"},\"error_y\":{\"color\":\"#2a3f5f\"},\"marker\":{\"line\":{\"color\":\"#E5ECF6\",\"width\":0.5},\"pattern\":{\"fillmode\":\"overlay\",\"size\":10,\"solidity\":0.2}},\"type\":\"bar\"}],\"barpolar\":[{\"marker\":{\"line\":{\"color\":\"#E5ECF6\",\"width\":0.5},\"pattern\":{\"fillmode\":\"overlay\",\"size\":10,\"solidity\":0.2}},\"type\":\"barpolar\"}],\"carpet\":[{\"aaxis\":{\"endlinecolor\":\"#2a3f5f\",\"gridcolor\":\"white\",\"linecolor\":\"white\",\"minorgridcolor\":\"white\",\"startlinecolor\":\"#2a3f5f\"},\"baxis\":{\"endlinecolor\":\"#2a3f5f\",\"gridcolor\":\"white\",\"linecolor\":\"white\",\"minorgridcolor\":\"white\",\"startlinecolor\":\"#2a3f5f\"},\"type\":\"carpet\"}],\"choropleth\":[{\"colorbar\":{\"outlinewidth\":0,\"ticks\":\"\"},\"type\":\"choropleth\"}],\"contour\":[{\"colorbar\":{\"outlinewidth\":0,\"ticks\":\"\"},\"colorscale\":[[0.0,\"#0d0887\"],[0.1111111111111111,\"#46039f\"],[0.2222222222222222,\"#7201a8\"],[0.3333333333333333,\"#9c179e\"],[0.4444444444444444,\"#bd3786\"],[0.5555555555555556,\"#d8576b\"],[0.6666666666666666,\"#ed7953\"],[0.7777777777777778,\"#fb9f3a\"],[0.8888888888888888,\"#fdca26\"],[1.0,\"#f0f921\"]],\"type\":\"contour\"}],\"contourcarpet\":[{\"colorbar\":{\"outlinewidth\":0,\"ticks\":\"\"},\"type\":\"contourcarpet\"}],\"heatmap\":[{\"colorbar\":{\"outlinewidth\":0,\"ticks\":\"\"},\"colorscale\":[[0.0,\"#0d0887\"],[0.1111111111111111,\"#46039f\"],[0.2222222222222222,\"#7201a8\"],[0.3333333333333333,\"#9c179e\"],[0.4444444444444444,\"#bd3786\"],[0.5555555555555556,\"#d8576b\"],[0.6666666666666666,\"#ed7953\"],[0.7777777777777778,\"#fb9f3a\"],[0.8888888888888888,\"#fdca26\"],[1.0,\"#f0f921\"]],\"type\":\"heatmap\"}],\"heatmapgl\":[{\"colorbar\":{\"outlinewidth\":0,\"ticks\":\"\"},\"colorscale\":[[0.0,\"#0d0887\"],[0.1111111111111111,\"#46039f\"],[0.2222222222222222,\"#7201a8\"],[0.3333333333333333,\"#9c179e\"],[0.4444444444444444,\"#bd3786\"],[0.5555555555555556,\"#d8576b\"],[0.6666666666666666,\"#ed7953\"],[0.7777777777777778,\"#fb9f3a\"],[0.8888888888888888,\"#fdca26\"],[1.0,\"#f0f921\"]],\"type\":\"heatmapgl\"}],\"histogram\":[{\"marker\":{\"pattern\":{\"fillmode\":\"overlay\",\"size\":10,\"solidity\":0.2}},\"type\":\"histogram\"}],\"histogram2d\":[{\"colorbar\":{\"outlinewidth\":0,\"ticks\":\"\"},\"colorscale\":[[0.0,\"#0d0887\"],[0.1111111111111111,\"#46039f\"],[0.2222222222222222,\"#7201a8\"],[0.3333333333333333,\"#9c179e\"],[0.4444444444444444,\"#bd3786\"],[0.5555555555555556,\"#d8576b\"],[0.6666666666666666,\"#ed7953\"],[0.7777777777777778,\"#fb9f3a\"],[0.8888888888888888,\"#fdca26\"],[1.0,\"#f0f921\"]],\"type\":\"histogram2d\"}],\"histogram2dcontour\":[{\"colorbar\":{\"outlinewidth\":0,\"ticks\":\"\"},\"colorscale\":[[0.0,\"#0d0887\"],[0.1111111111111111,\"#46039f\"],[0.2222222222222222,\"#7201a8\"],[0.3333333333333333,\"#9c179e\"],[0.4444444444444444,\"#bd3786\"],[0.5555555555555556,\"#d8576b\"],[0.6666666666666666,\"#ed7953\"],[0.7777777777777778,\"#fb9f3a\"],[0.8888888888888888,\"#fdca26\"],[1.0,\"#f0f921\"]],\"type\":\"histogram2dcontour\"}],\"mesh3d\":[{\"colorbar\":{\"outlinewidth\":0,\"ticks\":\"\"},\"type\":\"mesh3d\"}],\"parcoords\":[{\"line\":{\"colorbar\":{\"outlinewidth\":0,\"ticks\":\"\"}},\"type\":\"parcoords\"}],\"pie\":[{\"automargin\":true,\"type\":\"pie\"}],\"scatter\":[{\"marker\":{\"colorbar\":{\"outlinewidth\":0,\"ticks\":\"\"}},\"type\":\"scatter\"}],\"scatter3d\":[{\"line\":{\"colorbar\":{\"outlinewidth\":0,\"ticks\":\"\"}},\"marker\":{\"colorbar\":{\"outlinewidth\":0,\"ticks\":\"\"}},\"type\":\"scatter3d\"}],\"scattercarpet\":[{\"marker\":{\"colorbar\":{\"outlinewidth\":0,\"ticks\":\"\"}},\"type\":\"scattercarpet\"}],\"scattergeo\":[{\"marker\":{\"colorbar\":{\"outlinewidth\":0,\"ticks\":\"\"}},\"type\":\"scattergeo\"}],\"scattergl\":[{\"marker\":{\"colorbar\":{\"outlinewidth\":0,\"ticks\":\"\"}},\"type\":\"scattergl\"}],\"scattermapbox\":[{\"marker\":{\"colorbar\":{\"outlinewidth\":0,\"ticks\":\"\"}},\"type\":\"scattermapbox\"}],\"scatterpolar\":[{\"marker\":{\"colorbar\":{\"outlinewidth\":0,\"ticks\":\"\"}},\"type\":\"scatterpolar\"}],\"scatterpolargl\":[{\"marker\":{\"colorbar\":{\"outlinewidth\":0,\"ticks\":\"\"}},\"type\":\"scatterpolargl\"}],\"scatterternary\":[{\"marker\":{\"colorbar\":{\"outlinewidth\":0,\"ticks\":\"\"}},\"type\":\"scatterternary\"}],\"surface\":[{\"colorbar\":{\"outlinewidth\":0,\"ticks\":\"\"},\"colorscale\":[[0.0,\"#0d0887\"],[0.1111111111111111,\"#46039f\"],[0.2222222222222222,\"#7201a8\"],[0.3333333333333333,\"#9c179e\"],[0.4444444444444444,\"#bd3786\"],[0.5555555555555556,\"#d8576b\"],[0.6666666666666666,\"#ed7953\"],[0.7777777777777778,\"#fb9f3a\"],[0.8888888888888888,\"#fdca26\"],[1.0,\"#f0f921\"]],\"type\":\"surface\"}],\"table\":[{\"cells\":{\"fill\":{\"color\":\"#EBF0F8\"},\"line\":{\"color\":\"white\"}},\"header\":{\"fill\":{\"color\":\"#C8D4E3\"},\"line\":{\"color\":\"white\"}},\"type\":\"table\"}]},\"layout\":{\"annotationdefaults\":{\"arrowcolor\":\"#2a3f5f\",\"arrowhead\":0,\"arrowwidth\":1},\"autotypenumbers\":\"strict\",\"coloraxis\":{\"colorbar\":{\"outlinewidth\":0,\"ticks\":\"\"}},\"colorscale\":{\"diverging\":[[0,\"#8e0152\"],[0.1,\"#c51b7d\"],[0.2,\"#de77ae\"],[0.3,\"#f1b6da\"],[0.4,\"#fde0ef\"],[0.5,\"#f7f7f7\"],[0.6,\"#e6f5d0\"],[0.7,\"#b8e186\"],[0.8,\"#7fbc41\"],[0.9,\"#4d9221\"],[1,\"#276419\"]],\"sequential\":[[0.0,\"#0d0887\"],[0.1111111111111111,\"#46039f\"],[0.2222222222222222,\"#7201a8\"],[0.3333333333333333,\"#9c179e\"],[0.4444444444444444,\"#bd3786\"],[0.5555555555555556,\"#d8576b\"],[0.6666666666666666,\"#ed7953\"],[0.7777777777777778,\"#fb9f3a\"],[0.8888888888888888,\"#fdca26\"],[1.0,\"#f0f921\"]],\"sequentialminus\":[[0.0,\"#0d0887\"],[0.1111111111111111,\"#46039f\"],[0.2222222222222222,\"#7201a8\"],[0.3333333333333333,\"#9c179e\"],[0.4444444444444444,\"#bd3786\"],[0.5555555555555556,\"#d8576b\"],[0.6666666666666666,\"#ed7953\"],[0.7777777777777778,\"#fb9f3a\"],[0.8888888888888888,\"#fdca26\"],[1.0,\"#f0f921\"]]},\"colorway\":[\"#636efa\",\"#EF553B\",\"#00cc96\",\"#ab63fa\",\"#FFA15A\",\"#19d3f3\",\"#FF6692\",\"#B6E880\",\"#FF97FF\",\"#FECB52\"],\"font\":{\"color\":\"#2a3f5f\"},\"geo\":{\"bgcolor\":\"white\",\"lakecolor\":\"white\",\"landcolor\":\"#E5ECF6\",\"showlakes\":true,\"showland\":true,\"subunitcolor\":\"white\"},\"hoverlabel\":{\"align\":\"left\"},\"hovermode\":\"closest\",\"mapbox\":{\"style\":\"light\"},\"paper_bgcolor\":\"white\",\"plot_bgcolor\":\"#E5ECF6\",\"polar\":{\"angularaxis\":{\"gridcolor\":\"white\",\"linecolor\":\"white\",\"ticks\":\"\"},\"bgcolor\":\"#E5ECF6\",\"radialaxis\":{\"gridcolor\":\"white\",\"linecolor\":\"white\",\"ticks\":\"\"}},\"scene\":{\"xaxis\":{\"backgroundcolor\":\"#E5ECF6\",\"gridcolor\":\"white\",\"gridwidth\":2,\"linecolor\":\"white\",\"showbackground\":true,\"ticks\":\"\",\"zerolinecolor\":\"white\"},\"yaxis\":{\"backgroundcolor\":\"#E5ECF6\",\"gridcolor\":\"white\",\"gridwidth\":2,\"linecolor\":\"white\",\"showbackground\":true,\"ticks\":\"\",\"zerolinecolor\":\"white\"},\"zaxis\":{\"backgroundcolor\":\"#E5ECF6\",\"gridcolor\":\"white\",\"gridwidth\":2,\"linecolor\":\"white\",\"showbackground\":true,\"ticks\":\"\",\"zerolinecolor\":\"white\"}},\"shapedefaults\":{\"line\":{\"color\":\"#2a3f5f\"}},\"ternary\":{\"aaxis\":{\"gridcolor\":\"white\",\"linecolor\":\"white\",\"ticks\":\"\"},\"baxis\":{\"gridcolor\":\"white\",\"linecolor\":\"white\",\"ticks\":\"\"},\"bgcolor\":\"#E5ECF6\",\"caxis\":{\"gridcolor\":\"white\",\"linecolor\":\"white\",\"ticks\":\"\"}},\"title\":{\"x\":0.05},\"xaxis\":{\"automargin\":true,\"gridcolor\":\"white\",\"linecolor\":\"white\",\"ticks\":\"\",\"title\":{\"standoff\":15},\"zerolinecolor\":\"white\",\"zerolinewidth\":2},\"yaxis\":{\"automargin\":true,\"gridcolor\":\"white\",\"linecolor\":\"white\",\"ticks\":\"\",\"title\":{\"standoff\":15},\"zerolinecolor\":\"white\",\"zerolinewidth\":2}}},\"xaxis\":{\"anchor\":\"y\",\"domain\":[0.0,1.0],\"title\":{\"text\":\"value\"}},\"yaxis\":{\"anchor\":\"x\",\"domain\":[0.0,1.0],\"title\":{\"text\":\"variable\"}},\"legend\":{\"tracegroupgap\":0},\"title\":{\"text\":\"Boxplot da vari\\u00e1vel gamers em jogos removidos do Xbox Game Pass\",\"x\":0.5},\"boxmode\":\"group\"},                        {\"responsive\": true}                    ).then(function(){\n",
              "                            \n",
              "var gd = document.getElementById('64694753-bb92-4d06-972e-1dcaa8f4fe9b');\n",
              "var x = new MutationObserver(function (mutations, observer) {{\n",
              "        var display = window.getComputedStyle(gd).display;\n",
              "        if (!display || display === 'none') {{\n",
              "            console.log([gd, 'removed!']);\n",
              "            Plotly.purge(gd);\n",
              "            observer.disconnect();\n",
              "        }}\n",
              "}});\n",
              "\n",
              "// Listen for the removal of the full notebook cells\n",
              "var notebookContainer = gd.closest('#notebook-container');\n",
              "if (notebookContainer) {{\n",
              "    x.observe(notebookContainer, {childList: true});\n",
              "}}\n",
              "\n",
              "// Listen for the clearing of the current output cell\n",
              "var outputEl = gd.closest('.output');\n",
              "if (outputEl) {{\n",
              "    x.observe(outputEl, {childList: true});\n",
              "}}\n",
              "\n",
              "                        })                };                            </script>        </div>\n",
              "</body>\n",
              "</html>"
            ]
          },
          "metadata": {}
        }
      ]
    },
    {
      "cell_type": "markdown",
      "source": [
        "### Metascore"
      ],
      "metadata": {
        "id": "9IPJia8ndRre"
      }
    },
    {
      "cell_type": "markdown",
      "source": [
        "Para todos os jogos inseridos no serviço"
      ],
      "metadata": {
        "id": "PaJfTOJr5Uzh"
      }
    },
    {
      "cell_type": "code",
      "source": [
        "# estatísticas descritivas da coluna metascore:\n",
        "\n",
        "metascore = gamepass['metascore']\n",
        "metascore.describe()"
      ],
      "metadata": {
        "colab": {
          "base_uri": "https://localhost:8080/"
        },
        "id": "LW4KjDRQc_Ld",
        "outputId": "fa8245d2-4937-42c4-c740-dae45f1c835b"
      },
      "execution_count": 46,
      "outputs": [
        {
          "output_type": "execute_result",
          "data": {
            "text/plain": [
              "count    745.000000\n",
              "mean      76.774497\n",
              "std        8.634305\n",
              "min       35.000000\n",
              "25%       72.000000\n",
              "50%       78.000000\n",
              "75%       82.000000\n",
              "max       96.000000\n",
              "Name: metascore, dtype: float64"
            ]
          },
          "metadata": {},
          "execution_count": 46
        }
      ]
    },
    {
      "cell_type": "code",
      "source": [
        "# frequência das notas:\n",
        "\n",
        "freq_metascore = metascore.value_counts()\n",
        "df_metascore = pd.DataFrame(freq_metascore)\n",
        "df_metascore"
      ],
      "metadata": {
        "colab": {
          "base_uri": "https://localhost:8080/",
          "height": 1000
        },
        "id": "4X9T-SnapOwd",
        "outputId": "baf8dec5-3a51-4a5e-aa9d-1ce8c9a0891f"
      },
      "execution_count": 98,
      "outputs": [
        {
          "output_type": "execute_result",
          "data": {
            "text/plain": [
              "      metascore\n",
              "81.0         43\n",
              "82.0         41\n",
              "79.0         41\n",
              "78.0         40\n",
              "77.0         40\n",
              "80.0         40\n",
              "84.0         34\n",
              "75.0         34\n",
              "74.0         32\n",
              "76.0         32\n",
              "72.0         27\n",
              "73.0         27\n",
              "83.0         25\n",
              "85.0         23\n",
              "88.0         22\n",
              "69.0         20\n",
              "86.0         18\n",
              "70.0         17\n",
              "64.0         17\n",
              "66.0         16\n",
              "71.0         16\n",
              "68.0         15\n",
              "65.0         14\n",
              "89.0         13\n",
              "87.0         10\n",
              "60.0          8\n",
              "67.0          8\n",
              "90.0          7\n",
              "92.0          7\n",
              "53.0          6\n",
              "91.0          6\n",
              "93.0          6\n",
              "94.0          5\n",
              "63.0          5\n",
              "59.0          5\n",
              "62.0          4\n",
              "58.0          3\n",
              "61.0          3\n",
              "56.0          3\n",
              "95.0          2\n",
              "35.0          2\n",
              "49.0          2\n",
              "42.0          1\n",
              "50.0          1\n",
              "55.0          1\n",
              "54.0          1\n",
              "96.0          1\n",
              "51.0          1"
            ],
            "text/html": [
              "\n",
              "  <div id=\"df-ddf826c4-51e7-4064-8757-be71740cb455\">\n",
              "    <div class=\"colab-df-container\">\n",
              "      <div>\n",
              "<style scoped>\n",
              "    .dataframe tbody tr th:only-of-type {\n",
              "        vertical-align: middle;\n",
              "    }\n",
              "\n",
              "    .dataframe tbody tr th {\n",
              "        vertical-align: top;\n",
              "    }\n",
              "\n",
              "    .dataframe thead th {\n",
              "        text-align: right;\n",
              "    }\n",
              "</style>\n",
              "<table border=\"1\" class=\"dataframe\">\n",
              "  <thead>\n",
              "    <tr style=\"text-align: right;\">\n",
              "      <th></th>\n",
              "      <th>metascore</th>\n",
              "    </tr>\n",
              "  </thead>\n",
              "  <tbody>\n",
              "    <tr>\n",
              "      <th>81.0</th>\n",
              "      <td>43</td>\n",
              "    </tr>\n",
              "    <tr>\n",
              "      <th>82.0</th>\n",
              "      <td>41</td>\n",
              "    </tr>\n",
              "    <tr>\n",
              "      <th>79.0</th>\n",
              "      <td>41</td>\n",
              "    </tr>\n",
              "    <tr>\n",
              "      <th>78.0</th>\n",
              "      <td>40</td>\n",
              "    </tr>\n",
              "    <tr>\n",
              "      <th>77.0</th>\n",
              "      <td>40</td>\n",
              "    </tr>\n",
              "    <tr>\n",
              "      <th>80.0</th>\n",
              "      <td>40</td>\n",
              "    </tr>\n",
              "    <tr>\n",
              "      <th>84.0</th>\n",
              "      <td>34</td>\n",
              "    </tr>\n",
              "    <tr>\n",
              "      <th>75.0</th>\n",
              "      <td>34</td>\n",
              "    </tr>\n",
              "    <tr>\n",
              "      <th>74.0</th>\n",
              "      <td>32</td>\n",
              "    </tr>\n",
              "    <tr>\n",
              "      <th>76.0</th>\n",
              "      <td>32</td>\n",
              "    </tr>\n",
              "    <tr>\n",
              "      <th>72.0</th>\n",
              "      <td>27</td>\n",
              "    </tr>\n",
              "    <tr>\n",
              "      <th>73.0</th>\n",
              "      <td>27</td>\n",
              "    </tr>\n",
              "    <tr>\n",
              "      <th>83.0</th>\n",
              "      <td>25</td>\n",
              "    </tr>\n",
              "    <tr>\n",
              "      <th>85.0</th>\n",
              "      <td>23</td>\n",
              "    </tr>\n",
              "    <tr>\n",
              "      <th>88.0</th>\n",
              "      <td>22</td>\n",
              "    </tr>\n",
              "    <tr>\n",
              "      <th>69.0</th>\n",
              "      <td>20</td>\n",
              "    </tr>\n",
              "    <tr>\n",
              "      <th>86.0</th>\n",
              "      <td>18</td>\n",
              "    </tr>\n",
              "    <tr>\n",
              "      <th>70.0</th>\n",
              "      <td>17</td>\n",
              "    </tr>\n",
              "    <tr>\n",
              "      <th>64.0</th>\n",
              "      <td>17</td>\n",
              "    </tr>\n",
              "    <tr>\n",
              "      <th>66.0</th>\n",
              "      <td>16</td>\n",
              "    </tr>\n",
              "    <tr>\n",
              "      <th>71.0</th>\n",
              "      <td>16</td>\n",
              "    </tr>\n",
              "    <tr>\n",
              "      <th>68.0</th>\n",
              "      <td>15</td>\n",
              "    </tr>\n",
              "    <tr>\n",
              "      <th>65.0</th>\n",
              "      <td>14</td>\n",
              "    </tr>\n",
              "    <tr>\n",
              "      <th>89.0</th>\n",
              "      <td>13</td>\n",
              "    </tr>\n",
              "    <tr>\n",
              "      <th>87.0</th>\n",
              "      <td>10</td>\n",
              "    </tr>\n",
              "    <tr>\n",
              "      <th>60.0</th>\n",
              "      <td>8</td>\n",
              "    </tr>\n",
              "    <tr>\n",
              "      <th>67.0</th>\n",
              "      <td>8</td>\n",
              "    </tr>\n",
              "    <tr>\n",
              "      <th>90.0</th>\n",
              "      <td>7</td>\n",
              "    </tr>\n",
              "    <tr>\n",
              "      <th>92.0</th>\n",
              "      <td>7</td>\n",
              "    </tr>\n",
              "    <tr>\n",
              "      <th>53.0</th>\n",
              "      <td>6</td>\n",
              "    </tr>\n",
              "    <tr>\n",
              "      <th>91.0</th>\n",
              "      <td>6</td>\n",
              "    </tr>\n",
              "    <tr>\n",
              "      <th>93.0</th>\n",
              "      <td>6</td>\n",
              "    </tr>\n",
              "    <tr>\n",
              "      <th>94.0</th>\n",
              "      <td>5</td>\n",
              "    </tr>\n",
              "    <tr>\n",
              "      <th>63.0</th>\n",
              "      <td>5</td>\n",
              "    </tr>\n",
              "    <tr>\n",
              "      <th>59.0</th>\n",
              "      <td>5</td>\n",
              "    </tr>\n",
              "    <tr>\n",
              "      <th>62.0</th>\n",
              "      <td>4</td>\n",
              "    </tr>\n",
              "    <tr>\n",
              "      <th>58.0</th>\n",
              "      <td>3</td>\n",
              "    </tr>\n",
              "    <tr>\n",
              "      <th>61.0</th>\n",
              "      <td>3</td>\n",
              "    </tr>\n",
              "    <tr>\n",
              "      <th>56.0</th>\n",
              "      <td>3</td>\n",
              "    </tr>\n",
              "    <tr>\n",
              "      <th>95.0</th>\n",
              "      <td>2</td>\n",
              "    </tr>\n",
              "    <tr>\n",
              "      <th>35.0</th>\n",
              "      <td>2</td>\n",
              "    </tr>\n",
              "    <tr>\n",
              "      <th>49.0</th>\n",
              "      <td>2</td>\n",
              "    </tr>\n",
              "    <tr>\n",
              "      <th>42.0</th>\n",
              "      <td>1</td>\n",
              "    </tr>\n",
              "    <tr>\n",
              "      <th>50.0</th>\n",
              "      <td>1</td>\n",
              "    </tr>\n",
              "    <tr>\n",
              "      <th>55.0</th>\n",
              "      <td>1</td>\n",
              "    </tr>\n",
              "    <tr>\n",
              "      <th>54.0</th>\n",
              "      <td>1</td>\n",
              "    </tr>\n",
              "    <tr>\n",
              "      <th>96.0</th>\n",
              "      <td>1</td>\n",
              "    </tr>\n",
              "    <tr>\n",
              "      <th>51.0</th>\n",
              "      <td>1</td>\n",
              "    </tr>\n",
              "  </tbody>\n",
              "</table>\n",
              "</div>\n",
              "      <button class=\"colab-df-convert\" onclick=\"convertToInteractive('df-ddf826c4-51e7-4064-8757-be71740cb455')\"\n",
              "              title=\"Convert this dataframe to an interactive table.\"\n",
              "              style=\"display:none;\">\n",
              "        \n",
              "  <svg xmlns=\"http://www.w3.org/2000/svg\" height=\"24px\"viewBox=\"0 0 24 24\"\n",
              "       width=\"24px\">\n",
              "    <path d=\"M0 0h24v24H0V0z\" fill=\"none\"/>\n",
              "    <path d=\"M18.56 5.44l.94 2.06.94-2.06 2.06-.94-2.06-.94-.94-2.06-.94 2.06-2.06.94zm-11 1L8.5 8.5l.94-2.06 2.06-.94-2.06-.94L8.5 2.5l-.94 2.06-2.06.94zm10 10l.94 2.06.94-2.06 2.06-.94-2.06-.94-.94-2.06-.94 2.06-2.06.94z\"/><path d=\"M17.41 7.96l-1.37-1.37c-.4-.4-.92-.59-1.43-.59-.52 0-1.04.2-1.43.59L10.3 9.45l-7.72 7.72c-.78.78-.78 2.05 0 2.83L4 21.41c.39.39.9.59 1.41.59.51 0 1.02-.2 1.41-.59l7.78-7.78 2.81-2.81c.8-.78.8-2.07 0-2.86zM5.41 20L4 18.59l7.72-7.72 1.47 1.35L5.41 20z\"/>\n",
              "  </svg>\n",
              "      </button>\n",
              "      \n",
              "  <style>\n",
              "    .colab-df-container {\n",
              "      display:flex;\n",
              "      flex-wrap:wrap;\n",
              "      gap: 12px;\n",
              "    }\n",
              "\n",
              "    .colab-df-convert {\n",
              "      background-color: #E8F0FE;\n",
              "      border: none;\n",
              "      border-radius: 50%;\n",
              "      cursor: pointer;\n",
              "      display: none;\n",
              "      fill: #1967D2;\n",
              "      height: 32px;\n",
              "      padding: 0 0 0 0;\n",
              "      width: 32px;\n",
              "    }\n",
              "\n",
              "    .colab-df-convert:hover {\n",
              "      background-color: #E2EBFA;\n",
              "      box-shadow: 0px 1px 2px rgba(60, 64, 67, 0.3), 0px 1px 3px 1px rgba(60, 64, 67, 0.15);\n",
              "      fill: #174EA6;\n",
              "    }\n",
              "\n",
              "    [theme=dark] .colab-df-convert {\n",
              "      background-color: #3B4455;\n",
              "      fill: #D2E3FC;\n",
              "    }\n",
              "\n",
              "    [theme=dark] .colab-df-convert:hover {\n",
              "      background-color: #434B5C;\n",
              "      box-shadow: 0px 1px 3px 1px rgba(0, 0, 0, 0.15);\n",
              "      filter: drop-shadow(0px 1px 2px rgba(0, 0, 0, 0.3));\n",
              "      fill: #FFFFFF;\n",
              "    }\n",
              "  </style>\n",
              "\n",
              "      <script>\n",
              "        const buttonEl =\n",
              "          document.querySelector('#df-ddf826c4-51e7-4064-8757-be71740cb455 button.colab-df-convert');\n",
              "        buttonEl.style.display =\n",
              "          google.colab.kernel.accessAllowed ? 'block' : 'none';\n",
              "\n",
              "        async function convertToInteractive(key) {\n",
              "          const element = document.querySelector('#df-ddf826c4-51e7-4064-8757-be71740cb455');\n",
              "          const dataTable =\n",
              "            await google.colab.kernel.invokeFunction('convertToInteractive',\n",
              "                                                     [key], {});\n",
              "          if (!dataTable) return;\n",
              "\n",
              "          const docLinkHtml = 'Like what you see? Visit the ' +\n",
              "            '<a target=\"_blank\" href=https://colab.research.google.com/notebooks/data_table.ipynb>data table notebook</a>'\n",
              "            + ' to learn more about interactive tables.';\n",
              "          element.innerHTML = '';\n",
              "          dataTable['output_type'] = 'display_data';\n",
              "          await google.colab.output.renderOutput(dataTable, element);\n",
              "          const docLink = document.createElement('div');\n",
              "          docLink.innerHTML = docLinkHtml;\n",
              "          element.appendChild(docLink);\n",
              "        }\n",
              "      </script>\n",
              "    </div>\n",
              "  </div>\n",
              "  "
            ]
          },
          "metadata": {},
          "execution_count": 98
        }
      ]
    },
    {
      "cell_type": "code",
      "source": [
        "# distribuição das frequência das notas:\n",
        "\n",
        "ax = sns.distplot(metascore)\n",
        "ax.set_title('Distribuição de frequência da variável notas nos jogos inseridos no Xbox Game Pass', fontsize= 18)"
      ],
      "metadata": {
        "id": "l9Qm0Mx6fDLG",
        "colab": {
          "base_uri": "https://localhost:8080/",
          "height": 847
        },
        "outputId": "6f63e4dd-7e98-4566-83fb-c86f17023d37"
      },
      "execution_count": 91,
      "outputs": [
        {
          "output_type": "stream",
          "name": "stderr",
          "text": [
            "/usr/local/lib/python3.7/dist-packages/seaborn/distributions.py:2619: FutureWarning:\n",
            "\n",
            "`distplot` is a deprecated function and will be removed in a future version. Please adapt your code to use either `displot` (a figure-level function with similar flexibility) or `histplot` (an axes-level function for histograms).\n",
            "\n"
          ]
        },
        {
          "output_type": "execute_result",
          "data": {
            "text/plain": [
              "Text(0.5, 1.0, 'Distribuição de frequência da variável notas nos jogos inseridos no Xbox Game Pass')"
            ]
          },
          "metadata": {},
          "execution_count": 91
        },
        {
          "output_type": "display_data",
          "data": {
            "text/plain": [
              "<Figure size 1296x864 with 1 Axes>"
            ],
            "image/png": "[encoded data removed]"
          },
          "metadata": {}
        }
      ]
    },
    {
      "cell_type": "code",
      "source": [
        "# média, mediana e moda:\n",
        "\n",
        "pd.DataFrame({'Moda': metascore.mode(), 'Média': metascore.mean().round(2), 'Mediana': metascore.median()})"
      ],
      "metadata": {
        "colab": {
          "base_uri": "https://localhost:8080/",
          "height": 81
        },
        "id": "kV7_N2As50k9",
        "outputId": "4dbf6806-1d7c-4299-f75e-05b502bf0972"
      },
      "execution_count": 125,
      "outputs": [
        {
          "output_type": "execute_result",
          "data": {
            "text/plain": [
              "   Moda  Média  Mediana\n",
              "0  81.0  76.77     78.0"
            ],
            "text/html": [
              "\n",
              "  <div id=\"df-50753e78-bc0b-46ff-b0d5-7d7891737b7b\">\n",
              "    <div class=\"colab-df-container\">\n",
              "      <div>\n",
              "<style scoped>\n",
              "    .dataframe tbody tr th:only-of-type {\n",
              "        vertical-align: middle;\n",
              "    }\n",
              "\n",
              "    .dataframe tbody tr th {\n",
              "        vertical-align: top;\n",
              "    }\n",
              "\n",
              "    .dataframe thead th {\n",
              "        text-align: right;\n",
              "    }\n",
              "</style>\n",
              "<table border=\"1\" class=\"dataframe\">\n",
              "  <thead>\n",
              "    <tr style=\"text-align: right;\">\n",
              "      <th></th>\n",
              "      <th>Moda</th>\n",
              "      <th>Média</th>\n",
              "      <th>Mediana</th>\n",
              "    </tr>\n",
              "  </thead>\n",
              "  <tbody>\n",
              "    <tr>\n",
              "      <th>0</th>\n",
              "      <td>81.0</td>\n",
              "      <td>76.77</td>\n",
              "      <td>78.0</td>\n",
              "    </tr>\n",
              "  </tbody>\n",
              "</table>\n",
              "</div>\n",
              "      <button class=\"colab-df-convert\" onclick=\"convertToInteractive('df-50753e78-bc0b-46ff-b0d5-7d7891737b7b')\"\n",
              "              title=\"Convert this dataframe to an interactive table.\"\n",
              "              style=\"display:none;\">\n",
              "        \n",
              "  <svg xmlns=\"http://www.w3.org/2000/svg\" height=\"24px\"viewBox=\"0 0 24 24\"\n",
              "       width=\"24px\">\n",
              "    <path d=\"M0 0h24v24H0V0z\" fill=\"none\"/>\n",
              "    <path d=\"M18.56 5.44l.94 2.06.94-2.06 2.06-.94-2.06-.94-.94-2.06-.94 2.06-2.06.94zm-11 1L8.5 8.5l.94-2.06 2.06-.94-2.06-.94L8.5 2.5l-.94 2.06-2.06.94zm10 10l.94 2.06.94-2.06 2.06-.94-2.06-.94-.94-2.06-.94 2.06-2.06.94z\"/><path d=\"M17.41 7.96l-1.37-1.37c-.4-.4-.92-.59-1.43-.59-.52 0-1.04.2-1.43.59L10.3 9.45l-7.72 7.72c-.78.78-.78 2.05 0 2.83L4 21.41c.39.39.9.59 1.41.59.51 0 1.02-.2 1.41-.59l7.78-7.78 2.81-2.81c.8-.78.8-2.07 0-2.86zM5.41 20L4 18.59l7.72-7.72 1.47 1.35L5.41 20z\"/>\n",
              "  </svg>\n",
              "      </button>\n",
              "      \n",
              "  <style>\n",
              "    .colab-df-container {\n",
              "      display:flex;\n",
              "      flex-wrap:wrap;\n",
              "      gap: 12px;\n",
              "    }\n",
              "\n",
              "    .colab-df-convert {\n",
              "      background-color: #E8F0FE;\n",
              "      border: none;\n",
              "      border-radius: 50%;\n",
              "      cursor: pointer;\n",
              "      display: none;\n",
              "      fill: #1967D2;\n",
              "      height: 32px;\n",
              "      padding: 0 0 0 0;\n",
              "      width: 32px;\n",
              "    }\n",
              "\n",
              "    .colab-df-convert:hover {\n",
              "      background-color: #E2EBFA;\n",
              "      box-shadow: 0px 1px 2px rgba(60, 64, 67, 0.3), 0px 1px 3px 1px rgba(60, 64, 67, 0.15);\n",
              "      fill: #174EA6;\n",
              "    }\n",
              "\n",
              "    [theme=dark] .colab-df-convert {\n",
              "      background-color: #3B4455;\n",
              "      fill: #D2E3FC;\n",
              "    }\n",
              "\n",
              "    [theme=dark] .colab-df-convert:hover {\n",
              "      background-color: #434B5C;\n",
              "      box-shadow: 0px 1px 3px 1px rgba(0, 0, 0, 0.15);\n",
              "      filter: drop-shadow(0px 1px 2px rgba(0, 0, 0, 0.3));\n",
              "      fill: #FFFFFF;\n",
              "    }\n",
              "  </style>\n",
              "\n",
              "      <script>\n",
              "        const buttonEl =\n",
              "          document.querySelector('#df-50753e78-bc0b-46ff-b0d5-7d7891737b7b button.colab-df-convert');\n",
              "        buttonEl.style.display =\n",
              "          google.colab.kernel.accessAllowed ? 'block' : 'none';\n",
              "\n",
              "        async function convertToInteractive(key) {\n",
              "          const element = document.querySelector('#df-50753e78-bc0b-46ff-b0d5-7d7891737b7b');\n",
              "          const dataTable =\n",
              "            await google.colab.kernel.invokeFunction('convertToInteractive',\n",
              "                                                     [key], {});\n",
              "          if (!dataTable) return;\n",
              "\n",
              "          const docLinkHtml = 'Like what you see? Visit the ' +\n",
              "            '<a target=\"_blank\" href=https://colab.research.google.com/notebooks/data_table.ipynb>data table notebook</a>'\n",
              "            + ' to learn more about interactive tables.';\n",
              "          element.innerHTML = '';\n",
              "          dataTable['output_type'] = 'display_data';\n",
              "          await google.colab.output.renderOutput(dataTable, element);\n",
              "          const docLink = document.createElement('div');\n",
              "          docLink.innerHTML = docLinkHtml;\n",
              "          element.appendChild(docLink);\n",
              "        }\n",
              "      </script>\n",
              "    </div>\n",
              "  </div>\n",
              "  "
            ]
          },
          "metadata": {},
          "execution_count": 125
        }
      ]
    },
    {
      "cell_type": "code",
      "source": [
        "# desvio médio, variância e desvio padrão:\n",
        "\n",
        "pd.DataFrame({'Desvio médio': metascore.mad(), \n",
        "              'Variância': metascore.var(), \n",
        "              'Desvio padrão': metascore.std()},\n",
        "              index= [0])"
      ],
      "metadata": {
        "colab": {
          "base_uri": "https://localhost:8080/",
          "height": 81
        },
        "id": "qkOkTkcq6KQL",
        "outputId": "802c87a8-fd15-4ac6-85e5-e183d042c7ef"
      },
      "execution_count": 126,
      "outputs": [
        {
          "output_type": "execute_result",
          "data": {
            "text/plain": [
              "   Desvio médio  Variância  Desvio padrão\n",
              "0      6.611043   74.55123       8.634305"
            ],
            "text/html": [
              "\n",
              "  <div id=\"df-4fb5549e-0334-45e0-820e-3180fe40c3af\">\n",
              "    <div class=\"colab-df-container\">\n",
              "      <div>\n",
              "<style scoped>\n",
              "    .dataframe tbody tr th:only-of-type {\n",
              "        vertical-align: middle;\n",
              "    }\n",
              "\n",
              "    .dataframe tbody tr th {\n",
              "        vertical-align: top;\n",
              "    }\n",
              "\n",
              "    .dataframe thead th {\n",
              "        text-align: right;\n",
              "    }\n",
              "</style>\n",
              "<table border=\"1\" class=\"dataframe\">\n",
              "  <thead>\n",
              "    <tr style=\"text-align: right;\">\n",
              "      <th></th>\n",
              "      <th>Desvio médio</th>\n",
              "      <th>Variância</th>\n",
              "      <th>Desvio padrão</th>\n",
              "    </tr>\n",
              "  </thead>\n",
              "  <tbody>\n",
              "    <tr>\n",
              "      <th>0</th>\n",
              "      <td>6.611043</td>\n",
              "      <td>74.55123</td>\n",
              "      <td>8.634305</td>\n",
              "    </tr>\n",
              "  </tbody>\n",
              "</table>\n",
              "</div>\n",
              "      <button class=\"colab-df-convert\" onclick=\"convertToInteractive('df-4fb5549e-0334-45e0-820e-3180fe40c3af')\"\n",
              "              title=\"Convert this dataframe to an interactive table.\"\n",
              "              style=\"display:none;\">\n",
              "        \n",
              "  <svg xmlns=\"http://www.w3.org/2000/svg\" height=\"24px\"viewBox=\"0 0 24 24\"\n",
              "       width=\"24px\">\n",
              "    <path d=\"M0 0h24v24H0V0z\" fill=\"none\"/>\n",
              "    <path d=\"M18.56 5.44l.94 2.06.94-2.06 2.06-.94-2.06-.94-.94-2.06-.94 2.06-2.06.94zm-11 1L8.5 8.5l.94-2.06 2.06-.94-2.06-.94L8.5 2.5l-.94 2.06-2.06.94zm10 10l.94 2.06.94-2.06 2.06-.94-2.06-.94-.94-2.06-.94 2.06-2.06.94z\"/><path d=\"M17.41 7.96l-1.37-1.37c-.4-.4-.92-.59-1.43-.59-.52 0-1.04.2-1.43.59L10.3 9.45l-7.72 7.72c-.78.78-.78 2.05 0 2.83L4 21.41c.39.39.9.59 1.41.59.51 0 1.02-.2 1.41-.59l7.78-7.78 2.81-2.81c.8-.78.8-2.07 0-2.86zM5.41 20L4 18.59l7.72-7.72 1.47 1.35L5.41 20z\"/>\n",
              "  </svg>\n",
              "      </button>\n",
              "      \n",
              "  <style>\n",
              "    .colab-df-container {\n",
              "      display:flex;\n",
              "      flex-wrap:wrap;\n",
              "      gap: 12px;\n",
              "    }\n",
              "\n",
              "    .colab-df-convert {\n",
              "      background-color: #E8F0FE;\n",
              "      border: none;\n",
              "      border-radius: 50%;\n",
              "      cursor: pointer;\n",
              "      display: none;\n",
              "      fill: #1967D2;\n",
              "      height: 32px;\n",
              "      padding: 0 0 0 0;\n",
              "      width: 32px;\n",
              "    }\n",
              "\n",
              "    .colab-df-convert:hover {\n",
              "      background-color: #E2EBFA;\n",
              "      box-shadow: 0px 1px 2px rgba(60, 64, 67, 0.3), 0px 1px 3px 1px rgba(60, 64, 67, 0.15);\n",
              "      fill: #174EA6;\n",
              "    }\n",
              "\n",
              "    [theme=dark] .colab-df-convert {\n",
              "      background-color: #3B4455;\n",
              "      fill: #D2E3FC;\n",
              "    }\n",
              "\n",
              "    [theme=dark] .colab-df-convert:hover {\n",
              "      background-color: #434B5C;\n",
              "      box-shadow: 0px 1px 3px 1px rgba(0, 0, 0, 0.15);\n",
              "      filter: drop-shadow(0px 1px 2px rgba(0, 0, 0, 0.3));\n",
              "      fill: #FFFFFF;\n",
              "    }\n",
              "  </style>\n",
              "\n",
              "      <script>\n",
              "        const buttonEl =\n",
              "          document.querySelector('#df-4fb5549e-0334-45e0-820e-3180fe40c3af button.colab-df-convert');\n",
              "        buttonEl.style.display =\n",
              "          google.colab.kernel.accessAllowed ? 'block' : 'none';\n",
              "\n",
              "        async function convertToInteractive(key) {\n",
              "          const element = document.querySelector('#df-4fb5549e-0334-45e0-820e-3180fe40c3af');\n",
              "          const dataTable =\n",
              "            await google.colab.kernel.invokeFunction('convertToInteractive',\n",
              "                                                     [key], {});\n",
              "          if (!dataTable) return;\n",
              "\n",
              "          const docLinkHtml = 'Like what you see? Visit the ' +\n",
              "            '<a target=\"_blank\" href=https://colab.research.google.com/notebooks/data_table.ipynb>data table notebook</a>'\n",
              "            + ' to learn more about interactive tables.';\n",
              "          element.innerHTML = '';\n",
              "          dataTable['output_type'] = 'display_data';\n",
              "          await google.colab.output.renderOutput(dataTable, element);\n",
              "          const docLink = document.createElement('div');\n",
              "          docLink.innerHTML = docLinkHtml;\n",
              "          element.appendChild(docLink);\n",
              "        }\n",
              "      </script>\n",
              "    </div>\n",
              "  </div>\n",
              "  "
            ]
          },
          "metadata": {},
          "execution_count": 126
        }
      ]
    },
    {
      "cell_type": "code",
      "source": [
        "bins = [0, 50.0, 75.0, 100.0]\n",
        "labels = ['Vermelha', 'Amarela', 'Verde']\n",
        "\n",
        "colors_metascore = round(pd.cut(metascore, bins= bins, labels= labels, right= False).value_counts(normalize= True) * 100, 2)\n",
        "colors_metascore"
      ],
      "metadata": {
        "colab": {
          "base_uri": "https://localhost:8080/"
        },
        "id": "A_8Tsz6YzlW9",
        "outputId": "220152a6-d8af-446e-ca06-ba60c2f3e995"
      },
      "execution_count": 123,
      "outputs": [
        {
          "output_type": "execute_result",
          "data": {
            "text/plain": [
              "Verde       65.77\n",
              "Amarela     33.56\n",
              "Vermelha     0.67\n",
              "Name: metascore, dtype: float64"
            ]
          },
          "metadata": {},
          "execution_count": 123
        }
      ]
    },
    {
      "cell_type": "code",
      "source": [],
      "metadata": {
        "id": "u-soZFFTfBJV"
      },
      "execution_count": 47,
      "outputs": []
    }
  ]
}