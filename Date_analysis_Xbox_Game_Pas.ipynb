{
  "nbformat": 4,
  "nbformat_minor": 0,
  "metadata": {
    "colab": {
      "provenance": [],
      "authorship_tag": "ABX9TyOCkih7EFDiruZDy9aZ3Z/v",
      "include_colab_link": true
    },
    "kernelspec": {
      "name": "python3",
      "display_name": "Python 3"
    },
    "language_info": {
      "name": "python"
    }
  },
  "cells": [
    {
      "cell_type": "markdown",
      "metadata": {
        "id": "view-in-github",
        "colab_type": "text"
      },
      "source": [
        "<a href=\"https://colab.research.google.com/github/DamodaraBarbosa/xbox_game_pass_analisys/blob/main/Date_analysis_Xbox_Game_Pas.ipynb\" target=\"_parent\"><img src=\"https://colab.research.google.com/assets/colab-badge.svg\" alt=\"Open In Colab\"/></a>"
      ]
    },
    {
      "cell_type": "markdown",
      "source": [
        "Importando as bibliotecas"
      ],
      "metadata": {
        "id": "VIisyUy6ZQih"
      }
    },
    {
      "cell_type": "code",
      "execution_count": 28,
      "metadata": {
        "id": "FJGN7GfjY6dK"
      },
      "outputs": [],
      "source": [
        "import pandas as pd\n",
        "import matplotlib.pyplot as plt\n",
        "import seaborn as sns"
      ]
    },
    {
      "cell_type": "code",
      "source": [
        "sns.set()"
      ],
      "metadata": {
        "id": "8hH7h4qHm6vW"
      },
      "execution_count": 64,
      "outputs": []
    },
    {
      "cell_type": "markdown",
      "source": [
        "Parâmetros para o matplotlib.pyplot"
      ],
      "metadata": {
        "id": "fOpmtLs3ks-H"
      }
    },
    {
      "cell_type": "code",
      "source": [
        "plt.rcParams['figure.figsize'] = (18, 12)\n",
        "parametros = {'axes.labelsize': 25, 'axes.titlesize': 30}\n",
        "plt.rcParams.update(parametros)"
      ],
      "metadata": {
        "id": "FOwNLT5qk31_"
      },
      "execution_count": 48,
      "outputs": []
    },
    {
      "cell_type": "markdown",
      "source": [
        "Importando os dados do Xbox Game Pass"
      ],
      "metadata": {
        "id": "4BWMSSfDZnnh"
      }
    },
    {
      "cell_type": "code",
      "source": [
        "gamepass = pd.read_csv('/content/data_gamepass.csv')"
      ],
      "metadata": {
        "id": "AFaoJIWOZmQ4"
      },
      "execution_count": 12,
      "outputs": []
    },
    {
      "cell_type": "code",
      "source": [
        "gamepass.head()"
      ],
      "metadata": {
        "colab": {
          "base_uri": "https://localhost:8080/",
          "height": 438
        },
        "id": "HAjzNwJpZxE5",
        "outputId": "4ede41ed-592d-4c3d-e89c-2a8b5c183bb3"
      },
      "execution_count": 13,
      "outputs": [
        {
          "output_type": "execute_result",
          "data": {
            "text/plain": [
              "                       game     system       status release_date       added  \\\n",
              "0        PERSONA 3 PORTABLE  Xbox / PC  Coming Soon          NaN  2023-01-01   \n",
              "1          PERSONA 4 GOLDEN  Xbox / PC  Coming Soon          NaN  2023-01-01   \n",
              "2              HIGH ON LIFE  Xbox / PC  Coming Soon          NaN  2022-12-01   \n",
              "3          HELLO NEIGHBOR 2  Xbox / PC  Coming Soon          NaN  2022-12-01   \n",
              "4  WARHAMMER 40000 DARKTIDE  Xbox / PC  Coming Soon          NaN  2022-11-01   \n",
              "\n",
              "  removed                 genre       developer  publisher  esrb  ...  \\\n",
              "0     NaN          Role-Playing           Atlus       Sega     M  ...   \n",
              "1     NaN                   NaN           Atlus       Sega     M  ...   \n",
              "2     NaN  First-Person Shooter             NaN        NaN     M  ...   \n",
              "3     NaN     Strategy / Puzzle  Dynamic Pixels  TinyBuild  E10+  ...   \n",
              "4     NaN                Action        Fatshark   Fatshark    RP  ...   \n",
              "\n",
              "                              addons ta_score  gamerscore  ratio  gamers  \\\n",
              "0                               ['']      NaN         NaN    NaN     0.0   \n",
              "1                               ['']      NaN         NaN    NaN     0.0   \n",
              "2                                NaN      NaN         NaN    NaN     0.0   \n",
              "3                               ['']      NaN         NaN    NaN     0.0   \n",
              "4  ['Optimized for Xbox Series X/S']      NaN         NaN    NaN     0.0   \n",
              "\n",
              "   comp_%  comp_time  rating  metascore  userscore  \n",
              "0     0.0        NaN     NaN        NaN        NaN  \n",
              "1     0.0        NaN     NaN        NaN        NaN  \n",
              "2     0.0        NaN     NaN        NaN        NaN  \n",
              "3     0.0        NaN     NaN        NaN        NaN  \n",
              "4     0.0        NaN     NaN        NaN        NaN  \n",
              "\n",
              "[5 rows x 21 columns]"
            ],
            "text/html": [
              "\n",
              "  <div id=\"df-f0dca62c-4fd4-4091-b38f-8c5517329e70\">\n",
              "    <div class=\"colab-df-container\">\n",
              "      <div>\n",
              "<style scoped>\n",
              "    .dataframe tbody tr th:only-of-type {\n",
              "        vertical-align: middle;\n",
              "    }\n",
              "\n",
              "    .dataframe tbody tr th {\n",
              "        vertical-align: top;\n",
              "    }\n",
              "\n",
              "    .dataframe thead th {\n",
              "        text-align: right;\n",
              "    }\n",
              "</style>\n",
              "<table border=\"1\" class=\"dataframe\">\n",
              "  <thead>\n",
              "    <tr style=\"text-align: right;\">\n",
              "      <th></th>\n",
              "      <th>game</th>\n",
              "      <th>system</th>\n",
              "      <th>status</th>\n",
              "      <th>release_date</th>\n",
              "      <th>added</th>\n",
              "      <th>removed</th>\n",
              "      <th>genre</th>\n",
              "      <th>developer</th>\n",
              "      <th>publisher</th>\n",
              "      <th>esrb</th>\n",
              "      <th>...</th>\n",
              "      <th>addons</th>\n",
              "      <th>ta_score</th>\n",
              "      <th>gamerscore</th>\n",
              "      <th>ratio</th>\n",
              "      <th>gamers</th>\n",
              "      <th>comp_%</th>\n",
              "      <th>comp_time</th>\n",
              "      <th>rating</th>\n",
              "      <th>metascore</th>\n",
              "      <th>userscore</th>\n",
              "    </tr>\n",
              "  </thead>\n",
              "  <tbody>\n",
              "    <tr>\n",
              "      <th>0</th>\n",
              "      <td>PERSONA 3 PORTABLE</td>\n",
              "      <td>Xbox / PC</td>\n",
              "      <td>Coming Soon</td>\n",
              "      <td>NaN</td>\n",
              "      <td>2023-01-01</td>\n",
              "      <td>NaN</td>\n",
              "      <td>Role-Playing</td>\n",
              "      <td>Atlus</td>\n",
              "      <td>Sega</td>\n",
              "      <td>M</td>\n",
              "      <td>...</td>\n",
              "      <td>['']</td>\n",
              "      <td>NaN</td>\n",
              "      <td>NaN</td>\n",
              "      <td>NaN</td>\n",
              "      <td>0.0</td>\n",
              "      <td>0.0</td>\n",
              "      <td>NaN</td>\n",
              "      <td>NaN</td>\n",
              "      <td>NaN</td>\n",
              "      <td>NaN</td>\n",
              "    </tr>\n",
              "    <tr>\n",
              "      <th>1</th>\n",
              "      <td>PERSONA 4 GOLDEN</td>\n",
              "      <td>Xbox / PC</td>\n",
              "      <td>Coming Soon</td>\n",
              "      <td>NaN</td>\n",
              "      <td>2023-01-01</td>\n",
              "      <td>NaN</td>\n",
              "      <td>NaN</td>\n",
              "      <td>Atlus</td>\n",
              "      <td>Sega</td>\n",
              "      <td>M</td>\n",
              "      <td>...</td>\n",
              "      <td>['']</td>\n",
              "      <td>NaN</td>\n",
              "      <td>NaN</td>\n",
              "      <td>NaN</td>\n",
              "      <td>0.0</td>\n",
              "      <td>0.0</td>\n",
              "      <td>NaN</td>\n",
              "      <td>NaN</td>\n",
              "      <td>NaN</td>\n",
              "      <td>NaN</td>\n",
              "    </tr>\n",
              "    <tr>\n",
              "      <th>2</th>\n",
              "      <td>HIGH ON LIFE</td>\n",
              "      <td>Xbox / PC</td>\n",
              "      <td>Coming Soon</td>\n",
              "      <td>NaN</td>\n",
              "      <td>2022-12-01</td>\n",
              "      <td>NaN</td>\n",
              "      <td>First-Person Shooter</td>\n",
              "      <td>NaN</td>\n",
              "      <td>NaN</td>\n",
              "      <td>M</td>\n",
              "      <td>...</td>\n",
              "      <td>NaN</td>\n",
              "      <td>NaN</td>\n",
              "      <td>NaN</td>\n",
              "      <td>NaN</td>\n",
              "      <td>0.0</td>\n",
              "      <td>0.0</td>\n",
              "      <td>NaN</td>\n",
              "      <td>NaN</td>\n",
              "      <td>NaN</td>\n",
              "      <td>NaN</td>\n",
              "    </tr>\n",
              "    <tr>\n",
              "      <th>3</th>\n",
              "      <td>HELLO NEIGHBOR 2</td>\n",
              "      <td>Xbox / PC</td>\n",
              "      <td>Coming Soon</td>\n",
              "      <td>NaN</td>\n",
              "      <td>2022-12-01</td>\n",
              "      <td>NaN</td>\n",
              "      <td>Strategy / Puzzle</td>\n",
              "      <td>Dynamic Pixels</td>\n",
              "      <td>TinyBuild</td>\n",
              "      <td>E10+</td>\n",
              "      <td>...</td>\n",
              "      <td>['']</td>\n",
              "      <td>NaN</td>\n",
              "      <td>NaN</td>\n",
              "      <td>NaN</td>\n",
              "      <td>0.0</td>\n",
              "      <td>0.0</td>\n",
              "      <td>NaN</td>\n",
              "      <td>NaN</td>\n",
              "      <td>NaN</td>\n",
              "      <td>NaN</td>\n",
              "    </tr>\n",
              "    <tr>\n",
              "      <th>4</th>\n",
              "      <td>WARHAMMER 40000 DARKTIDE</td>\n",
              "      <td>Xbox / PC</td>\n",
              "      <td>Coming Soon</td>\n",
              "      <td>NaN</td>\n",
              "      <td>2022-11-01</td>\n",
              "      <td>NaN</td>\n",
              "      <td>Action</td>\n",
              "      <td>Fatshark</td>\n",
              "      <td>Fatshark</td>\n",
              "      <td>RP</td>\n",
              "      <td>...</td>\n",
              "      <td>['Optimized for Xbox Series X/S']</td>\n",
              "      <td>NaN</td>\n",
              "      <td>NaN</td>\n",
              "      <td>NaN</td>\n",
              "      <td>0.0</td>\n",
              "      <td>0.0</td>\n",
              "      <td>NaN</td>\n",
              "      <td>NaN</td>\n",
              "      <td>NaN</td>\n",
              "      <td>NaN</td>\n",
              "    </tr>\n",
              "  </tbody>\n",
              "</table>\n",
              "<p>5 rows × 21 columns</p>\n",
              "</div>\n",
              "      <button class=\"colab-df-convert\" onclick=\"convertToInteractive('df-f0dca62c-4fd4-4091-b38f-8c5517329e70')\"\n",
              "              title=\"Convert this dataframe to an interactive table.\"\n",
              "              style=\"display:none;\">\n",
              "        \n",
              "  <svg xmlns=\"http://www.w3.org/2000/svg\" height=\"24px\"viewBox=\"0 0 24 24\"\n",
              "       width=\"24px\">\n",
              "    <path d=\"M0 0h24v24H0V0z\" fill=\"none\"/>\n",
              "    <path d=\"M18.56 5.44l.94 2.06.94-2.06 2.06-.94-2.06-.94-.94-2.06-.94 2.06-2.06.94zm-11 1L8.5 8.5l.94-2.06 2.06-.94-2.06-.94L8.5 2.5l-.94 2.06-2.06.94zm10 10l.94 2.06.94-2.06 2.06-.94-2.06-.94-.94-2.06-.94 2.06-2.06.94z\"/><path d=\"M17.41 7.96l-1.37-1.37c-.4-.4-.92-.59-1.43-.59-.52 0-1.04.2-1.43.59L10.3 9.45l-7.72 7.72c-.78.78-.78 2.05 0 2.83L4 21.41c.39.39.9.59 1.41.59.51 0 1.02-.2 1.41-.59l7.78-7.78 2.81-2.81c.8-.78.8-2.07 0-2.86zM5.41 20L4 18.59l7.72-7.72 1.47 1.35L5.41 20z\"/>\n",
              "  </svg>\n",
              "      </button>\n",
              "      \n",
              "  <style>\n",
              "    .colab-df-container {\n",
              "      display:flex;\n",
              "      flex-wrap:wrap;\n",
              "      gap: 12px;\n",
              "    }\n",
              "\n",
              "    .colab-df-convert {\n",
              "      background-color: #E8F0FE;\n",
              "      border: none;\n",
              "      border-radius: 50%;\n",
              "      cursor: pointer;\n",
              "      display: none;\n",
              "      fill: #1967D2;\n",
              "      height: 32px;\n",
              "      padding: 0 0 0 0;\n",
              "      width: 32px;\n",
              "    }\n",
              "\n",
              "    .colab-df-convert:hover {\n",
              "      background-color: #E2EBFA;\n",
              "      box-shadow: 0px 1px 2px rgba(60, 64, 67, 0.3), 0px 1px 3px 1px rgba(60, 64, 67, 0.15);\n",
              "      fill: #174EA6;\n",
              "    }\n",
              "\n",
              "    [theme=dark] .colab-df-convert {\n",
              "      background-color: #3B4455;\n",
              "      fill: #D2E3FC;\n",
              "    }\n",
              "\n",
              "    [theme=dark] .colab-df-convert:hover {\n",
              "      background-color: #434B5C;\n",
              "      box-shadow: 0px 1px 3px 1px rgba(0, 0, 0, 0.15);\n",
              "      filter: drop-shadow(0px 1px 2px rgba(0, 0, 0, 0.3));\n",
              "      fill: #FFFFFF;\n",
              "    }\n",
              "  </style>\n",
              "\n",
              "      <script>\n",
              "        const buttonEl =\n",
              "          document.querySelector('#df-f0dca62c-4fd4-4091-b38f-8c5517329e70 button.colab-df-convert');\n",
              "        buttonEl.style.display =\n",
              "          google.colab.kernel.accessAllowed ? 'block' : 'none';\n",
              "\n",
              "        async function convertToInteractive(key) {\n",
              "          const element = document.querySelector('#df-f0dca62c-4fd4-4091-b38f-8c5517329e70');\n",
              "          const dataTable =\n",
              "            await google.colab.kernel.invokeFunction('convertToInteractive',\n",
              "                                                     [key], {});\n",
              "          if (!dataTable) return;\n",
              "\n",
              "          const docLinkHtml = 'Like what you see? Visit the ' +\n",
              "            '<a target=\"_blank\" href=https://colab.research.google.com/notebooks/data_table.ipynb>data table notebook</a>'\n",
              "            + ' to learn more about interactive tables.';\n",
              "          element.innerHTML = '';\n",
              "          dataTable['output_type'] = 'display_data';\n",
              "          await google.colab.output.renderOutput(dataTable, element);\n",
              "          const docLink = document.createElement('div');\n",
              "          docLink.innerHTML = docLinkHtml;\n",
              "          element.appendChild(docLink);\n",
              "        }\n",
              "      </script>\n",
              "    </div>\n",
              "  </div>\n",
              "  "
            ]
          },
          "metadata": {},
          "execution_count": 13
        }
      ]
    },
    {
      "cell_type": "code",
      "source": [
        "gamepass.info()"
      ],
      "metadata": {
        "colab": {
          "base_uri": "https://localhost:8080/"
        },
        "id": "gf66Sc4BZyGs",
        "outputId": "2d73fc1b-dbe3-4ed0-bd09-017b3ce1b944"
      },
      "execution_count": 14,
      "outputs": [
        {
          "output_type": "stream",
          "name": "stdout",
          "text": [
            "<class 'pandas.core.frame.DataFrame'>\n",
            "RangeIndex: 1197 entries, 0 to 1196\n",
            "Data columns (total 21 columns):\n",
            " #   Column        Non-Null Count  Dtype  \n",
            "---  ------        --------------  -----  \n",
            " 0   game          1197 non-null   object \n",
            " 1   system        1196 non-null   object \n",
            " 2   status        1196 non-null   object \n",
            " 3   release_date  753 non-null    object \n",
            " 4   added         1197 non-null   object \n",
            " 5   removed       646 non-null    object \n",
            " 6   genre         1192 non-null   object \n",
            " 7   developer     733 non-null    object \n",
            " 8   publisher     733 non-null    object \n",
            " 9   esrb          678 non-null    object \n",
            " 10  esrb content  594 non-null    object \n",
            " 11  addons        733 non-null    object \n",
            " 12  ta_score      906 non-null    float64\n",
            " 13  gamerscore    906 non-null    float64\n",
            " 14  ratio         905 non-null    float64\n",
            " 15  gamers        926 non-null    float64\n",
            " 16  comp_%        926 non-null    float64\n",
            " 17  comp_time     846 non-null    float64\n",
            " 18  rating        864 non-null    float64\n",
            " 19  metascore     745 non-null    float64\n",
            " 20  userscore     729 non-null    float64\n",
            "dtypes: float64(9), object(12)\n",
            "memory usage: 196.5+ KB\n"
          ]
        }
      ]
    },
    {
      "cell_type": "markdown",
      "source": [
        "# Tratamentos para as datas"
      ],
      "metadata": {
        "id": "yHDE9lddaNSt"
      }
    },
    {
      "cell_type": "code",
      "source": [
        "# os dados das colunas release date, added e removed devem ser convertidos para datetime:\n",
        "\n",
        "gamepass['release_date'] = pd.to_datetime(gamepass['release_date'])\n",
        "gamepass['added'] = pd.to_datetime(gamepass['added'])\n",
        "gamepass['removed'] = pd.to_datetime(gamepass['removed'])"
      ],
      "metadata": {
        "id": "w2aBZsNUZ1pV"
      },
      "execution_count": 15,
      "outputs": []
    },
    {
      "cell_type": "code",
      "source": [
        "gamepass.dtypes"
      ],
      "metadata": {
        "colab": {
          "base_uri": "https://localhost:8080/"
        },
        "id": "sU-6xs2tb653",
        "outputId": "24efc7d6-7573-4806-8efc-4f123f8a040b"
      },
      "execution_count": 16,
      "outputs": [
        {
          "output_type": "execute_result",
          "data": {
            "text/plain": [
              "game                    object\n",
              "system                  object\n",
              "status                  object\n",
              "release_date    datetime64[ns]\n",
              "added           datetime64[ns]\n",
              "removed         datetime64[ns]\n",
              "genre                   object\n",
              "developer               object\n",
              "publisher               object\n",
              "esrb                    object\n",
              "esrb content            object\n",
              "addons                  object\n",
              "ta_score               float64\n",
              "gamerscore             float64\n",
              "ratio                  float64\n",
              "gamers                 float64\n",
              "comp_%                 float64\n",
              "comp_time              float64\n",
              "rating                 float64\n",
              "metascore              float64\n",
              "userscore              float64\n",
              "dtype: object"
            ]
          },
          "metadata": {},
          "execution_count": 16
        }
      ]
    },
    {
      "cell_type": "code",
      "source": [
        "# devido a natureza da análise, que é basicamente em relação as datas dos jogos, trata-se o dataframe para que apenas\n",
        "# as colunas relacionadas a datas sejam parte da base de dados:\n",
        "\n",
        "gamepass = gamepass[['game', 'release_date', 'added', 'removed']]\n",
        "gamepass.head()"
      ],
      "metadata": {
        "colab": {
          "base_uri": "https://localhost:8080/",
          "height": 206
        },
        "id": "H7ex-Qhhb_KC",
        "outputId": "398cae65-d9d5-4a45-c87a-8397978f29b5"
      },
      "execution_count": 17,
      "outputs": [
        {
          "output_type": "execute_result",
          "data": {
            "text/plain": [
              "                       game release_date      added removed\n",
              "0        PERSONA 3 PORTABLE          NaT 2023-01-01     NaT\n",
              "1          PERSONA 4 GOLDEN          NaT 2023-01-01     NaT\n",
              "2              HIGH ON LIFE          NaT 2022-12-01     NaT\n",
              "3          HELLO NEIGHBOR 2          NaT 2022-12-01     NaT\n",
              "4  WARHAMMER 40000 DARKTIDE          NaT 2022-11-01     NaT"
            ],
            "text/html": [
              "\n",
              "  <div id=\"df-44648efc-f296-481d-9160-2b99065f14af\">\n",
              "    <div class=\"colab-df-container\">\n",
              "      <div>\n",
              "<style scoped>\n",
              "    .dataframe tbody tr th:only-of-type {\n",
              "        vertical-align: middle;\n",
              "    }\n",
              "\n",
              "    .dataframe tbody tr th {\n",
              "        vertical-align: top;\n",
              "    }\n",
              "\n",
              "    .dataframe thead th {\n",
              "        text-align: right;\n",
              "    }\n",
              "</style>\n",
              "<table border=\"1\" class=\"dataframe\">\n",
              "  <thead>\n",
              "    <tr style=\"text-align: right;\">\n",
              "      <th></th>\n",
              "      <th>game</th>\n",
              "      <th>release_date</th>\n",
              "      <th>added</th>\n",
              "      <th>removed</th>\n",
              "    </tr>\n",
              "  </thead>\n",
              "  <tbody>\n",
              "    <tr>\n",
              "      <th>0</th>\n",
              "      <td>PERSONA 3 PORTABLE</td>\n",
              "      <td>NaT</td>\n",
              "      <td>2023-01-01</td>\n",
              "      <td>NaT</td>\n",
              "    </tr>\n",
              "    <tr>\n",
              "      <th>1</th>\n",
              "      <td>PERSONA 4 GOLDEN</td>\n",
              "      <td>NaT</td>\n",
              "      <td>2023-01-01</td>\n",
              "      <td>NaT</td>\n",
              "    </tr>\n",
              "    <tr>\n",
              "      <th>2</th>\n",
              "      <td>HIGH ON LIFE</td>\n",
              "      <td>NaT</td>\n",
              "      <td>2022-12-01</td>\n",
              "      <td>NaT</td>\n",
              "    </tr>\n",
              "    <tr>\n",
              "      <th>3</th>\n",
              "      <td>HELLO NEIGHBOR 2</td>\n",
              "      <td>NaT</td>\n",
              "      <td>2022-12-01</td>\n",
              "      <td>NaT</td>\n",
              "    </tr>\n",
              "    <tr>\n",
              "      <th>4</th>\n",
              "      <td>WARHAMMER 40000 DARKTIDE</td>\n",
              "      <td>NaT</td>\n",
              "      <td>2022-11-01</td>\n",
              "      <td>NaT</td>\n",
              "    </tr>\n",
              "  </tbody>\n",
              "</table>\n",
              "</div>\n",
              "      <button class=\"colab-df-convert\" onclick=\"convertToInteractive('df-44648efc-f296-481d-9160-2b99065f14af')\"\n",
              "              title=\"Convert this dataframe to an interactive table.\"\n",
              "              style=\"display:none;\">\n",
              "        \n",
              "  <svg xmlns=\"http://www.w3.org/2000/svg\" height=\"24px\"viewBox=\"0 0 24 24\"\n",
              "       width=\"24px\">\n",
              "    <path d=\"M0 0h24v24H0V0z\" fill=\"none\"/>\n",
              "    <path d=\"M18.56 5.44l.94 2.06.94-2.06 2.06-.94-2.06-.94-.94-2.06-.94 2.06-2.06.94zm-11 1L8.5 8.5l.94-2.06 2.06-.94-2.06-.94L8.5 2.5l-.94 2.06-2.06.94zm10 10l.94 2.06.94-2.06 2.06-.94-2.06-.94-.94-2.06-.94 2.06-2.06.94z\"/><path d=\"M17.41 7.96l-1.37-1.37c-.4-.4-.92-.59-1.43-.59-.52 0-1.04.2-1.43.59L10.3 9.45l-7.72 7.72c-.78.78-.78 2.05 0 2.83L4 21.41c.39.39.9.59 1.41.59.51 0 1.02-.2 1.41-.59l7.78-7.78 2.81-2.81c.8-.78.8-2.07 0-2.86zM5.41 20L4 18.59l7.72-7.72 1.47 1.35L5.41 20z\"/>\n",
              "  </svg>\n",
              "      </button>\n",
              "      \n",
              "  <style>\n",
              "    .colab-df-container {\n",
              "      display:flex;\n",
              "      flex-wrap:wrap;\n",
              "      gap: 12px;\n",
              "    }\n",
              "\n",
              "    .colab-df-convert {\n",
              "      background-color: #E8F0FE;\n",
              "      border: none;\n",
              "      border-radius: 50%;\n",
              "      cursor: pointer;\n",
              "      display: none;\n",
              "      fill: #1967D2;\n",
              "      height: 32px;\n",
              "      padding: 0 0 0 0;\n",
              "      width: 32px;\n",
              "    }\n",
              "\n",
              "    .colab-df-convert:hover {\n",
              "      background-color: #E2EBFA;\n",
              "      box-shadow: 0px 1px 2px rgba(60, 64, 67, 0.3), 0px 1px 3px 1px rgba(60, 64, 67, 0.15);\n",
              "      fill: #174EA6;\n",
              "    }\n",
              "\n",
              "    [theme=dark] .colab-df-convert {\n",
              "      background-color: #3B4455;\n",
              "      fill: #D2E3FC;\n",
              "    }\n",
              "\n",
              "    [theme=dark] .colab-df-convert:hover {\n",
              "      background-color: #434B5C;\n",
              "      box-shadow: 0px 1px 3px 1px rgba(0, 0, 0, 0.15);\n",
              "      filter: drop-shadow(0px 1px 2px rgba(0, 0, 0, 0.3));\n",
              "      fill: #FFFFFF;\n",
              "    }\n",
              "  </style>\n",
              "\n",
              "      <script>\n",
              "        const buttonEl =\n",
              "          document.querySelector('#df-44648efc-f296-481d-9160-2b99065f14af button.colab-df-convert');\n",
              "        buttonEl.style.display =\n",
              "          google.colab.kernel.accessAllowed ? 'block' : 'none';\n",
              "\n",
              "        async function convertToInteractive(key) {\n",
              "          const element = document.querySelector('#df-44648efc-f296-481d-9160-2b99065f14af');\n",
              "          const dataTable =\n",
              "            await google.colab.kernel.invokeFunction('convertToInteractive',\n",
              "                                                     [key], {});\n",
              "          if (!dataTable) return;\n",
              "\n",
              "          const docLinkHtml = 'Like what you see? Visit the ' +\n",
              "            '<a target=\"_blank\" href=https://colab.research.google.com/notebooks/data_table.ipynb>data table notebook</a>'\n",
              "            + ' to learn more about interactive tables.';\n",
              "          element.innerHTML = '';\n",
              "          dataTable['output_type'] = 'display_data';\n",
              "          await google.colab.output.renderOutput(dataTable, element);\n",
              "          const docLink = document.createElement('div');\n",
              "          docLink.innerHTML = docLinkHtml;\n",
              "          element.appendChild(docLink);\n",
              "        }\n",
              "      </script>\n",
              "    </div>\n",
              "  </div>\n",
              "  "
            ]
          },
          "metadata": {},
          "execution_count": 17
        }
      ]
    },
    {
      "cell_type": "markdown",
      "source": [
        "## Definindo novas colunas derivadas dos dados da base"
      ],
      "metadata": {
        "id": "eupG0JtMct7c"
      }
    },
    {
      "cell_type": "code",
      "source": [
        "# coluna com o tempo em dias que os jogos levaram para serem adicionados ao Game Pass após o seu lançamento:\n",
        "\n",
        "gamepass['insert_time'] = (gamepass['added'] - gamepass['release_date']).dt.days"
      ],
      "metadata": {
        "id": "2edGHf9rcZxM"
      },
      "execution_count": 32,
      "outputs": []
    },
    {
      "cell_type": "code",
      "source": [
        "# coluna com o tempo em dias para que os jogos fossem removidos do serviço:\n",
        "\n",
        "gamepass['remove_time'] = (gamepass['removed'] - gamepass['added']).dt.days"
      ],
      "metadata": {
        "id": "UQy0AEQGdLkP"
      },
      "execution_count": 33,
      "outputs": []
    },
    {
      "cell_type": "code",
      "source": [
        "# coluna com o mês em que os jogos foram inseridos no Game Pass:\n",
        "\n",
        "gamepass['insert_month'] = gamepass['added'].dt.month"
      ],
      "metadata": {
        "id": "6XlCn9yge6ug"
      },
      "execution_count": 36,
      "outputs": []
    },
    {
      "cell_type": "code",
      "source": [
        "# coluna com o mês em que os jogos foram removidos do Game Pass:\n",
        "\n",
        "gamepass['remove_month'] = gamepass['removed'].dt.month"
      ],
      "metadata": {
        "id": "71ypmu6Mijmn"
      },
      "execution_count": 38,
      "outputs": []
    },
    {
      "cell_type": "code",
      "source": [
        " # coluna com o ano em que os jogos foram inseridos no Game Pass:\n",
        "\n",
        "gamepass['insert_year'] = gamepass['added'].dt.year"
      ],
      "metadata": {
        "id": "iwL0ll6ejO8M"
      },
      "execution_count": 41,
      "outputs": []
    },
    {
      "cell_type": "code",
      "source": [
        "# coluna com o ano em que os jogos foram removidos do Game Pass:\n",
        "\n",
        "gamepass['remove_year'] = gamepass['removed'].dt.year"
      ],
      "metadata": {
        "id": "Rw_mf1Rgil02"
      },
      "execution_count": 42,
      "outputs": []
    },
    {
      "cell_type": "code",
      "source": [
        "# visualizando o dataframe:\n",
        "\n",
        "gamepass"
      ],
      "metadata": {
        "colab": {
          "base_uri": "https://localhost:8080/",
          "height": 748
        },
        "id": "UgAye8qKjnzj",
        "outputId": "012d7cab-0a39-4b6e-fc2b-57d432eed05d"
      },
      "execution_count": 43,
      "outputs": [
        {
          "output_type": "execute_result",
          "data": {
            "text/plain": [
              "                                         game release_date      added  \\\n",
              "0                          PERSONA 3 PORTABLE          NaT 2023-01-01   \n",
              "1                            PERSONA 4 GOLDEN          NaT 2023-01-01   \n",
              "2                                HIGH ON LIFE          NaT 2022-12-01   \n",
              "3                            HELLO NEIGHBOR 2          NaT 2022-12-01   \n",
              "4                    WARHAMMER 40000 DARKTIDE          NaT 2022-11-01   \n",
              "...                                       ...          ...        ...   \n",
              "1192                                  STRIDER   2014-02-19 2017-06-01   \n",
              "1193          VIRTUA FIGHTER 5 FINAL SHOWDOWN   2012-06-06 2017-06-01   \n",
              "1194                                 WWE 2K16   2015-10-27 2017-06-01   \n",
              "1195                                 NBA 2K16   2015-09-25 2017-06-01   \n",
              "1196  DUNGEONS  DRAGONS CHRONICLES OF MYSTARA   2013-06-19 2017-06-01   \n",
              "\n",
              "        removed  insert_time  remove_time  insert_month  remove_month  \\\n",
              "0           NaT          NaN          NaN             1           NaN   \n",
              "1           NaT          NaN          NaN             1           NaN   \n",
              "2           NaT          NaN          NaN            12           NaN   \n",
              "3           NaT          NaN          NaN            12           NaN   \n",
              "4           NaT          NaN          NaN            11           NaN   \n",
              "...         ...          ...          ...           ...           ...   \n",
              "1192 2018-03-01       1198.0        273.0             6           3.0   \n",
              "1193 2018-03-01       1821.0        273.0             6           3.0   \n",
              "1194 2018-01-01        583.0        214.0             6           1.0   \n",
              "1195 2017-12-01        615.0        183.0             6          12.0   \n",
              "1196 2017-08-01       1443.0         61.0             6           8.0   \n",
              "\n",
              "      insert_year  remove_year  \n",
              "0            2023          NaN  \n",
              "1            2023          NaN  \n",
              "2            2022          NaN  \n",
              "3            2022          NaN  \n",
              "4            2022          NaN  \n",
              "...           ...          ...  \n",
              "1192         2017       2018.0  \n",
              "1193         2017       2018.0  \n",
              "1194         2017       2018.0  \n",
              "1195         2017       2017.0  \n",
              "1196         2017       2017.0  \n",
              "\n",
              "[1197 rows x 10 columns]"
            ],
            "text/html": [
              "\n",
              "  <div id=\"df-c914753a-ed76-4a33-988d-0305cd6d3f24\">\n",
              "    <div class=\"colab-df-container\">\n",
              "      <div>\n",
              "<style scoped>\n",
              "    .dataframe tbody tr th:only-of-type {\n",
              "        vertical-align: middle;\n",
              "    }\n",
              "\n",
              "    .dataframe tbody tr th {\n",
              "        vertical-align: top;\n",
              "    }\n",
              "\n",
              "    .dataframe thead th {\n",
              "        text-align: right;\n",
              "    }\n",
              "</style>\n",
              "<table border=\"1\" class=\"dataframe\">\n",
              "  <thead>\n",
              "    <tr style=\"text-align: right;\">\n",
              "      <th></th>\n",
              "      <th>game</th>\n",
              "      <th>release_date</th>\n",
              "      <th>added</th>\n",
              "      <th>removed</th>\n",
              "      <th>insert_time</th>\n",
              "      <th>remove_time</th>\n",
              "      <th>insert_month</th>\n",
              "      <th>remove_month</th>\n",
              "      <th>insert_year</th>\n",
              "      <th>remove_year</th>\n",
              "    </tr>\n",
              "  </thead>\n",
              "  <tbody>\n",
              "    <tr>\n",
              "      <th>0</th>\n",
              "      <td>PERSONA 3 PORTABLE</td>\n",
              "      <td>NaT</td>\n",
              "      <td>2023-01-01</td>\n",
              "      <td>NaT</td>\n",
              "      <td>NaN</td>\n",
              "      <td>NaN</td>\n",
              "      <td>1</td>\n",
              "      <td>NaN</td>\n",
              "      <td>2023</td>\n",
              "      <td>NaN</td>\n",
              "    </tr>\n",
              "    <tr>\n",
              "      <th>1</th>\n",
              "      <td>PERSONA 4 GOLDEN</td>\n",
              "      <td>NaT</td>\n",
              "      <td>2023-01-01</td>\n",
              "      <td>NaT</td>\n",
              "      <td>NaN</td>\n",
              "      <td>NaN</td>\n",
              "      <td>1</td>\n",
              "      <td>NaN</td>\n",
              "      <td>2023</td>\n",
              "      <td>NaN</td>\n",
              "    </tr>\n",
              "    <tr>\n",
              "      <th>2</th>\n",
              "      <td>HIGH ON LIFE</td>\n",
              "      <td>NaT</td>\n",
              "      <td>2022-12-01</td>\n",
              "      <td>NaT</td>\n",
              "      <td>NaN</td>\n",
              "      <td>NaN</td>\n",
              "      <td>12</td>\n",
              "      <td>NaN</td>\n",
              "      <td>2022</td>\n",
              "      <td>NaN</td>\n",
              "    </tr>\n",
              "    <tr>\n",
              "      <th>3</th>\n",
              "      <td>HELLO NEIGHBOR 2</td>\n",
              "      <td>NaT</td>\n",
              "      <td>2022-12-01</td>\n",
              "      <td>NaT</td>\n",
              "      <td>NaN</td>\n",
              "      <td>NaN</td>\n",
              "      <td>12</td>\n",
              "      <td>NaN</td>\n",
              "      <td>2022</td>\n",
              "      <td>NaN</td>\n",
              "    </tr>\n",
              "    <tr>\n",
              "      <th>4</th>\n",
              "      <td>WARHAMMER 40000 DARKTIDE</td>\n",
              "      <td>NaT</td>\n",
              "      <td>2022-11-01</td>\n",
              "      <td>NaT</td>\n",
              "      <td>NaN</td>\n",
              "      <td>NaN</td>\n",
              "      <td>11</td>\n",
              "      <td>NaN</td>\n",
              "      <td>2022</td>\n",
              "      <td>NaN</td>\n",
              "    </tr>\n",
              "    <tr>\n",
              "      <th>...</th>\n",
              "      <td>...</td>\n",
              "      <td>...</td>\n",
              "      <td>...</td>\n",
              "      <td>...</td>\n",
              "      <td>...</td>\n",
              "      <td>...</td>\n",
              "      <td>...</td>\n",
              "      <td>...</td>\n",
              "      <td>...</td>\n",
              "      <td>...</td>\n",
              "    </tr>\n",
              "    <tr>\n",
              "      <th>1192</th>\n",
              "      <td>STRIDER</td>\n",
              "      <td>2014-02-19</td>\n",
              "      <td>2017-06-01</td>\n",
              "      <td>2018-03-01</td>\n",
              "      <td>1198.0</td>\n",
              "      <td>273.0</td>\n",
              "      <td>6</td>\n",
              "      <td>3.0</td>\n",
              "      <td>2017</td>\n",
              "      <td>2018.0</td>\n",
              "    </tr>\n",
              "    <tr>\n",
              "      <th>1193</th>\n",
              "      <td>VIRTUA FIGHTER 5 FINAL SHOWDOWN</td>\n",
              "      <td>2012-06-06</td>\n",
              "      <td>2017-06-01</td>\n",
              "      <td>2018-03-01</td>\n",
              "      <td>1821.0</td>\n",
              "      <td>273.0</td>\n",
              "      <td>6</td>\n",
              "      <td>3.0</td>\n",
              "      <td>2017</td>\n",
              "      <td>2018.0</td>\n",
              "    </tr>\n",
              "    <tr>\n",
              "      <th>1194</th>\n",
              "      <td>WWE 2K16</td>\n",
              "      <td>2015-10-27</td>\n",
              "      <td>2017-06-01</td>\n",
              "      <td>2018-01-01</td>\n",
              "      <td>583.0</td>\n",
              "      <td>214.0</td>\n",
              "      <td>6</td>\n",
              "      <td>1.0</td>\n",
              "      <td>2017</td>\n",
              "      <td>2018.0</td>\n",
              "    </tr>\n",
              "    <tr>\n",
              "      <th>1195</th>\n",
              "      <td>NBA 2K16</td>\n",
              "      <td>2015-09-25</td>\n",
              "      <td>2017-06-01</td>\n",
              "      <td>2017-12-01</td>\n",
              "      <td>615.0</td>\n",
              "      <td>183.0</td>\n",
              "      <td>6</td>\n",
              "      <td>12.0</td>\n",
              "      <td>2017</td>\n",
              "      <td>2017.0</td>\n",
              "    </tr>\n",
              "    <tr>\n",
              "      <th>1196</th>\n",
              "      <td>DUNGEONS  DRAGONS CHRONICLES OF MYSTARA</td>\n",
              "      <td>2013-06-19</td>\n",
              "      <td>2017-06-01</td>\n",
              "      <td>2017-08-01</td>\n",
              "      <td>1443.0</td>\n",
              "      <td>61.0</td>\n",
              "      <td>6</td>\n",
              "      <td>8.0</td>\n",
              "      <td>2017</td>\n",
              "      <td>2017.0</td>\n",
              "    </tr>\n",
              "  </tbody>\n",
              "</table>\n",
              "<p>1197 rows × 10 columns</p>\n",
              "</div>\n",
              "      <button class=\"colab-df-convert\" onclick=\"convertToInteractive('df-c914753a-ed76-4a33-988d-0305cd6d3f24')\"\n",
              "              title=\"Convert this dataframe to an interactive table.\"\n",
              "              style=\"display:none;\">\n",
              "        \n",
              "  <svg xmlns=\"http://www.w3.org/2000/svg\" height=\"24px\"viewBox=\"0 0 24 24\"\n",
              "       width=\"24px\">\n",
              "    <path d=\"M0 0h24v24H0V0z\" fill=\"none\"/>\n",
              "    <path d=\"M18.56 5.44l.94 2.06.94-2.06 2.06-.94-2.06-.94-.94-2.06-.94 2.06-2.06.94zm-11 1L8.5 8.5l.94-2.06 2.06-.94-2.06-.94L8.5 2.5l-.94 2.06-2.06.94zm10 10l.94 2.06.94-2.06 2.06-.94-2.06-.94-.94-2.06-.94 2.06-2.06.94z\"/><path d=\"M17.41 7.96l-1.37-1.37c-.4-.4-.92-.59-1.43-.59-.52 0-1.04.2-1.43.59L10.3 9.45l-7.72 7.72c-.78.78-.78 2.05 0 2.83L4 21.41c.39.39.9.59 1.41.59.51 0 1.02-.2 1.41-.59l7.78-7.78 2.81-2.81c.8-.78.8-2.07 0-2.86zM5.41 20L4 18.59l7.72-7.72 1.47 1.35L5.41 20z\"/>\n",
              "  </svg>\n",
              "      </button>\n",
              "      \n",
              "  <style>\n",
              "    .colab-df-container {\n",
              "      display:flex;\n",
              "      flex-wrap:wrap;\n",
              "      gap: 12px;\n",
              "    }\n",
              "\n",
              "    .colab-df-convert {\n",
              "      background-color: #E8F0FE;\n",
              "      border: none;\n",
              "      border-radius: 50%;\n",
              "      cursor: pointer;\n",
              "      display: none;\n",
              "      fill: #1967D2;\n",
              "      height: 32px;\n",
              "      padding: 0 0 0 0;\n",
              "      width: 32px;\n",
              "    }\n",
              "\n",
              "    .colab-df-convert:hover {\n",
              "      background-color: #E2EBFA;\n",
              "      box-shadow: 0px 1px 2px rgba(60, 64, 67, 0.3), 0px 1px 3px 1px rgba(60, 64, 67, 0.15);\n",
              "      fill: #174EA6;\n",
              "    }\n",
              "\n",
              "    [theme=dark] .colab-df-convert {\n",
              "      background-color: #3B4455;\n",
              "      fill: #D2E3FC;\n",
              "    }\n",
              "\n",
              "    [theme=dark] .colab-df-convert:hover {\n",
              "      background-color: #434B5C;\n",
              "      box-shadow: 0px 1px 3px 1px rgba(0, 0, 0, 0.15);\n",
              "      filter: drop-shadow(0px 1px 2px rgba(0, 0, 0, 0.3));\n",
              "      fill: #FFFFFF;\n",
              "    }\n",
              "  </style>\n",
              "\n",
              "      <script>\n",
              "        const buttonEl =\n",
              "          document.querySelector('#df-c914753a-ed76-4a33-988d-0305cd6d3f24 button.colab-df-convert');\n",
              "        buttonEl.style.display =\n",
              "          google.colab.kernel.accessAllowed ? 'block' : 'none';\n",
              "\n",
              "        async function convertToInteractive(key) {\n",
              "          const element = document.querySelector('#df-c914753a-ed76-4a33-988d-0305cd6d3f24');\n",
              "          const dataTable =\n",
              "            await google.colab.kernel.invokeFunction('convertToInteractive',\n",
              "                                                     [key], {});\n",
              "          if (!dataTable) return;\n",
              "\n",
              "          const docLinkHtml = 'Like what you see? Visit the ' +\n",
              "            '<a target=\"_blank\" href=https://colab.research.google.com/notebooks/data_table.ipynb>data table notebook</a>'\n",
              "            + ' to learn more about interactive tables.';\n",
              "          element.innerHTML = '';\n",
              "          dataTable['output_type'] = 'display_data';\n",
              "          await google.colab.output.renderOutput(dataTable, element);\n",
              "          const docLink = document.createElement('div');\n",
              "          docLink.innerHTML = docLinkHtml;\n",
              "          element.appendChild(docLink);\n",
              "        }\n",
              "      </script>\n",
              "    </div>\n",
              "  </div>\n",
              "  "
            ]
          },
          "metadata": {},
          "execution_count": 43
        }
      ]
    },
    {
      "cell_type": "markdown",
      "source": [
        "# Análises "
      ],
      "metadata": {
        "id": "RaRozRZkj12R"
      }
    },
    {
      "cell_type": "markdown",
      "source": [
        "## Anos"
      ],
      "metadata": {
        "id": "yWs2Fbfsj4oE"
      }
    },
    {
      "cell_type": "code",
      "source": [
        "# quantidade de jogos adicionados por ano:\n",
        "\n",
        "games_insert_per_year = gamepass['insert_year'].value_counts()\n",
        "games_insert_per_year"
      ],
      "metadata": {
        "colab": {
          "base_uri": "https://localhost:8080/"
        },
        "id": "e0gnBXQLj33b",
        "outputId": "5486e954-5291-4699-9853-cfca46bd671d"
      },
      "execution_count": 54,
      "outputs": [
        {
          "output_type": "execute_result",
          "data": {
            "text/plain": [
              "2021    266\n",
              "2020    264\n",
              "2019    205\n",
              "2022    181\n",
              "2017    163\n",
              "2018    116\n",
              "2023      2\n",
              "Name: insert_year, dtype: int64"
            ]
          },
          "metadata": {},
          "execution_count": 54
        }
      ]
    },
    {
      "cell_type": "code",
      "source": [
        "plt.bar(games_insert_per_year.keys(), games_insert_per_year.values, color= 'g')\n",
        "plt.show()"
      ],
      "metadata": {
        "colab": {
          "base_uri": "https://localhost:8080/",
          "height": 634
        },
        "id": "qDfFMN6_m_QB",
        "outputId": "28eacc09-8357-431e-8358-a8d45804d27a"
      },
      "execution_count": 68,
      "outputs": [
        {
          "output_type": "display_data",
          "data": {
            "text/plain": [
              "<Figure size 1296x864 with 1 Axes>"
            ],
            "image/png": "[encoded data removed]"
          },
          "metadata": {}
        }
      ]
    },
    {
      "cell_type": "code",
      "source": [
        "# média, mediana para os jogos inseridos por ano:\n",
        "\n",
        "pd.DataFrame({'Média': games_insert_per_year.mean(),\n",
        "              'Mediana': games_insert_per_year.median()},\n",
        "             index= [0])"
      ],
      "metadata": {
        "colab": {
          "base_uri": "https://localhost:8080/",
          "height": 81
        },
        "id": "kn0VaY_ukVc8",
        "outputId": "7d134945-1b31-4333-966b-b1fe31dd7479"
      },
      "execution_count": 59,
      "outputs": [
        {
          "output_type": "execute_result",
          "data": {
            "text/plain": [
              "   Média  Mediana\n",
              "0  171.0    181.0"
            ],
            "text/html": [
              "\n",
              "  <div id=\"df-1f79c917-147b-42fb-9486-e38a3cbce2d5\">\n",
              "    <div class=\"colab-df-container\">\n",
              "      <div>\n",
              "<style scoped>\n",
              "    .dataframe tbody tr th:only-of-type {\n",
              "        vertical-align: middle;\n",
              "    }\n",
              "\n",
              "    .dataframe tbody tr th {\n",
              "        vertical-align: top;\n",
              "    }\n",
              "\n",
              "    .dataframe thead th {\n",
              "        text-align: right;\n",
              "    }\n",
              "</style>\n",
              "<table border=\"1\" class=\"dataframe\">\n",
              "  <thead>\n",
              "    <tr style=\"text-align: right;\">\n",
              "      <th></th>\n",
              "      <th>Média</th>\n",
              "      <th>Mediana</th>\n",
              "    </tr>\n",
              "  </thead>\n",
              "  <tbody>\n",
              "    <tr>\n",
              "      <th>0</th>\n",
              "      <td>171.0</td>\n",
              "      <td>181.0</td>\n",
              "    </tr>\n",
              "  </tbody>\n",
              "</table>\n",
              "</div>\n",
              "      <button class=\"colab-df-convert\" onclick=\"convertToInteractive('df-1f79c917-147b-42fb-9486-e38a3cbce2d5')\"\n",
              "              title=\"Convert this dataframe to an interactive table.\"\n",
              "              style=\"display:none;\">\n",
              "        \n",
              "  <svg xmlns=\"http://www.w3.org/2000/svg\" height=\"24px\"viewBox=\"0 0 24 24\"\n",
              "       width=\"24px\">\n",
              "    <path d=\"M0 0h24v24H0V0z\" fill=\"none\"/>\n",
              "    <path d=\"M18.56 5.44l.94 2.06.94-2.06 2.06-.94-2.06-.94-.94-2.06-.94 2.06-2.06.94zm-11 1L8.5 8.5l.94-2.06 2.06-.94-2.06-.94L8.5 2.5l-.94 2.06-2.06.94zm10 10l.94 2.06.94-2.06 2.06-.94-2.06-.94-.94-2.06-.94 2.06-2.06.94z\"/><path d=\"M17.41 7.96l-1.37-1.37c-.4-.4-.92-.59-1.43-.59-.52 0-1.04.2-1.43.59L10.3 9.45l-7.72 7.72c-.78.78-.78 2.05 0 2.83L4 21.41c.39.39.9.59 1.41.59.51 0 1.02-.2 1.41-.59l7.78-7.78 2.81-2.81c.8-.78.8-2.07 0-2.86zM5.41 20L4 18.59l7.72-7.72 1.47 1.35L5.41 20z\"/>\n",
              "  </svg>\n",
              "      </button>\n",
              "      \n",
              "  <style>\n",
              "    .colab-df-container {\n",
              "      display:flex;\n",
              "      flex-wrap:wrap;\n",
              "      gap: 12px;\n",
              "    }\n",
              "\n",
              "    .colab-df-convert {\n",
              "      background-color: #E8F0FE;\n",
              "      border: none;\n",
              "      border-radius: 50%;\n",
              "      cursor: pointer;\n",
              "      display: none;\n",
              "      fill: #1967D2;\n",
              "      height: 32px;\n",
              "      padding: 0 0 0 0;\n",
              "      width: 32px;\n",
              "    }\n",
              "\n",
              "    .colab-df-convert:hover {\n",
              "      background-color: #E2EBFA;\n",
              "      box-shadow: 0px 1px 2px rgba(60, 64, 67, 0.3), 0px 1px 3px 1px rgba(60, 64, 67, 0.15);\n",
              "      fill: #174EA6;\n",
              "    }\n",
              "\n",
              "    [theme=dark] .colab-df-convert {\n",
              "      background-color: #3B4455;\n",
              "      fill: #D2E3FC;\n",
              "    }\n",
              "\n",
              "    [theme=dark] .colab-df-convert:hover {\n",
              "      background-color: #434B5C;\n",
              "      box-shadow: 0px 1px 3px 1px rgba(0, 0, 0, 0.15);\n",
              "      filter: drop-shadow(0px 1px 2px rgba(0, 0, 0, 0.3));\n",
              "      fill: #FFFFFF;\n",
              "    }\n",
              "  </style>\n",
              "\n",
              "      <script>\n",
              "        const buttonEl =\n",
              "          document.querySelector('#df-1f79c917-147b-42fb-9486-e38a3cbce2d5 button.colab-df-convert');\n",
              "        buttonEl.style.display =\n",
              "          google.colab.kernel.accessAllowed ? 'block' : 'none';\n",
              "\n",
              "        async function convertToInteractive(key) {\n",
              "          const element = document.querySelector('#df-1f79c917-147b-42fb-9486-e38a3cbce2d5');\n",
              "          const dataTable =\n",
              "            await google.colab.kernel.invokeFunction('convertToInteractive',\n",
              "                                                     [key], {});\n",
              "          if (!dataTable) return;\n",
              "\n",
              "          const docLinkHtml = 'Like what you see? Visit the ' +\n",
              "            '<a target=\"_blank\" href=https://colab.research.google.com/notebooks/data_table.ipynb>data table notebook</a>'\n",
              "            + ' to learn more about interactive tables.';\n",
              "          element.innerHTML = '';\n",
              "          dataTable['output_type'] = 'display_data';\n",
              "          await google.colab.output.renderOutput(dataTable, element);\n",
              "          const docLink = document.createElement('div');\n",
              "          docLink.innerHTML = docLinkHtml;\n",
              "          element.appendChild(docLink);\n",
              "        }\n",
              "      </script>\n",
              "    </div>\n",
              "  </div>\n",
              "  "
            ]
          },
          "metadata": {},
          "execution_count": 59
        }
      ]
    },
    {
      "cell_type": "code",
      "source": [
        "pd.DataFrame({'Desvio padrão': games_insert_per_year.std()}, index= [0])"
      ],
      "metadata": {
        "colab": {
          "base_uri": "https://localhost:8080/",
          "height": 81
        },
        "id": "LlPiG2stlHRP",
        "outputId": "ec595d8c-fa27-47c2-85b2-657a3d1f05a1"
      },
      "execution_count": 62,
      "outputs": [
        {
          "output_type": "execute_result",
          "data": {
            "text/plain": [
              "   Desvio padrão\n",
              "0      91.815031"
            ],
            "text/html": [
              "\n",
              "  <div id=\"df-855e67a7-8c80-49ef-804b-56e9d7ce614b\">\n",
              "    <div class=\"colab-df-container\">\n",
              "      <div>\n",
              "<style scoped>\n",
              "    .dataframe tbody tr th:only-of-type {\n",
              "        vertical-align: middle;\n",
              "    }\n",
              "\n",
              "    .dataframe tbody tr th {\n",
              "        vertical-align: top;\n",
              "    }\n",
              "\n",
              "    .dataframe thead th {\n",
              "        text-align: right;\n",
              "    }\n",
              "</style>\n",
              "<table border=\"1\" class=\"dataframe\">\n",
              "  <thead>\n",
              "    <tr style=\"text-align: right;\">\n",
              "      <th></th>\n",
              "      <th>Desvio padrão</th>\n",
              "    </tr>\n",
              "  </thead>\n",
              "  <tbody>\n",
              "    <tr>\n",
              "      <th>0</th>\n",
              "      <td>91.815031</td>\n",
              "    </tr>\n",
              "  </tbody>\n",
              "</table>\n",
              "</div>\n",
              "      <button class=\"colab-df-convert\" onclick=\"convertToInteractive('df-855e67a7-8c80-49ef-804b-56e9d7ce614b')\"\n",
              "              title=\"Convert this dataframe to an interactive table.\"\n",
              "              style=\"display:none;\">\n",
              "        \n",
              "  <svg xmlns=\"http://www.w3.org/2000/svg\" height=\"24px\"viewBox=\"0 0 24 24\"\n",
              "       width=\"24px\">\n",
              "    <path d=\"M0 0h24v24H0V0z\" fill=\"none\"/>\n",
              "    <path d=\"M18.56 5.44l.94 2.06.94-2.06 2.06-.94-2.06-.94-.94-2.06-.94 2.06-2.06.94zm-11 1L8.5 8.5l.94-2.06 2.06-.94-2.06-.94L8.5 2.5l-.94 2.06-2.06.94zm10 10l.94 2.06.94-2.06 2.06-.94-2.06-.94-.94-2.06-.94 2.06-2.06.94z\"/><path d=\"M17.41 7.96l-1.37-1.37c-.4-.4-.92-.59-1.43-.59-.52 0-1.04.2-1.43.59L10.3 9.45l-7.72 7.72c-.78.78-.78 2.05 0 2.83L4 21.41c.39.39.9.59 1.41.59.51 0 1.02-.2 1.41-.59l7.78-7.78 2.81-2.81c.8-.78.8-2.07 0-2.86zM5.41 20L4 18.59l7.72-7.72 1.47 1.35L5.41 20z\"/>\n",
              "  </svg>\n",
              "      </button>\n",
              "      \n",
              "  <style>\n",
              "    .colab-df-container {\n",
              "      display:flex;\n",
              "      flex-wrap:wrap;\n",
              "      gap: 12px;\n",
              "    }\n",
              "\n",
              "    .colab-df-convert {\n",
              "      background-color: #E8F0FE;\n",
              "      border: none;\n",
              "      border-radius: 50%;\n",
              "      cursor: pointer;\n",
              "      display: none;\n",
              "      fill: #1967D2;\n",
              "      height: 32px;\n",
              "      padding: 0 0 0 0;\n",
              "      width: 32px;\n",
              "    }\n",
              "\n",
              "    .colab-df-convert:hover {\n",
              "      background-color: #E2EBFA;\n",
              "      box-shadow: 0px 1px 2px rgba(60, 64, 67, 0.3), 0px 1px 3px 1px rgba(60, 64, 67, 0.15);\n",
              "      fill: #174EA6;\n",
              "    }\n",
              "\n",
              "    [theme=dark] .colab-df-convert {\n",
              "      background-color: #3B4455;\n",
              "      fill: #D2E3FC;\n",
              "    }\n",
              "\n",
              "    [theme=dark] .colab-df-convert:hover {\n",
              "      background-color: #434B5C;\n",
              "      box-shadow: 0px 1px 3px 1px rgba(0, 0, 0, 0.15);\n",
              "      filter: drop-shadow(0px 1px 2px rgba(0, 0, 0, 0.3));\n",
              "      fill: #FFFFFF;\n",
              "    }\n",
              "  </style>\n",
              "\n",
              "      <script>\n",
              "        const buttonEl =\n",
              "          document.querySelector('#df-855e67a7-8c80-49ef-804b-56e9d7ce614b button.colab-df-convert');\n",
              "        buttonEl.style.display =\n",
              "          google.colab.kernel.accessAllowed ? 'block' : 'none';\n",
              "\n",
              "        async function convertToInteractive(key) {\n",
              "          const element = document.querySelector('#df-855e67a7-8c80-49ef-804b-56e9d7ce614b');\n",
              "          const dataTable =\n",
              "            await google.colab.kernel.invokeFunction('convertToInteractive',\n",
              "                                                     [key], {});\n",
              "          if (!dataTable) return;\n",
              "\n",
              "          const docLinkHtml = 'Like what you see? Visit the ' +\n",
              "            '<a target=\"_blank\" href=https://colab.research.google.com/notebooks/data_table.ipynb>data table notebook</a>'\n",
              "            + ' to learn more about interactive tables.';\n",
              "          element.innerHTML = '';\n",
              "          dataTable['output_type'] = 'display_data';\n",
              "          await google.colab.output.renderOutput(dataTable, element);\n",
              "          const docLink = document.createElement('div');\n",
              "          docLink.innerHTML = docLinkHtml;\n",
              "          element.appendChild(docLink);\n",
              "        }\n",
              "      </script>\n",
              "    </div>\n",
              "  </div>\n",
              "  "
            ]
          },
          "metadata": {},
          "execution_count": 62
        }
      ]
    },
    {
      "cell_type": "code",
      "source": [
        "# quantidade de jogos removidos por ano:\n",
        "\n",
        "games_removed_per_year = gamepass['remove_year'].value_counts()\n",
        "games_removed_per_year"
      ],
      "metadata": {
        "colab": {
          "base_uri": "https://localhost:8080/"
        },
        "id": "jGjfXuh3mooZ",
        "outputId": "0e6173a8-4465-4377-d024-d8cb5f309363"
      },
      "execution_count": 69,
      "outputs": [
        {
          "output_type": "execute_result",
          "data": {
            "text/plain": [
              "2021.0    179\n",
              "2022.0    137\n",
              "2020.0    134\n",
              "2019.0    115\n",
              "2018.0     79\n",
              "2017.0      2\n",
              "Name: remove_year, dtype: int64"
            ]
          },
          "metadata": {},
          "execution_count": 69
        }
      ]
    },
    {
      "cell_type": "code",
      "source": [
        "plt.bar(games_removed_per_year.keys(), games_removed_per_year.values, color= 'r')\n",
        "plt.show()"
      ],
      "metadata": {
        "colab": {
          "base_uri": "https://localhost:8080/",
          "height": 634
        },
        "id": "ktls1BjNnrB4",
        "outputId": "51ccca27-6d33-41fb-b216-64c56bd821ed"
      },
      "execution_count": 71,
      "outputs": [
        {
          "output_type": "display_data",
          "data": {
            "text/plain": [
              "<Figure size 1296x864 with 1 Axes>"
            ],
            "image/png": "[encoded data removed]"
          },
          "metadata": {}
        }
      ]
    },
    {
      "cell_type": "code",
      "source": [],
      "metadata": {
        "id": "THvFcKa3oYhp"
      },
      "execution_count": null,
      "outputs": []
    }
  ]
}